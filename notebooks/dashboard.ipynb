{
  "cells": [
    {
      "cell_type": "markdown",
      "metadata": {
        "id": "bIwma1g8Ahh8"
      },
      "source": [
        "# Dashboard do Projeto"
      ]
    },
    {
      "cell_type": "markdown",
      "metadata": {
        "id": "jKYLva89AjxJ",
        "jp-MarkdownHeadingCollapsed": true
      },
      "source": [
        "## Dependências"
      ]
    },
    {
      "cell_type": "code",
      "execution_count": 1,
      "metadata": {
        "colab": {
          "base_uri": "https://localhost:8080/"
        },
        "id": "CbMGp4BP37ce",
        "outputId": "bb8d1e2d-bdae-403c-bf53-74b1b8ad476b"
      },
      "outputs": [
        {
          "name": "stdout",
          "output_type": "stream",
          "text": [
            "Defaulting to user installation because normal site-packages is not writeable\n",
            "Requirement already satisfied: dash in c:\\anaconda3\\lib\\site-packages (2.14.2)\n",
            "Requirement already satisfied: Flask<3.1,>=1.0.4 in c:\\anaconda3\\lib\\site-packages (from dash) (3.0.3)\n",
            "Requirement already satisfied: Werkzeug<3.1 in c:\\anaconda3\\lib\\site-packages (from dash) (3.0.3)\n",
            "Requirement already satisfied: plotly>=5.0.0 in c:\\anaconda3\\lib\\site-packages (from dash) (5.19.0)\n",
            "Requirement already satisfied: typing-extensions>=4.1.1 in c:\\anaconda3\\lib\\site-packages (from dash) (4.11.0)\n",
            "Requirement already satisfied: requests in c:\\anaconda3\\lib\\site-packages (from dash) (2.32.2)\n",
            "Requirement already satisfied: retrying in c:\\anaconda3\\lib\\site-packages (from dash) (1.3.3)\n",
            "Requirement already satisfied: ansi2html in c:\\anaconda3\\lib\\site-packages (from dash) (1.9.1)\n",
            "Requirement already satisfied: nest-asyncio in c:\\anaconda3\\lib\\site-packages (from dash) (1.6.0)\n",
            "Requirement already satisfied: setuptools in c:\\anaconda3\\lib\\site-packages (from dash) (69.5.1)\n",
            "Requirement already satisfied: importlib-metadata in c:\\anaconda3\\lib\\site-packages (from dash) (4.13.0)\n",
            "Requirement already satisfied: Jinja2>=3.1.2 in c:\\users\\patsr\\appdata\\roaming\\python\\python39\\site-packages (from Flask<3.1,>=1.0.4->dash) (3.1.4)\n",
            "Requirement already satisfied: itsdangerous>=2.1.2 in c:\\anaconda3\\lib\\site-packages (from Flask<3.1,>=1.0.4->dash) (2.2.0)\n",
            "Requirement already satisfied: click>=8.1.3 in c:\\users\\patsr\\appdata\\roaming\\python\\python39\\site-packages (from Flask<3.1,>=1.0.4->dash) (8.1.7)\n",
            "Requirement already satisfied: blinker>=1.6.2 in c:\\anaconda3\\lib\\site-packages (from Flask<3.1,>=1.0.4->dash) (1.6.2)\n",
            "Requirement already satisfied: zipp>=0.5 in c:\\anaconda3\\lib\\site-packages (from importlib-metadata->dash) (3.17.0)\n",
            "Requirement already satisfied: tenacity>=6.2.0 in c:\\anaconda3\\lib\\site-packages (from plotly>=5.0.0->dash) (8.2.2)\n",
            "Requirement already satisfied: packaging in c:\\anaconda3\\lib\\site-packages (from plotly>=5.0.0->dash) (23.2)\n",
            "Requirement already satisfied: MarkupSafe>=2.1.1 in c:\\anaconda3\\lib\\site-packages (from Werkzeug<3.1->dash) (2.1.3)\n",
            "Requirement already satisfied: charset-normalizer<4,>=2 in c:\\anaconda3\\lib\\site-packages (from requests->dash) (2.0.4)\n",
            "Requirement already satisfied: idna<4,>=2.5 in c:\\anaconda3\\lib\\site-packages (from requests->dash) (3.7)\n",
            "Requirement already satisfied: urllib3<3,>=1.21.1 in c:\\anaconda3\\lib\\site-packages (from requests->dash) (2.2.1)\n",
            "Requirement already satisfied: certifi>=2017.4.17 in c:\\anaconda3\\lib\\site-packages (from requests->dash) (2024.7.4)\n",
            "Requirement already satisfied: six>=1.7.0 in c:\\anaconda3\\lib\\site-packages (from retrying->dash) (1.16.0)\n",
            "Requirement already satisfied: colorama in c:\\anaconda3\\lib\\site-packages (from click>=8.1.3->Flask<3.1,>=1.0.4->dash) (0.4.6)\n",
            "Defaulting to user installation because normal site-packages is not writeable\n",
            "Requirement already satisfied: dash-bootstrap-components in c:\\anaconda3\\lib\\site-packages (1.2.1)\n",
            "Requirement already satisfied: dash>=2.0.0 in c:\\anaconda3\\lib\\site-packages (from dash-bootstrap-components) (2.14.2)\n",
            "Requirement already satisfied: Flask<3.1,>=1.0.4 in c:\\anaconda3\\lib\\site-packages (from dash>=2.0.0->dash-bootstrap-components) (3.0.3)\n",
            "Requirement already satisfied: Werkzeug<3.1 in c:\\anaconda3\\lib\\site-packages (from dash>=2.0.0->dash-bootstrap-components) (3.0.3)\n",
            "Requirement already satisfied: plotly>=5.0.0 in c:\\anaconda3\\lib\\site-packages (from dash>=2.0.0->dash-bootstrap-components) (5.19.0)\n",
            "Requirement already satisfied: typing-extensions>=4.1.1 in c:\\anaconda3\\lib\\site-packages (from dash>=2.0.0->dash-bootstrap-components) (4.11.0)\n",
            "Requirement already satisfied: requests in c:\\anaconda3\\lib\\site-packages (from dash>=2.0.0->dash-bootstrap-components) (2.32.2)\n",
            "Requirement already satisfied: retrying in c:\\anaconda3\\lib\\site-packages (from dash>=2.0.0->dash-bootstrap-components) (1.3.3)\n",
            "Requirement already satisfied: ansi2html in c:\\anaconda3\\lib\\site-packages (from dash>=2.0.0->dash-bootstrap-components) (1.9.1)\n",
            "Requirement already satisfied: nest-asyncio in c:\\anaconda3\\lib\\site-packages (from dash>=2.0.0->dash-bootstrap-components) (1.6.0)\n",
            "Requirement already satisfied: setuptools in c:\\anaconda3\\lib\\site-packages (from dash>=2.0.0->dash-bootstrap-components) (69.5.1)\n",
            "Requirement already satisfied: importlib-metadata in c:\\anaconda3\\lib\\site-packages (from dash>=2.0.0->dash-bootstrap-components) (4.13.0)\n",
            "Requirement already satisfied: Jinja2>=3.1.2 in c:\\users\\patsr\\appdata\\roaming\\python\\python39\\site-packages (from Flask<3.1,>=1.0.4->dash>=2.0.0->dash-bootstrap-components) (3.1.4)\n",
            "Requirement already satisfied: itsdangerous>=2.1.2 in c:\\anaconda3\\lib\\site-packages (from Flask<3.1,>=1.0.4->dash>=2.0.0->dash-bootstrap-components) (2.2.0)\n",
            "Requirement already satisfied: click>=8.1.3 in c:\\users\\patsr\\appdata\\roaming\\python\\python39\\site-packages (from Flask<3.1,>=1.0.4->dash>=2.0.0->dash-bootstrap-components) (8.1.7)\n",
            "Requirement already satisfied: blinker>=1.6.2 in c:\\anaconda3\\lib\\site-packages (from Flask<3.1,>=1.0.4->dash>=2.0.0->dash-bootstrap-components) (1.6.2)\n",
            "Requirement already satisfied: zipp>=0.5 in c:\\anaconda3\\lib\\site-packages (from importlib-metadata->dash>=2.0.0->dash-bootstrap-components) (3.17.0)\n",
            "Requirement already satisfied: tenacity>=6.2.0 in c:\\anaconda3\\lib\\site-packages (from plotly>=5.0.0->dash>=2.0.0->dash-bootstrap-components) (8.2.2)\n",
            "Requirement already satisfied: packaging in c:\\anaconda3\\lib\\site-packages (from plotly>=5.0.0->dash>=2.0.0->dash-bootstrap-components) (23.2)\n",
            "Requirement already satisfied: MarkupSafe>=2.1.1 in c:\\anaconda3\\lib\\site-packages (from Werkzeug<3.1->dash>=2.0.0->dash-bootstrap-components) (2.1.3)\n",
            "Requirement already satisfied: charset-normalizer<4,>=2 in c:\\anaconda3\\lib\\site-packages (from requests->dash>=2.0.0->dash-bootstrap-components) (2.0.4)\n",
            "Requirement already satisfied: idna<4,>=2.5 in c:\\anaconda3\\lib\\site-packages (from requests->dash>=2.0.0->dash-bootstrap-components) (3.7)\n",
            "Requirement already satisfied: urllib3<3,>=1.21.1 in c:\\anaconda3\\lib\\site-packages (from requests->dash>=2.0.0->dash-bootstrap-components) (2.2.1)\n",
            "Requirement already satisfied: certifi>=2017.4.17 in c:\\anaconda3\\lib\\site-packages (from requests->dash>=2.0.0->dash-bootstrap-components) (2024.7.4)\n",
            "Requirement already satisfied: six>=1.7.0 in c:\\anaconda3\\lib\\site-packages (from retrying->dash>=2.0.0->dash-bootstrap-components) (1.16.0)\n",
            "Requirement already satisfied: colorama in c:\\anaconda3\\lib\\site-packages (from click>=8.1.3->Flask<3.1,>=1.0.4->dash>=2.0.0->dash-bootstrap-components) (0.4.6)\n",
            "Defaulting to user installation because normal site-packages is not writeable\n",
            "Requirement already satisfied: ucimlrepo in c:\\users\\patsr\\appdata\\roaming\\python\\python39\\site-packages (0.0.7)\n",
            "Requirement already satisfied: pandas>=1.0.0 in c:\\anaconda3\\lib\\site-packages (from ucimlrepo) (1.5.3)\n",
            "Requirement already satisfied: certifi>=2020.12.5 in c:\\anaconda3\\lib\\site-packages (from ucimlrepo) (2024.7.4)\n",
            "Requirement already satisfied: python-dateutil>=2.8.1 in c:\\anaconda3\\lib\\site-packages (from pandas>=1.0.0->ucimlrepo) (2.9.0.post0)\n",
            "Requirement already satisfied: pytz>=2020.1 in c:\\anaconda3\\lib\\site-packages (from pandas>=1.0.0->ucimlrepo) (2024.1)\n",
            "Requirement already satisfied: numpy>=1.20.3 in c:\\anaconda3\\lib\\site-packages (from pandas>=1.0.0->ucimlrepo) (1.26.4)\n",
            "Requirement already satisfied: six>=1.5 in c:\\anaconda3\\lib\\site-packages (from python-dateutil>=2.8.1->pandas>=1.0.0->ucimlrepo) (1.16.0)\n"
          ]
        }
      ],
      "source": [
        "!pip install dash\n",
        "!pip install dash-bootstrap-components\n",
        "!pip install ucimlrepo"
      ]
    },
    {
      "cell_type": "code",
      "execution_count": 2,
      "metadata": {
        "id": "9NS8aUyGBALk"
      },
      "outputs": [],
      "source": [
        "import dash\n",
        "from dash import dcc, html\n",
        "from dash.dependencies import Input, Output\n",
        "import dash_bootstrap_components as dbc\n",
        "\n",
        "import plotly.express as px\n",
        "import plotly.graph_objects as go\n",
        "from scipy.stats import gaussian_kde\n",
        "\n",
        "import numpy as np\n",
        "import pandas as pd\n",
        "\n",
        "import plotly.graph_objects as go\n",
        "import plotly.io as pio\n",
        "\n",
        "pio.templates.default = \"plotly\"\n",
        "pio.templates[\"plotly\"][\"layout\"][\"font\"] = dict(family=\"Fira Code, sans-serif\", size=14, color=\"#050609\")\n"
      ]
    },
    {
      "cell_type": "markdown",
      "metadata": {
        "id": "Hnir0UtsAuTO",
        "jp-MarkdownHeadingCollapsed": true
      },
      "source": [
        "## Dataset\n",
        "\n",
        "- Tranformando target em saída binária."
      ]
    },
    {
      "cell_type": "code",
      "execution_count": 3,
      "metadata": {
        "id": "xHwfwhG1M-zB"
      },
      "outputs": [],
      "source": [
        "from ucimlrepo import fetch_ucirepo\n",
        "\n",
        "# fetch dataset\n",
        "dados = fetch_ucirepo(id=45)\n",
        "\n",
        "df = dados.data.features\n",
        "label = dados.data.targets\n",
        "\n",
        "df['target'] = label\n",
        "\n",
        "# Transformar todos os valores maiores ou iguais a 1 em 1 na coluna 'target'\n",
        "df['target'] = df['target'].apply(lambda x: 1 if x >= 1 else 0)"
      ]
    },
    {
      "cell_type": "code",
      "execution_count": 4,
      "metadata": {
        "id": "NbpRSXbqCzSu"
      },
      "outputs": [],
      "source": [
        "#color_pal = ['#1E4D6B', '#00A896', '#FF6B6B', '#FFD166']\n",
        "\n",
        "\n",
        "# preto, branco, grenish, vermelho, amarelo\n",
        "color_pal = ['#050609', '#FAF7F0', '#959672', '#D9230F', '#93C572']"
      ]
    },
    {
      "cell_type": "markdown",
      "metadata": {
        "id": "FmVgc3RECLsW",
        "jp-MarkdownHeadingCollapsed": true
      },
      "source": [
        "# Variáveis"
      ]
    },
    {
      "cell_type": "code",
      "execution_count": 5,
      "metadata": {
        "id": "M0OQ76lCwS48"
      },
      "outputs": [],
      "source": [
        "target_map = {\n",
        "    0: 'Ausência',\n",
        "    1: 'Presença'\n",
        "}\n",
        "\n",
        "df['target_labels'] = df['target'].map(target_map)"
      ]
    },
    {
      "cell_type": "markdown",
      "metadata": {
        "id": "HkGI92LxCNS_"
      },
      "source": [
        "### CP"
      ]
    },
    {
      "cell_type": "code",
      "execution_count": 6,
      "metadata": {
        "colab": {
          "base_uri": "https://localhost:8080/",
          "height": 542
        },
        "id": "e-OPC1TjNPY_",
        "outputId": "12184a68-ccb8-4dec-90aa-b662bc8d1a2d"
      },
      "outputs": [
        {
          "data": {
            "application/vnd.plotly.v1+json": {
              "config": {
                "plotlyServerURL": "https://plot.ly"
              },
              "data": [
                {
                  "customdata": [
                    [
                      "Angina Atípica"
                    ],
                    [
                      "Angina Típica"
                    ],
                    [
                      "Assintomático"
                    ],
                    [
                      "Dor não Anginosa"
                    ]
                  ],
                  "domain": {
                    "x": [
                      0,
                      1
                    ],
                    "y": [
                      0,
                      1
                    ]
                  },
                  "hovertemplate": "Tipo de Angina=%{customdata[0]}<br>Núm Pacientes=%{value}<extra></extra>",
                  "labels": [
                    "Angina Atípica",
                    "Angina Típica",
                    "Assintomático",
                    "Dor não Anginosa"
                  ],
                  "legendgroup": "",
                  "marker": {
                    "colors": [
                      "#959672",
                      "#050609",
                      "#93C572",
                      "#D9230F"
                    ]
                  },
                  "name": "",
                  "showlegend": true,
                  "type": "pie",
                  "values": [
                    50,
                    23,
                    144,
                    86
                  ]
                }
              ],
              "layout": {
                "font": {
                  "color": "#050609",
                  "family": "Fira Code, sans-serif",
                  "size": 12
                },
                "legend": {
                  "orientation": "h",
                  "title": {
                    "text": "Dor no peito:"
                  },
                  "tracegroupgap": 0,
                  "x": 0.5,
                  "xanchor": "center"
                },
                "margin": {
                  "t": 60
                },
                "template": {
                  "data": {
                    "bar": [
                      {
                        "error_x": {
                          "color": "#2a3f5f"
                        },
                        "error_y": {
                          "color": "#2a3f5f"
                        },
                        "marker": {
                          "line": {
                            "color": "#E5ECF6",
                            "width": 0.5
                          },
                          "pattern": {
                            "fillmode": "overlay",
                            "size": 10,
                            "solidity": 0.2
                          }
                        },
                        "type": "bar"
                      }
                    ],
                    "barpolar": [
                      {
                        "marker": {
                          "line": {
                            "color": "#E5ECF6",
                            "width": 0.5
                          },
                          "pattern": {
                            "fillmode": "overlay",
                            "size": 10,
                            "solidity": 0.2
                          }
                        },
                        "type": "barpolar"
                      }
                    ],
                    "carpet": [
                      {
                        "aaxis": {
                          "endlinecolor": "#2a3f5f",
                          "gridcolor": "white",
                          "linecolor": "white",
                          "minorgridcolor": "white",
                          "startlinecolor": "#2a3f5f"
                        },
                        "baxis": {
                          "endlinecolor": "#2a3f5f",
                          "gridcolor": "white",
                          "linecolor": "white",
                          "minorgridcolor": "white",
                          "startlinecolor": "#2a3f5f"
                        },
                        "type": "carpet"
                      }
                    ],
                    "choropleth": [
                      {
                        "colorbar": {
                          "outlinewidth": 0,
                          "ticks": ""
                        },
                        "type": "choropleth"
                      }
                    ],
                    "contour": [
                      {
                        "colorbar": {
                          "outlinewidth": 0,
                          "ticks": ""
                        },
                        "colorscale": [
                          [
                            0,
                            "#0d0887"
                          ],
                          [
                            0.1111111111111111,
                            "#46039f"
                          ],
                          [
                            0.2222222222222222,
                            "#7201a8"
                          ],
                          [
                            0.3333333333333333,
                            "#9c179e"
                          ],
                          [
                            0.4444444444444444,
                            "#bd3786"
                          ],
                          [
                            0.5555555555555556,
                            "#d8576b"
                          ],
                          [
                            0.6666666666666666,
                            "#ed7953"
                          ],
                          [
                            0.7777777777777778,
                            "#fb9f3a"
                          ],
                          [
                            0.8888888888888888,
                            "#fdca26"
                          ],
                          [
                            1,
                            "#f0f921"
                          ]
                        ],
                        "type": "contour"
                      }
                    ],
                    "contourcarpet": [
                      {
                        "colorbar": {
                          "outlinewidth": 0,
                          "ticks": ""
                        },
                        "type": "contourcarpet"
                      }
                    ],
                    "heatmap": [
                      {
                        "colorbar": {
                          "outlinewidth": 0,
                          "ticks": ""
                        },
                        "colorscale": [
                          [
                            0,
                            "#0d0887"
                          ],
                          [
                            0.1111111111111111,
                            "#46039f"
                          ],
                          [
                            0.2222222222222222,
                            "#7201a8"
                          ],
                          [
                            0.3333333333333333,
                            "#9c179e"
                          ],
                          [
                            0.4444444444444444,
                            "#bd3786"
                          ],
                          [
                            0.5555555555555556,
                            "#d8576b"
                          ],
                          [
                            0.6666666666666666,
                            "#ed7953"
                          ],
                          [
                            0.7777777777777778,
                            "#fb9f3a"
                          ],
                          [
                            0.8888888888888888,
                            "#fdca26"
                          ],
                          [
                            1,
                            "#f0f921"
                          ]
                        ],
                        "type": "heatmap"
                      }
                    ],
                    "heatmapgl": [
                      {
                        "colorbar": {
                          "outlinewidth": 0,
                          "ticks": ""
                        },
                        "colorscale": [
                          [
                            0,
                            "#0d0887"
                          ],
                          [
                            0.1111111111111111,
                            "#46039f"
                          ],
                          [
                            0.2222222222222222,
                            "#7201a8"
                          ],
                          [
                            0.3333333333333333,
                            "#9c179e"
                          ],
                          [
                            0.4444444444444444,
                            "#bd3786"
                          ],
                          [
                            0.5555555555555556,
                            "#d8576b"
                          ],
                          [
                            0.6666666666666666,
                            "#ed7953"
                          ],
                          [
                            0.7777777777777778,
                            "#fb9f3a"
                          ],
                          [
                            0.8888888888888888,
                            "#fdca26"
                          ],
                          [
                            1,
                            "#f0f921"
                          ]
                        ],
                        "type": "heatmapgl"
                      }
                    ],
                    "histogram": [
                      {
                        "marker": {
                          "pattern": {
                            "fillmode": "overlay",
                            "size": 10,
                            "solidity": 0.2
                          }
                        },
                        "type": "histogram"
                      }
                    ],
                    "histogram2d": [
                      {
                        "colorbar": {
                          "outlinewidth": 0,
                          "ticks": ""
                        },
                        "colorscale": [
                          [
                            0,
                            "#0d0887"
                          ],
                          [
                            0.1111111111111111,
                            "#46039f"
                          ],
                          [
                            0.2222222222222222,
                            "#7201a8"
                          ],
                          [
                            0.3333333333333333,
                            "#9c179e"
                          ],
                          [
                            0.4444444444444444,
                            "#bd3786"
                          ],
                          [
                            0.5555555555555556,
                            "#d8576b"
                          ],
                          [
                            0.6666666666666666,
                            "#ed7953"
                          ],
                          [
                            0.7777777777777778,
                            "#fb9f3a"
                          ],
                          [
                            0.8888888888888888,
                            "#fdca26"
                          ],
                          [
                            1,
                            "#f0f921"
                          ]
                        ],
                        "type": "histogram2d"
                      }
                    ],
                    "histogram2dcontour": [
                      {
                        "colorbar": {
                          "outlinewidth": 0,
                          "ticks": ""
                        },
                        "colorscale": [
                          [
                            0,
                            "#0d0887"
                          ],
                          [
                            0.1111111111111111,
                            "#46039f"
                          ],
                          [
                            0.2222222222222222,
                            "#7201a8"
                          ],
                          [
                            0.3333333333333333,
                            "#9c179e"
                          ],
                          [
                            0.4444444444444444,
                            "#bd3786"
                          ],
                          [
                            0.5555555555555556,
                            "#d8576b"
                          ],
                          [
                            0.6666666666666666,
                            "#ed7953"
                          ],
                          [
                            0.7777777777777778,
                            "#fb9f3a"
                          ],
                          [
                            0.8888888888888888,
                            "#fdca26"
                          ],
                          [
                            1,
                            "#f0f921"
                          ]
                        ],
                        "type": "histogram2dcontour"
                      }
                    ],
                    "mesh3d": [
                      {
                        "colorbar": {
                          "outlinewidth": 0,
                          "ticks": ""
                        },
                        "type": "mesh3d"
                      }
                    ],
                    "parcoords": [
                      {
                        "line": {
                          "colorbar": {
                            "outlinewidth": 0,
                            "ticks": ""
                          }
                        },
                        "type": "parcoords"
                      }
                    ],
                    "pie": [
                      {
                        "automargin": true,
                        "type": "pie"
                      }
                    ],
                    "scatter": [
                      {
                        "fillpattern": {
                          "fillmode": "overlay",
                          "size": 10,
                          "solidity": 0.2
                        },
                        "type": "scatter"
                      }
                    ],
                    "scatter3d": [
                      {
                        "line": {
                          "colorbar": {
                            "outlinewidth": 0,
                            "ticks": ""
                          }
                        },
                        "marker": {
                          "colorbar": {
                            "outlinewidth": 0,
                            "ticks": ""
                          }
                        },
                        "type": "scatter3d"
                      }
                    ],
                    "scattercarpet": [
                      {
                        "marker": {
                          "colorbar": {
                            "outlinewidth": 0,
                            "ticks": ""
                          }
                        },
                        "type": "scattercarpet"
                      }
                    ],
                    "scattergeo": [
                      {
                        "marker": {
                          "colorbar": {
                            "outlinewidth": 0,
                            "ticks": ""
                          }
                        },
                        "type": "scattergeo"
                      }
                    ],
                    "scattergl": [
                      {
                        "marker": {
                          "colorbar": {
                            "outlinewidth": 0,
                            "ticks": ""
                          }
                        },
                        "type": "scattergl"
                      }
                    ],
                    "scattermapbox": [
                      {
                        "marker": {
                          "colorbar": {
                            "outlinewidth": 0,
                            "ticks": ""
                          }
                        },
                        "type": "scattermapbox"
                      }
                    ],
                    "scatterpolar": [
                      {
                        "marker": {
                          "colorbar": {
                            "outlinewidth": 0,
                            "ticks": ""
                          }
                        },
                        "type": "scatterpolar"
                      }
                    ],
                    "scatterpolargl": [
                      {
                        "marker": {
                          "colorbar": {
                            "outlinewidth": 0,
                            "ticks": ""
                          }
                        },
                        "type": "scatterpolargl"
                      }
                    ],
                    "scatterternary": [
                      {
                        "marker": {
                          "colorbar": {
                            "outlinewidth": 0,
                            "ticks": ""
                          }
                        },
                        "type": "scatterternary"
                      }
                    ],
                    "surface": [
                      {
                        "colorbar": {
                          "outlinewidth": 0,
                          "ticks": ""
                        },
                        "colorscale": [
                          [
                            0,
                            "#0d0887"
                          ],
                          [
                            0.1111111111111111,
                            "#46039f"
                          ],
                          [
                            0.2222222222222222,
                            "#7201a8"
                          ],
                          [
                            0.3333333333333333,
                            "#9c179e"
                          ],
                          [
                            0.4444444444444444,
                            "#bd3786"
                          ],
                          [
                            0.5555555555555556,
                            "#d8576b"
                          ],
                          [
                            0.6666666666666666,
                            "#ed7953"
                          ],
                          [
                            0.7777777777777778,
                            "#fb9f3a"
                          ],
                          [
                            0.8888888888888888,
                            "#fdca26"
                          ],
                          [
                            1,
                            "#f0f921"
                          ]
                        ],
                        "type": "surface"
                      }
                    ],
                    "table": [
                      {
                        "cells": {
                          "fill": {
                            "color": "#EBF0F8"
                          },
                          "line": {
                            "color": "white"
                          }
                        },
                        "header": {
                          "fill": {
                            "color": "#C8D4E3"
                          },
                          "line": {
                            "color": "white"
                          }
                        },
                        "type": "table"
                      }
                    ]
                  },
                  "layout": {
                    "annotationdefaults": {
                      "arrowcolor": "#2a3f5f",
                      "arrowhead": 0,
                      "arrowwidth": 1
                    },
                    "autotypenumbers": "strict",
                    "coloraxis": {
                      "colorbar": {
                        "outlinewidth": 0,
                        "ticks": ""
                      }
                    },
                    "colorscale": {
                      "diverging": [
                        [
                          0,
                          "#8e0152"
                        ],
                        [
                          0.1,
                          "#c51b7d"
                        ],
                        [
                          0.2,
                          "#de77ae"
                        ],
                        [
                          0.3,
                          "#f1b6da"
                        ],
                        [
                          0.4,
                          "#fde0ef"
                        ],
                        [
                          0.5,
                          "#f7f7f7"
                        ],
                        [
                          0.6,
                          "#e6f5d0"
                        ],
                        [
                          0.7,
                          "#b8e186"
                        ],
                        [
                          0.8,
                          "#7fbc41"
                        ],
                        [
                          0.9,
                          "#4d9221"
                        ],
                        [
                          1,
                          "#276419"
                        ]
                      ],
                      "sequential": [
                        [
                          0,
                          "#0d0887"
                        ],
                        [
                          0.1111111111111111,
                          "#46039f"
                        ],
                        [
                          0.2222222222222222,
                          "#7201a8"
                        ],
                        [
                          0.3333333333333333,
                          "#9c179e"
                        ],
                        [
                          0.4444444444444444,
                          "#bd3786"
                        ],
                        [
                          0.5555555555555556,
                          "#d8576b"
                        ],
                        [
                          0.6666666666666666,
                          "#ed7953"
                        ],
                        [
                          0.7777777777777778,
                          "#fb9f3a"
                        ],
                        [
                          0.8888888888888888,
                          "#fdca26"
                        ],
                        [
                          1,
                          "#f0f921"
                        ]
                      ],
                      "sequentialminus": [
                        [
                          0,
                          "#0d0887"
                        ],
                        [
                          0.1111111111111111,
                          "#46039f"
                        ],
                        [
                          0.2222222222222222,
                          "#7201a8"
                        ],
                        [
                          0.3333333333333333,
                          "#9c179e"
                        ],
                        [
                          0.4444444444444444,
                          "#bd3786"
                        ],
                        [
                          0.5555555555555556,
                          "#d8576b"
                        ],
                        [
                          0.6666666666666666,
                          "#ed7953"
                        ],
                        [
                          0.7777777777777778,
                          "#fb9f3a"
                        ],
                        [
                          0.8888888888888888,
                          "#fdca26"
                        ],
                        [
                          1,
                          "#f0f921"
                        ]
                      ]
                    },
                    "colorway": [
                      "#636efa",
                      "#EF553B",
                      "#00cc96",
                      "#ab63fa",
                      "#FFA15A",
                      "#19d3f3",
                      "#FF6692",
                      "#B6E880",
                      "#FF97FF",
                      "#FECB52"
                    ],
                    "font": {
                      "color": "#050609",
                      "family": "Fira Code, sans-serif",
                      "size": 14
                    },
                    "geo": {
                      "bgcolor": "white",
                      "lakecolor": "white",
                      "landcolor": "#E5ECF6",
                      "showlakes": true,
                      "showland": true,
                      "subunitcolor": "white"
                    },
                    "hoverlabel": {
                      "align": "left"
                    },
                    "hovermode": "closest",
                    "mapbox": {
                      "style": "light"
                    },
                    "paper_bgcolor": "white",
                    "plot_bgcolor": "#E5ECF6",
                    "polar": {
                      "angularaxis": {
                        "gridcolor": "white",
                        "linecolor": "white",
                        "ticks": ""
                      },
                      "bgcolor": "#E5ECF6",
                      "radialaxis": {
                        "gridcolor": "white",
                        "linecolor": "white",
                        "ticks": ""
                      }
                    },
                    "scene": {
                      "xaxis": {
                        "backgroundcolor": "#E5ECF6",
                        "gridcolor": "white",
                        "gridwidth": 2,
                        "linecolor": "white",
                        "showbackground": true,
                        "ticks": "",
                        "zerolinecolor": "white"
                      },
                      "yaxis": {
                        "backgroundcolor": "#E5ECF6",
                        "gridcolor": "white",
                        "gridwidth": 2,
                        "linecolor": "white",
                        "showbackground": true,
                        "ticks": "",
                        "zerolinecolor": "white"
                      },
                      "zaxis": {
                        "backgroundcolor": "#E5ECF6",
                        "gridcolor": "white",
                        "gridwidth": 2,
                        "linecolor": "white",
                        "showbackground": true,
                        "ticks": "",
                        "zerolinecolor": "white"
                      }
                    },
                    "shapedefaults": {
                      "line": {
                        "color": "#2a3f5f"
                      }
                    },
                    "ternary": {
                      "aaxis": {
                        "gridcolor": "white",
                        "linecolor": "white",
                        "ticks": ""
                      },
                      "baxis": {
                        "gridcolor": "white",
                        "linecolor": "white",
                        "ticks": ""
                      },
                      "bgcolor": "#E5ECF6",
                      "caxis": {
                        "gridcolor": "white",
                        "linecolor": "white",
                        "ticks": ""
                      }
                    },
                    "title": {
                      "x": 0.05
                    },
                    "xaxis": {
                      "automargin": true,
                      "gridcolor": "white",
                      "linecolor": "white",
                      "ticks": "",
                      "title": {
                        "standoff": 15
                      },
                      "zerolinecolor": "white",
                      "zerolinewidth": 2
                    },
                    "yaxis": {
                      "automargin": true,
                      "gridcolor": "white",
                      "linecolor": "white",
                      "ticks": "",
                      "title": {
                        "standoff": 15
                      },
                      "zerolinecolor": "white",
                      "zerolinewidth": 2
                    }
                  }
                }
              }
            }
          },
          "metadata": {},
          "output_type": "display_data"
        }
      ],
      "source": [
        "# Pizza Graph\n",
        "\n",
        "cp_map = {\n",
        "    1: 'Angina Típica',\n",
        "    2: 'Angina Atípica',\n",
        "    3: 'Dor não Anginosa',\n",
        "    4: 'Assintomático'\n",
        "}\n",
        "\n",
        "\n",
        "df['cp_labels'] = df['cp'].map(cp_map) # nova coluna com nomes das categorias\n",
        "\n",
        "cp_groupby = df.groupby(['cp_labels']).size().reset_index(name='cp_count')\n",
        "\n",
        "\n",
        "# Criando o gráfico de pizza com os nomes qualitativos\n",
        "\n",
        "cp_pizza = px.pie(cp_groupby,\n",
        "                  values='cp_count',\n",
        "                  names='cp_labels',\n",
        "                  color='cp_labels',\n",
        "                  color_discrete_map = {'Angina Típica': color_pal[0], 'Angina Atípica': color_pal[2], 'Dor não Anginosa': color_pal[3], 'Assintomático' : color_pal[4]},\n",
        "                  labels={'cp_labels': 'Tipo de Angina', 'cp_count' : 'Núm Pacientes'}\n",
        "                  )\n",
        "\n",
        "# Cores\n",
        "\n",
        "# Layout\n",
        "\n",
        "cp_pizza.update_layout(\n",
        "\n",
        "    font=dict(family =\"Fira Code, sans-serif\", color = color_pal[0], size=12),\n",
        "    legend=dict(\n",
        "        title=\"Dor no peito:\",\n",
        "        orientation = 'h',\n",
        "        xanchor=\"center\",\n",
        "        x=0.5,\n",
        "    ),\n",
        ")\n",
        "\n",
        "cp_pizza.show()"
      ]
    },
    {
      "cell_type": "code",
      "execution_count": 7,
      "metadata": {
        "colab": {
          "base_uri": "https://localhost:8080/",
          "height": 175
        },
        "id": "_2RtFuIaVwTo",
        "outputId": "d0cd3b7e-c8eb-4a63-807e-baaf650c1d54"
      },
      "outputs": [
        {
          "data": {
            "text/html": [
              "<div>\n",
              "<style scoped>\n",
              "    .dataframe tbody tr th:only-of-type {\n",
              "        vertical-align: middle;\n",
              "    }\n",
              "\n",
              "    .dataframe tbody tr th {\n",
              "        vertical-align: top;\n",
              "    }\n",
              "\n",
              "    .dataframe thead th {\n",
              "        text-align: right;\n",
              "    }\n",
              "</style>\n",
              "<table border=\"1\" class=\"dataframe\">\n",
              "  <thead>\n",
              "    <tr style=\"text-align: right;\">\n",
              "      <th></th>\n",
              "      <th>cp_labels</th>\n",
              "      <th>cp_count</th>\n",
              "    </tr>\n",
              "  </thead>\n",
              "  <tbody>\n",
              "    <tr>\n",
              "      <th>0</th>\n",
              "      <td>Angina Atípica</td>\n",
              "      <td>50</td>\n",
              "    </tr>\n",
              "    <tr>\n",
              "      <th>1</th>\n",
              "      <td>Angina Típica</td>\n",
              "      <td>23</td>\n",
              "    </tr>\n",
              "    <tr>\n",
              "      <th>2</th>\n",
              "      <td>Assintomático</td>\n",
              "      <td>144</td>\n",
              "    </tr>\n",
              "    <tr>\n",
              "      <th>3</th>\n",
              "      <td>Dor não Anginosa</td>\n",
              "      <td>86</td>\n",
              "    </tr>\n",
              "  </tbody>\n",
              "</table>\n",
              "</div>"
            ],
            "text/plain": [
              "          cp_labels  cp_count\n",
              "0    Angina Atípica        50\n",
              "1     Angina Típica        23\n",
              "2     Assintomático       144\n",
              "3  Dor não Anginosa        86"
            ]
          },
          "execution_count": 7,
          "metadata": {},
          "output_type": "execute_result"
        }
      ],
      "source": [
        "cp_groupby"
      ]
    },
    {
      "cell_type": "code",
      "execution_count": 8,
      "metadata": {
        "colab": {
          "base_uri": "https://localhost:8080/",
          "height": 542
        },
        "id": "chmzx9mpH4qH",
        "outputId": "4f30f213-b4e0-47cf-af0f-5639dd7625a5"
      },
      "outputs": [
        {
          "data": {
            "application/vnd.plotly.v1+json": {
              "config": {
                "plotlyServerURL": "https://plot.ly"
              },
              "data": [
                {
                  "alignmentgroup": "True",
                  "bingroup": "x",
                  "hovertemplate": "Sexo=Masculino<br>Tipo de Angina=%{x}<br>count=%{y}<extra></extra>",
                  "legendgroup": "Masculino",
                  "marker": {
                    "color": "#D9230F",
                    "pattern": {
                      "shape": ""
                    }
                  },
                  "name": "Masculino",
                  "offsetgroup": "Masculino",
                  "orientation": "v",
                  "showlegend": true,
                  "type": "histogram",
                  "x": [
                    "Angina Típica",
                    "Assintomático",
                    "Assintomático",
                    "Dor não Anginosa",
                    "Angina Atípica",
                    "Assintomático",
                    "Assintomático",
                    "Assintomático",
                    "Dor não Anginosa",
                    "Angina Atípica",
                    "Dor não Anginosa",
                    "Dor não Anginosa",
                    "Angina Atípica",
                    "Assintomático",
                    "Angina Atípica",
                    "Angina Típica",
                    "Angina Atípica",
                    "Dor não Anginosa",
                    "Assintomático",
                    "Assintomático",
                    "Assintomático",
                    "Assintomático",
                    "Dor não Anginosa",
                    "Assintomático",
                    "Dor não Anginosa",
                    "Assintomático",
                    "Assintomático",
                    "Assintomático",
                    "Assintomático",
                    "Dor não Anginosa",
                    "Angina Típica",
                    "Dor não Anginosa",
                    "Dor não Anginosa",
                    "Dor não Anginosa",
                    "Assintomático",
                    "Dor não Anginosa",
                    "Assintomático",
                    "Assintomático",
                    "Angina Atípica",
                    "Assintomático",
                    "Assintomático",
                    "Dor não Anginosa",
                    "Assintomático",
                    "Dor não Anginosa",
                    "Angina Típica",
                    "Assintomático",
                    "Assintomático",
                    "Assintomático",
                    "Dor não Anginosa",
                    "Dor não Anginosa",
                    "Assintomático",
                    "Dor não Anginosa",
                    "Assintomático",
                    "Assintomático",
                    "Assintomático",
                    "Assintomático",
                    "Assintomático",
                    "Angina Atípica",
                    "Assintomático",
                    "Assintomático",
                    "Dor não Anginosa",
                    "Dor não Anginosa",
                    "Angina Atípica",
                    "Dor não Anginosa",
                    "Dor não Anginosa",
                    "Assintomático",
                    "Dor não Anginosa",
                    "Assintomático",
                    "Assintomático",
                    "Angina Atípica",
                    "Assintomático",
                    "Assintomático",
                    "Angina Típica",
                    "Dor não Anginosa",
                    "Angina Atípica",
                    "Assintomático",
                    "Dor não Anginosa",
                    "Assintomático",
                    "Assintomático",
                    "Assintomático",
                    "Angina Típica",
                    "Angina Atípica",
                    "Dor não Anginosa",
                    "Assintomático",
                    "Assintomático",
                    "Assintomático",
                    "Dor não Anginosa",
                    "Assintomático",
                    "Angina Típica",
                    "Assintomático",
                    "Angina Atípica",
                    "Dor não Anginosa",
                    "Dor não Anginosa",
                    "Angina Atípica",
                    "Assintomático",
                    "Assintomático",
                    "Angina Atípica",
                    "Assintomático",
                    "Dor não Anginosa",
                    "Angina Atípica",
                    "Angina Típica",
                    "Angina Atípica",
                    "Dor não Anginosa",
                    "Dor não Anginosa",
                    "Dor não Anginosa",
                    "Assintomático",
                    "Dor não Anginosa",
                    "Angina Atípica",
                    "Angina Típica",
                    "Assintomático",
                    "Assintomático",
                    "Assintomático",
                    "Assintomático",
                    "Assintomático",
                    "Assintomático",
                    "Dor não Anginosa",
                    "Angina Atípica",
                    "Assintomático",
                    "Dor não Anginosa",
                    "Assintomático",
                    "Dor não Anginosa",
                    "Assintomático",
                    "Dor não Anginosa",
                    "Assintomático",
                    "Assintomático",
                    "Assintomático",
                    "Assintomático",
                    "Assintomático",
                    "Dor não Anginosa",
                    "Dor não Anginosa",
                    "Assintomático",
                    "Angina Típica",
                    "Angina Típica",
                    "Dor não Anginosa",
                    "Angina Atípica",
                    "Angina Atípica",
                    "Dor não Anginosa",
                    "Dor não Anginosa",
                    "Assintomático",
                    "Assintomático",
                    "Assintomático",
                    "Angina Típica",
                    "Angina Típica",
                    "Dor não Anginosa",
                    "Assintomático",
                    "Assintomático",
                    "Assintomático",
                    "Assintomático",
                    "Angina Atípica",
                    "Angina Típica",
                    "Dor não Anginosa",
                    "Assintomático",
                    "Angina Típica",
                    "Assintomático",
                    "Assintomático",
                    "Assintomático",
                    "Assintomático",
                    "Assintomático",
                    "Dor não Anginosa",
                    "Assintomático",
                    "Assintomático",
                    "Assintomático",
                    "Angina Atípica",
                    "Angina Atípica",
                    "Angina Típica",
                    "Assintomático",
                    "Assintomático",
                    "Assintomático",
                    "Assintomático",
                    "Angina Atípica",
                    "Assintomático",
                    "Assintomático",
                    "Assintomático",
                    "Assintomático",
                    "Angina Atípica",
                    "Angina Atípica",
                    "Dor não Anginosa",
                    "Assintomático",
                    "Assintomático",
                    "Assintomático",
                    "Dor não Anginosa",
                    "Assintomático",
                    "Dor não Anginosa",
                    "Assintomático",
                    "Assintomático",
                    "Assintomático",
                    "Angina Típica",
                    "Angina Típica",
                    "Angina Atípica",
                    "Assintomático",
                    "Dor não Anginosa",
                    "Angina Atípica",
                    "Assintomático",
                    "Assintomático",
                    "Angina Atípica",
                    "Angina Atípica",
                    "Angina Atípica",
                    "Dor não Anginosa",
                    "Assintomático",
                    "Assintomático",
                    "Angina Atípica",
                    "Assintomático",
                    "Angina Típica",
                    "Assintomático",
                    "Assintomático",
                    "Dor não Anginosa"
                  ],
                  "xaxis": "x",
                  "yaxis": "y"
                },
                {
                  "alignmentgroup": "True",
                  "bingroup": "x",
                  "hovertemplate": "Sexo=Feminino<br>Tipo de Angina=%{x}<br>count=%{y}<extra></extra>",
                  "legendgroup": "Feminino",
                  "marker": {
                    "color": "#93C572",
                    "pattern": {
                      "shape": ""
                    }
                  },
                  "name": "Feminino",
                  "offsetgroup": "Feminino",
                  "orientation": "v",
                  "showlegend": true,
                  "type": "histogram",
                  "x": [
                    "Angina Atípica",
                    "Assintomático",
                    "Assintomático",
                    "Angina Atípica",
                    "Dor não Anginosa",
                    "Angina Típica",
                    "Dor não Anginosa",
                    "Dor não Anginosa",
                    "Angina Típica",
                    "Angina Típica",
                    "Assintomático",
                    "Angina Atípica",
                    "Assintomático",
                    "Dor não Anginosa",
                    "Angina Atípica",
                    "Assintomático",
                    "Dor não Anginosa",
                    "Dor não Anginosa",
                    "Dor não Anginosa",
                    "Dor não Anginosa",
                    "Dor não Anginosa",
                    "Assintomático",
                    "Dor não Anginosa",
                    "Assintomático",
                    "Dor não Anginosa",
                    "Assintomático",
                    "Dor não Anginosa",
                    "Dor não Anginosa",
                    "Assintomático",
                    "Assintomático",
                    "Dor não Anginosa",
                    "Assintomático",
                    "Assintomático",
                    "Dor não Anginosa",
                    "Assintomático",
                    "Assintomático",
                    "Angina Atípica",
                    "Assintomático",
                    "Assintomático",
                    "Dor não Anginosa",
                    "Angina Atípica",
                    "Dor não Anginosa",
                    "Assintomático",
                    "Dor não Anginosa",
                    "Dor não Anginosa",
                    "Assintomático",
                    "Angina Atípica",
                    "Angina Atípica",
                    "Assintomático",
                    "Assintomático",
                    "Assintomático",
                    "Assintomático",
                    "Angina Atípica",
                    "Assintomático",
                    "Dor não Anginosa",
                    "Assintomático",
                    "Angina Atípica",
                    "Assintomático",
                    "Assintomático",
                    "Dor não Anginosa",
                    "Assintomático",
                    "Dor não Anginosa",
                    "Assintomático",
                    "Angina Atípica",
                    "Assintomático",
                    "Assintomático",
                    "Dor não Anginosa",
                    "Dor não Anginosa",
                    "Dor não Anginosa",
                    "Assintomático",
                    "Angina Atípica",
                    "Dor não Anginosa",
                    "Dor não Anginosa",
                    "Assintomático",
                    "Angina Atípica",
                    "Dor não Anginosa",
                    "Angina Atípica",
                    "Angina Atípica",
                    "Assintomático",
                    "Dor não Anginosa",
                    "Dor não Anginosa",
                    "Dor não Anginosa",
                    "Assintomático",
                    "Dor não Anginosa",
                    "Dor não Anginosa",
                    "Angina Atípica",
                    "Angina Típica",
                    "Assintomático",
                    "Dor não Anginosa",
                    "Dor não Anginosa",
                    "Assintomático",
                    "Assintomático",
                    "Assintomático",
                    "Angina Atípica",
                    "Assintomático",
                    "Assintomático",
                    "Angina Atípica"
                  ],
                  "xaxis": "x",
                  "yaxis": "y"
                }
              ],
              "layout": {
                "barmode": "group",
                "font": {
                  "color": "#050609",
                  "family": "Fira Code, sans-serif",
                  "size": 14
                },
                "legend": {
                  "title": {
                    "text": "Sexo"
                  },
                  "tracegroupgap": 0
                },
                "template": {
                  "data": {
                    "bar": [
                      {
                        "error_x": {
                          "color": "#2a3f5f"
                        },
                        "error_y": {
                          "color": "#2a3f5f"
                        },
                        "marker": {
                          "line": {
                            "color": "white",
                            "width": 0.5
                          },
                          "pattern": {
                            "fillmode": "overlay",
                            "size": 10,
                            "solidity": 0.2
                          }
                        },
                        "type": "bar"
                      }
                    ],
                    "barpolar": [
                      {
                        "marker": {
                          "line": {
                            "color": "white",
                            "width": 0.5
                          },
                          "pattern": {
                            "fillmode": "overlay",
                            "size": 10,
                            "solidity": 0.2
                          }
                        },
                        "type": "barpolar"
                      }
                    ],
                    "carpet": [
                      {
                        "aaxis": {
                          "endlinecolor": "#2a3f5f",
                          "gridcolor": "#C8D4E3",
                          "linecolor": "#C8D4E3",
                          "minorgridcolor": "#C8D4E3",
                          "startlinecolor": "#2a3f5f"
                        },
                        "baxis": {
                          "endlinecolor": "#2a3f5f",
                          "gridcolor": "#C8D4E3",
                          "linecolor": "#C8D4E3",
                          "minorgridcolor": "#C8D4E3",
                          "startlinecolor": "#2a3f5f"
                        },
                        "type": "carpet"
                      }
                    ],
                    "choropleth": [
                      {
                        "colorbar": {
                          "outlinewidth": 0,
                          "ticks": ""
                        },
                        "type": "choropleth"
                      }
                    ],
                    "contour": [
                      {
                        "colorbar": {
                          "outlinewidth": 0,
                          "ticks": ""
                        },
                        "colorscale": [
                          [
                            0,
                            "#0d0887"
                          ],
                          [
                            0.1111111111111111,
                            "#46039f"
                          ],
                          [
                            0.2222222222222222,
                            "#7201a8"
                          ],
                          [
                            0.3333333333333333,
                            "#9c179e"
                          ],
                          [
                            0.4444444444444444,
                            "#bd3786"
                          ],
                          [
                            0.5555555555555556,
                            "#d8576b"
                          ],
                          [
                            0.6666666666666666,
                            "#ed7953"
                          ],
                          [
                            0.7777777777777778,
                            "#fb9f3a"
                          ],
                          [
                            0.8888888888888888,
                            "#fdca26"
                          ],
                          [
                            1,
                            "#f0f921"
                          ]
                        ],
                        "type": "contour"
                      }
                    ],
                    "contourcarpet": [
                      {
                        "colorbar": {
                          "outlinewidth": 0,
                          "ticks": ""
                        },
                        "type": "contourcarpet"
                      }
                    ],
                    "heatmap": [
                      {
                        "colorbar": {
                          "outlinewidth": 0,
                          "ticks": ""
                        },
                        "colorscale": [
                          [
                            0,
                            "#0d0887"
                          ],
                          [
                            0.1111111111111111,
                            "#46039f"
                          ],
                          [
                            0.2222222222222222,
                            "#7201a8"
                          ],
                          [
                            0.3333333333333333,
                            "#9c179e"
                          ],
                          [
                            0.4444444444444444,
                            "#bd3786"
                          ],
                          [
                            0.5555555555555556,
                            "#d8576b"
                          ],
                          [
                            0.6666666666666666,
                            "#ed7953"
                          ],
                          [
                            0.7777777777777778,
                            "#fb9f3a"
                          ],
                          [
                            0.8888888888888888,
                            "#fdca26"
                          ],
                          [
                            1,
                            "#f0f921"
                          ]
                        ],
                        "type": "heatmap"
                      }
                    ],
                    "heatmapgl": [
                      {
                        "colorbar": {
                          "outlinewidth": 0,
                          "ticks": ""
                        },
                        "colorscale": [
                          [
                            0,
                            "#0d0887"
                          ],
                          [
                            0.1111111111111111,
                            "#46039f"
                          ],
                          [
                            0.2222222222222222,
                            "#7201a8"
                          ],
                          [
                            0.3333333333333333,
                            "#9c179e"
                          ],
                          [
                            0.4444444444444444,
                            "#bd3786"
                          ],
                          [
                            0.5555555555555556,
                            "#d8576b"
                          ],
                          [
                            0.6666666666666666,
                            "#ed7953"
                          ],
                          [
                            0.7777777777777778,
                            "#fb9f3a"
                          ],
                          [
                            0.8888888888888888,
                            "#fdca26"
                          ],
                          [
                            1,
                            "#f0f921"
                          ]
                        ],
                        "type": "heatmapgl"
                      }
                    ],
                    "histogram": [
                      {
                        "marker": {
                          "pattern": {
                            "fillmode": "overlay",
                            "size": 10,
                            "solidity": 0.2
                          }
                        },
                        "type": "histogram"
                      }
                    ],
                    "histogram2d": [
                      {
                        "colorbar": {
                          "outlinewidth": 0,
                          "ticks": ""
                        },
                        "colorscale": [
                          [
                            0,
                            "#0d0887"
                          ],
                          [
                            0.1111111111111111,
                            "#46039f"
                          ],
                          [
                            0.2222222222222222,
                            "#7201a8"
                          ],
                          [
                            0.3333333333333333,
                            "#9c179e"
                          ],
                          [
                            0.4444444444444444,
                            "#bd3786"
                          ],
                          [
                            0.5555555555555556,
                            "#d8576b"
                          ],
                          [
                            0.6666666666666666,
                            "#ed7953"
                          ],
                          [
                            0.7777777777777778,
                            "#fb9f3a"
                          ],
                          [
                            0.8888888888888888,
                            "#fdca26"
                          ],
                          [
                            1,
                            "#f0f921"
                          ]
                        ],
                        "type": "histogram2d"
                      }
                    ],
                    "histogram2dcontour": [
                      {
                        "colorbar": {
                          "outlinewidth": 0,
                          "ticks": ""
                        },
                        "colorscale": [
                          [
                            0,
                            "#0d0887"
                          ],
                          [
                            0.1111111111111111,
                            "#46039f"
                          ],
                          [
                            0.2222222222222222,
                            "#7201a8"
                          ],
                          [
                            0.3333333333333333,
                            "#9c179e"
                          ],
                          [
                            0.4444444444444444,
                            "#bd3786"
                          ],
                          [
                            0.5555555555555556,
                            "#d8576b"
                          ],
                          [
                            0.6666666666666666,
                            "#ed7953"
                          ],
                          [
                            0.7777777777777778,
                            "#fb9f3a"
                          ],
                          [
                            0.8888888888888888,
                            "#fdca26"
                          ],
                          [
                            1,
                            "#f0f921"
                          ]
                        ],
                        "type": "histogram2dcontour"
                      }
                    ],
                    "mesh3d": [
                      {
                        "colorbar": {
                          "outlinewidth": 0,
                          "ticks": ""
                        },
                        "type": "mesh3d"
                      }
                    ],
                    "parcoords": [
                      {
                        "line": {
                          "colorbar": {
                            "outlinewidth": 0,
                            "ticks": ""
                          }
                        },
                        "type": "parcoords"
                      }
                    ],
                    "pie": [
                      {
                        "automargin": true,
                        "type": "pie"
                      }
                    ],
                    "scatter": [
                      {
                        "fillpattern": {
                          "fillmode": "overlay",
                          "size": 10,
                          "solidity": 0.2
                        },
                        "type": "scatter"
                      }
                    ],
                    "scatter3d": [
                      {
                        "line": {
                          "colorbar": {
                            "outlinewidth": 0,
                            "ticks": ""
                          }
                        },
                        "marker": {
                          "colorbar": {
                            "outlinewidth": 0,
                            "ticks": ""
                          }
                        },
                        "type": "scatter3d"
                      }
                    ],
                    "scattercarpet": [
                      {
                        "marker": {
                          "colorbar": {
                            "outlinewidth": 0,
                            "ticks": ""
                          }
                        },
                        "type": "scattercarpet"
                      }
                    ],
                    "scattergeo": [
                      {
                        "marker": {
                          "colorbar": {
                            "outlinewidth": 0,
                            "ticks": ""
                          }
                        },
                        "type": "scattergeo"
                      }
                    ],
                    "scattergl": [
                      {
                        "marker": {
                          "colorbar": {
                            "outlinewidth": 0,
                            "ticks": ""
                          }
                        },
                        "type": "scattergl"
                      }
                    ],
                    "scattermapbox": [
                      {
                        "marker": {
                          "colorbar": {
                            "outlinewidth": 0,
                            "ticks": ""
                          }
                        },
                        "type": "scattermapbox"
                      }
                    ],
                    "scatterpolar": [
                      {
                        "marker": {
                          "colorbar": {
                            "outlinewidth": 0,
                            "ticks": ""
                          }
                        },
                        "type": "scatterpolar"
                      }
                    ],
                    "scatterpolargl": [
                      {
                        "marker": {
                          "colorbar": {
                            "outlinewidth": 0,
                            "ticks": ""
                          }
                        },
                        "type": "scatterpolargl"
                      }
                    ],
                    "scatterternary": [
                      {
                        "marker": {
                          "colorbar": {
                            "outlinewidth": 0,
                            "ticks": ""
                          }
                        },
                        "type": "scatterternary"
                      }
                    ],
                    "surface": [
                      {
                        "colorbar": {
                          "outlinewidth": 0,
                          "ticks": ""
                        },
                        "colorscale": [
                          [
                            0,
                            "#0d0887"
                          ],
                          [
                            0.1111111111111111,
                            "#46039f"
                          ],
                          [
                            0.2222222222222222,
                            "#7201a8"
                          ],
                          [
                            0.3333333333333333,
                            "#9c179e"
                          ],
                          [
                            0.4444444444444444,
                            "#bd3786"
                          ],
                          [
                            0.5555555555555556,
                            "#d8576b"
                          ],
                          [
                            0.6666666666666666,
                            "#ed7953"
                          ],
                          [
                            0.7777777777777778,
                            "#fb9f3a"
                          ],
                          [
                            0.8888888888888888,
                            "#fdca26"
                          ],
                          [
                            1,
                            "#f0f921"
                          ]
                        ],
                        "type": "surface"
                      }
                    ],
                    "table": [
                      {
                        "cells": {
                          "fill": {
                            "color": "#EBF0F8"
                          },
                          "line": {
                            "color": "white"
                          }
                        },
                        "header": {
                          "fill": {
                            "color": "#C8D4E3"
                          },
                          "line": {
                            "color": "white"
                          }
                        },
                        "type": "table"
                      }
                    ]
                  },
                  "layout": {
                    "annotationdefaults": {
                      "arrowcolor": "#2a3f5f",
                      "arrowhead": 0,
                      "arrowwidth": 1
                    },
                    "autotypenumbers": "strict",
                    "coloraxis": {
                      "colorbar": {
                        "outlinewidth": 0,
                        "ticks": ""
                      }
                    },
                    "colorscale": {
                      "diverging": [
                        [
                          0,
                          "#8e0152"
                        ],
                        [
                          0.1,
                          "#c51b7d"
                        ],
                        [
                          0.2,
                          "#de77ae"
                        ],
                        [
                          0.3,
                          "#f1b6da"
                        ],
                        [
                          0.4,
                          "#fde0ef"
                        ],
                        [
                          0.5,
                          "#f7f7f7"
                        ],
                        [
                          0.6,
                          "#e6f5d0"
                        ],
                        [
                          0.7,
                          "#b8e186"
                        ],
                        [
                          0.8,
                          "#7fbc41"
                        ],
                        [
                          0.9,
                          "#4d9221"
                        ],
                        [
                          1,
                          "#276419"
                        ]
                      ],
                      "sequential": [
                        [
                          0,
                          "#0d0887"
                        ],
                        [
                          0.1111111111111111,
                          "#46039f"
                        ],
                        [
                          0.2222222222222222,
                          "#7201a8"
                        ],
                        [
                          0.3333333333333333,
                          "#9c179e"
                        ],
                        [
                          0.4444444444444444,
                          "#bd3786"
                        ],
                        [
                          0.5555555555555556,
                          "#d8576b"
                        ],
                        [
                          0.6666666666666666,
                          "#ed7953"
                        ],
                        [
                          0.7777777777777778,
                          "#fb9f3a"
                        ],
                        [
                          0.8888888888888888,
                          "#fdca26"
                        ],
                        [
                          1,
                          "#f0f921"
                        ]
                      ],
                      "sequentialminus": [
                        [
                          0,
                          "#0d0887"
                        ],
                        [
                          0.1111111111111111,
                          "#46039f"
                        ],
                        [
                          0.2222222222222222,
                          "#7201a8"
                        ],
                        [
                          0.3333333333333333,
                          "#9c179e"
                        ],
                        [
                          0.4444444444444444,
                          "#bd3786"
                        ],
                        [
                          0.5555555555555556,
                          "#d8576b"
                        ],
                        [
                          0.6666666666666666,
                          "#ed7953"
                        ],
                        [
                          0.7777777777777778,
                          "#fb9f3a"
                        ],
                        [
                          0.8888888888888888,
                          "#fdca26"
                        ],
                        [
                          1,
                          "#f0f921"
                        ]
                      ]
                    },
                    "colorway": [
                      "#636efa",
                      "#EF553B",
                      "#00cc96",
                      "#ab63fa",
                      "#FFA15A",
                      "#19d3f3",
                      "#FF6692",
                      "#B6E880",
                      "#FF97FF",
                      "#FECB52"
                    ],
                    "font": {
                      "color": "#2a3f5f"
                    },
                    "geo": {
                      "bgcolor": "white",
                      "lakecolor": "white",
                      "landcolor": "white",
                      "showlakes": true,
                      "showland": true,
                      "subunitcolor": "#C8D4E3"
                    },
                    "hoverlabel": {
                      "align": "left"
                    },
                    "hovermode": "closest",
                    "mapbox": {
                      "style": "light"
                    },
                    "paper_bgcolor": "white",
                    "plot_bgcolor": "white",
                    "polar": {
                      "angularaxis": {
                        "gridcolor": "#EBF0F8",
                        "linecolor": "#EBF0F8",
                        "ticks": ""
                      },
                      "bgcolor": "white",
                      "radialaxis": {
                        "gridcolor": "#EBF0F8",
                        "linecolor": "#EBF0F8",
                        "ticks": ""
                      }
                    },
                    "scene": {
                      "xaxis": {
                        "backgroundcolor": "white",
                        "gridcolor": "#DFE8F3",
                        "gridwidth": 2,
                        "linecolor": "#EBF0F8",
                        "showbackground": true,
                        "ticks": "",
                        "zerolinecolor": "#EBF0F8"
                      },
                      "yaxis": {
                        "backgroundcolor": "white",
                        "gridcolor": "#DFE8F3",
                        "gridwidth": 2,
                        "linecolor": "#EBF0F8",
                        "showbackground": true,
                        "ticks": "",
                        "zerolinecolor": "#EBF0F8"
                      },
                      "zaxis": {
                        "backgroundcolor": "white",
                        "gridcolor": "#DFE8F3",
                        "gridwidth": 2,
                        "linecolor": "#EBF0F8",
                        "showbackground": true,
                        "ticks": "",
                        "zerolinecolor": "#EBF0F8"
                      }
                    },
                    "shapedefaults": {
                      "line": {
                        "color": "#2a3f5f"
                      }
                    },
                    "ternary": {
                      "aaxis": {
                        "gridcolor": "#DFE8F3",
                        "linecolor": "#A2B1C6",
                        "ticks": ""
                      },
                      "baxis": {
                        "gridcolor": "#DFE8F3",
                        "linecolor": "#A2B1C6",
                        "ticks": ""
                      },
                      "bgcolor": "white",
                      "caxis": {
                        "gridcolor": "#DFE8F3",
                        "linecolor": "#A2B1C6",
                        "ticks": ""
                      }
                    },
                    "title": {
                      "x": 0.05
                    },
                    "xaxis": {
                      "automargin": true,
                      "gridcolor": "#EBF0F8",
                      "linecolor": "#EBF0F8",
                      "ticks": "",
                      "title": {
                        "standoff": 15
                      },
                      "zerolinecolor": "#EBF0F8",
                      "zerolinewidth": 2
                    },
                    "yaxis": {
                      "automargin": true,
                      "gridcolor": "#EBF0F8",
                      "linecolor": "#EBF0F8",
                      "ticks": "",
                      "title": {
                        "standoff": 15
                      },
                      "zerolinecolor": "#EBF0F8",
                      "zerolinewidth": 2
                    }
                  }
                },
                "title": {
                  "font": {
                    "color": "#050609",
                    "size": 20
                  },
                  "text": "Distribuição de Tipo de Dor no Peito por Sexo"
                },
                "xaxis": {
                  "anchor": "y",
                  "domain": [
                    0,
                    1
                  ],
                  "title": {
                    "text": "Tipo de Angina"
                  }
                },
                "yaxis": {
                  "anchor": "x",
                  "domain": [
                    0,
                    1
                  ],
                  "title": {
                    "text": "Número de Pacientes"
                  }
                }
              }
            }
          },
          "metadata": {},
          "output_type": "display_data"
        }
      ],
      "source": [
        "sex_map = {1: 'Masculino', 0: 'Feminino'}\n",
        "\n",
        "df['sex_labels'] = df['sex'].map(sex_map)\n",
        "\n",
        "# Histograma\n",
        "\n",
        "cp_sex = px.histogram(\n",
        "\n",
        "    df,\n",
        "    x = 'cp_labels',\n",
        "    color = 'sex_labels',\n",
        "    barmode = 'group',  # para barras agrupadas, use barmode='stack' se quiser empilhadas\n",
        "    title=\"Distribuição de Tipo de Dor no Peito por Sexo\",\n",
        "    labels={'sex_labels': 'Sexo', 'cp_labels': 'Tipo de Angina', 'count': 'Número de Pacientes'},\n",
        "\n",
        "    # Cores\n",
        "\n",
        "    color_discrete_map={\"Masculino\": color_pal[3], \"Feminino\": color_pal[4]}\n",
        ")\n",
        "\n",
        "# Layout\n",
        "\n",
        "cp_sex.update_layout(\n",
        "\n",
        "    font=dict(family =\"Fira Code, sans-serif\", color = color_pal[0], size=14),\n",
        "    title_font= dict(size = 20, color = color_pal[0]),\n",
        "\n",
        "    xaxis_title=\"Tipo de Angina\",\n",
        "    yaxis_title=\"Número de Pacientes\",\n",
        "    legend_title=\"Sexo\",\n",
        "    template=\"plotly_white\",\n",
        "\n",
        "\n",
        ")\n",
        "\n",
        "\n",
        "cp_sex.show()"
      ]
    },
    {
      "cell_type": "code",
      "execution_count": 9,
      "metadata": {
        "id": "beXWrBTcG73Q"
      },
      "outputs": [],
      "source": [
        "# CP note\n",
        "\n",
        "cp_note = '''\n",
        "- Pacientes com dor assintomática costumam ter uma maior prevalência de doenças cardíacas. Isso sugere que, embora esses pacientes não apresentem dor no peito, eles podem ter outras características de alto risco, como idade avançada, hipertensão, ou altos níveis de colesterol.\n",
        "\n",
        "- Pacientes com angina típica tendem a ter uma dor que se manifesta com esforço físico e melhora com o repouso, o que pode indicar uma obstrução nas artérias. Embora apresentem sintomas de dor, o quadro pode estar em um estágio que permite intervenção precoce. Já a angina atípica e a dor não anginosa são menos específicas para doenças cardíacas, podendo também representar sintomas de outras condições.\n",
        "\n",
        "- Observa-se que homens têm maior prevalência de angina típica e assintomática, enquanto mulheres tendem a ter um aumento de angina atípica. Isso pode refletir diferenças nas manifestações de doenças cardíacas entre os gêneros.\n",
        "\n",
        "'''"
      ]
    },
    {
      "cell_type": "markdown",
      "metadata": {
        "id": "bOInkd5SJ0q3"
      },
      "source": [
        "## Sex"
      ]
    },
    {
      "cell_type": "code",
      "execution_count": 10,
      "metadata": {
        "colab": {
          "base_uri": "https://localhost:8080/",
          "height": 542
        },
        "id": "McCC3JlnQDIs",
        "outputId": "0e4767fa-42b1-45d1-e0c3-6f91bb5fe412"
      },
      "outputs": [
        {
          "data": {
            "application/vnd.plotly.v1+json": {
              "config": {
                "plotlyServerURL": "https://plot.ly"
              },
              "data": [
                {
                  "alignmentgroup": "True",
                  "hovertemplate": "Presença de Doença=Ausência<br>Sexo=%{x}<br>count=%{y}<extra></extra>",
                  "legendgroup": "Ausência",
                  "marker": {
                    "color": "#959672",
                    "pattern": {
                      "shape": ""
                    }
                  },
                  "name": "Ausência",
                  "offsetgroup": "Ausência",
                  "orientation": "v",
                  "showlegend": true,
                  "textposition": "auto",
                  "type": "bar",
                  "x": [
                    "Feminino",
                    "Masculino"
                  ],
                  "xaxis": "x",
                  "y": [
                    72,
                    92
                  ],
                  "yaxis": "y"
                },
                {
                  "alignmentgroup": "True",
                  "hovertemplate": "Presença de Doença=Presença<br>Sexo=%{x}<br>count=%{y}<extra></extra>",
                  "legendgroup": "Presença",
                  "marker": {
                    "color": "#D9230F",
                    "pattern": {
                      "shape": ""
                    }
                  },
                  "name": "Presença",
                  "offsetgroup": "Presença",
                  "orientation": "v",
                  "showlegend": true,
                  "textposition": "auto",
                  "type": "bar",
                  "x": [
                    "Feminino",
                    "Masculino"
                  ],
                  "xaxis": "x",
                  "y": [
                    25,
                    114
                  ],
                  "yaxis": "y"
                }
              ],
              "layout": {
                "barmode": "group",
                "font": {
                  "color": "#050609",
                  "family": "Fira Code, sans-serif",
                  "size": 14
                },
                "legend": {
                  "title": {
                    "text": "Sexo"
                  },
                  "tracegroupgap": 0
                },
                "template": {
                  "data": {
                    "bar": [
                      {
                        "error_x": {
                          "color": "#2a3f5f"
                        },
                        "error_y": {
                          "color": "#2a3f5f"
                        },
                        "marker": {
                          "line": {
                            "color": "white",
                            "width": 0.5
                          },
                          "pattern": {
                            "fillmode": "overlay",
                            "size": 10,
                            "solidity": 0.2
                          }
                        },
                        "type": "bar"
                      }
                    ],
                    "barpolar": [
                      {
                        "marker": {
                          "line": {
                            "color": "white",
                            "width": 0.5
                          },
                          "pattern": {
                            "fillmode": "overlay",
                            "size": 10,
                            "solidity": 0.2
                          }
                        },
                        "type": "barpolar"
                      }
                    ],
                    "carpet": [
                      {
                        "aaxis": {
                          "endlinecolor": "#2a3f5f",
                          "gridcolor": "#C8D4E3",
                          "linecolor": "#C8D4E3",
                          "minorgridcolor": "#C8D4E3",
                          "startlinecolor": "#2a3f5f"
                        },
                        "baxis": {
                          "endlinecolor": "#2a3f5f",
                          "gridcolor": "#C8D4E3",
                          "linecolor": "#C8D4E3",
                          "minorgridcolor": "#C8D4E3",
                          "startlinecolor": "#2a3f5f"
                        },
                        "type": "carpet"
                      }
                    ],
                    "choropleth": [
                      {
                        "colorbar": {
                          "outlinewidth": 0,
                          "ticks": ""
                        },
                        "type": "choropleth"
                      }
                    ],
                    "contour": [
                      {
                        "colorbar": {
                          "outlinewidth": 0,
                          "ticks": ""
                        },
                        "colorscale": [
                          [
                            0,
                            "#0d0887"
                          ],
                          [
                            0.1111111111111111,
                            "#46039f"
                          ],
                          [
                            0.2222222222222222,
                            "#7201a8"
                          ],
                          [
                            0.3333333333333333,
                            "#9c179e"
                          ],
                          [
                            0.4444444444444444,
                            "#bd3786"
                          ],
                          [
                            0.5555555555555556,
                            "#d8576b"
                          ],
                          [
                            0.6666666666666666,
                            "#ed7953"
                          ],
                          [
                            0.7777777777777778,
                            "#fb9f3a"
                          ],
                          [
                            0.8888888888888888,
                            "#fdca26"
                          ],
                          [
                            1,
                            "#f0f921"
                          ]
                        ],
                        "type": "contour"
                      }
                    ],
                    "contourcarpet": [
                      {
                        "colorbar": {
                          "outlinewidth": 0,
                          "ticks": ""
                        },
                        "type": "contourcarpet"
                      }
                    ],
                    "heatmap": [
                      {
                        "colorbar": {
                          "outlinewidth": 0,
                          "ticks": ""
                        },
                        "colorscale": [
                          [
                            0,
                            "#0d0887"
                          ],
                          [
                            0.1111111111111111,
                            "#46039f"
                          ],
                          [
                            0.2222222222222222,
                            "#7201a8"
                          ],
                          [
                            0.3333333333333333,
                            "#9c179e"
                          ],
                          [
                            0.4444444444444444,
                            "#bd3786"
                          ],
                          [
                            0.5555555555555556,
                            "#d8576b"
                          ],
                          [
                            0.6666666666666666,
                            "#ed7953"
                          ],
                          [
                            0.7777777777777778,
                            "#fb9f3a"
                          ],
                          [
                            0.8888888888888888,
                            "#fdca26"
                          ],
                          [
                            1,
                            "#f0f921"
                          ]
                        ],
                        "type": "heatmap"
                      }
                    ],
                    "heatmapgl": [
                      {
                        "colorbar": {
                          "outlinewidth": 0,
                          "ticks": ""
                        },
                        "colorscale": [
                          [
                            0,
                            "#0d0887"
                          ],
                          [
                            0.1111111111111111,
                            "#46039f"
                          ],
                          [
                            0.2222222222222222,
                            "#7201a8"
                          ],
                          [
                            0.3333333333333333,
                            "#9c179e"
                          ],
                          [
                            0.4444444444444444,
                            "#bd3786"
                          ],
                          [
                            0.5555555555555556,
                            "#d8576b"
                          ],
                          [
                            0.6666666666666666,
                            "#ed7953"
                          ],
                          [
                            0.7777777777777778,
                            "#fb9f3a"
                          ],
                          [
                            0.8888888888888888,
                            "#fdca26"
                          ],
                          [
                            1,
                            "#f0f921"
                          ]
                        ],
                        "type": "heatmapgl"
                      }
                    ],
                    "histogram": [
                      {
                        "marker": {
                          "pattern": {
                            "fillmode": "overlay",
                            "size": 10,
                            "solidity": 0.2
                          }
                        },
                        "type": "histogram"
                      }
                    ],
                    "histogram2d": [
                      {
                        "colorbar": {
                          "outlinewidth": 0,
                          "ticks": ""
                        },
                        "colorscale": [
                          [
                            0,
                            "#0d0887"
                          ],
                          [
                            0.1111111111111111,
                            "#46039f"
                          ],
                          [
                            0.2222222222222222,
                            "#7201a8"
                          ],
                          [
                            0.3333333333333333,
                            "#9c179e"
                          ],
                          [
                            0.4444444444444444,
                            "#bd3786"
                          ],
                          [
                            0.5555555555555556,
                            "#d8576b"
                          ],
                          [
                            0.6666666666666666,
                            "#ed7953"
                          ],
                          [
                            0.7777777777777778,
                            "#fb9f3a"
                          ],
                          [
                            0.8888888888888888,
                            "#fdca26"
                          ],
                          [
                            1,
                            "#f0f921"
                          ]
                        ],
                        "type": "histogram2d"
                      }
                    ],
                    "histogram2dcontour": [
                      {
                        "colorbar": {
                          "outlinewidth": 0,
                          "ticks": ""
                        },
                        "colorscale": [
                          [
                            0,
                            "#0d0887"
                          ],
                          [
                            0.1111111111111111,
                            "#46039f"
                          ],
                          [
                            0.2222222222222222,
                            "#7201a8"
                          ],
                          [
                            0.3333333333333333,
                            "#9c179e"
                          ],
                          [
                            0.4444444444444444,
                            "#bd3786"
                          ],
                          [
                            0.5555555555555556,
                            "#d8576b"
                          ],
                          [
                            0.6666666666666666,
                            "#ed7953"
                          ],
                          [
                            0.7777777777777778,
                            "#fb9f3a"
                          ],
                          [
                            0.8888888888888888,
                            "#fdca26"
                          ],
                          [
                            1,
                            "#f0f921"
                          ]
                        ],
                        "type": "histogram2dcontour"
                      }
                    ],
                    "mesh3d": [
                      {
                        "colorbar": {
                          "outlinewidth": 0,
                          "ticks": ""
                        },
                        "type": "mesh3d"
                      }
                    ],
                    "parcoords": [
                      {
                        "line": {
                          "colorbar": {
                            "outlinewidth": 0,
                            "ticks": ""
                          }
                        },
                        "type": "parcoords"
                      }
                    ],
                    "pie": [
                      {
                        "automargin": true,
                        "type": "pie"
                      }
                    ],
                    "scatter": [
                      {
                        "fillpattern": {
                          "fillmode": "overlay",
                          "size": 10,
                          "solidity": 0.2
                        },
                        "type": "scatter"
                      }
                    ],
                    "scatter3d": [
                      {
                        "line": {
                          "colorbar": {
                            "outlinewidth": 0,
                            "ticks": ""
                          }
                        },
                        "marker": {
                          "colorbar": {
                            "outlinewidth": 0,
                            "ticks": ""
                          }
                        },
                        "type": "scatter3d"
                      }
                    ],
                    "scattercarpet": [
                      {
                        "marker": {
                          "colorbar": {
                            "outlinewidth": 0,
                            "ticks": ""
                          }
                        },
                        "type": "scattercarpet"
                      }
                    ],
                    "scattergeo": [
                      {
                        "marker": {
                          "colorbar": {
                            "outlinewidth": 0,
                            "ticks": ""
                          }
                        },
                        "type": "scattergeo"
                      }
                    ],
                    "scattergl": [
                      {
                        "marker": {
                          "colorbar": {
                            "outlinewidth": 0,
                            "ticks": ""
                          }
                        },
                        "type": "scattergl"
                      }
                    ],
                    "scattermapbox": [
                      {
                        "marker": {
                          "colorbar": {
                            "outlinewidth": 0,
                            "ticks": ""
                          }
                        },
                        "type": "scattermapbox"
                      }
                    ],
                    "scatterpolar": [
                      {
                        "marker": {
                          "colorbar": {
                            "outlinewidth": 0,
                            "ticks": ""
                          }
                        },
                        "type": "scatterpolar"
                      }
                    ],
                    "scatterpolargl": [
                      {
                        "marker": {
                          "colorbar": {
                            "outlinewidth": 0,
                            "ticks": ""
                          }
                        },
                        "type": "scatterpolargl"
                      }
                    ],
                    "scatterternary": [
                      {
                        "marker": {
                          "colorbar": {
                            "outlinewidth": 0,
                            "ticks": ""
                          }
                        },
                        "type": "scatterternary"
                      }
                    ],
                    "surface": [
                      {
                        "colorbar": {
                          "outlinewidth": 0,
                          "ticks": ""
                        },
                        "colorscale": [
                          [
                            0,
                            "#0d0887"
                          ],
                          [
                            0.1111111111111111,
                            "#46039f"
                          ],
                          [
                            0.2222222222222222,
                            "#7201a8"
                          ],
                          [
                            0.3333333333333333,
                            "#9c179e"
                          ],
                          [
                            0.4444444444444444,
                            "#bd3786"
                          ],
                          [
                            0.5555555555555556,
                            "#d8576b"
                          ],
                          [
                            0.6666666666666666,
                            "#ed7953"
                          ],
                          [
                            0.7777777777777778,
                            "#fb9f3a"
                          ],
                          [
                            0.8888888888888888,
                            "#fdca26"
                          ],
                          [
                            1,
                            "#f0f921"
                          ]
                        ],
                        "type": "surface"
                      }
                    ],
                    "table": [
                      {
                        "cells": {
                          "fill": {
                            "color": "#EBF0F8"
                          },
                          "line": {
                            "color": "white"
                          }
                        },
                        "header": {
                          "fill": {
                            "color": "#C8D4E3"
                          },
                          "line": {
                            "color": "white"
                          }
                        },
                        "type": "table"
                      }
                    ]
                  },
                  "layout": {
                    "annotationdefaults": {
                      "arrowcolor": "#2a3f5f",
                      "arrowhead": 0,
                      "arrowwidth": 1
                    },
                    "autotypenumbers": "strict",
                    "coloraxis": {
                      "colorbar": {
                        "outlinewidth": 0,
                        "ticks": ""
                      }
                    },
                    "colorscale": {
                      "diverging": [
                        [
                          0,
                          "#8e0152"
                        ],
                        [
                          0.1,
                          "#c51b7d"
                        ],
                        [
                          0.2,
                          "#de77ae"
                        ],
                        [
                          0.3,
                          "#f1b6da"
                        ],
                        [
                          0.4,
                          "#fde0ef"
                        ],
                        [
                          0.5,
                          "#f7f7f7"
                        ],
                        [
                          0.6,
                          "#e6f5d0"
                        ],
                        [
                          0.7,
                          "#b8e186"
                        ],
                        [
                          0.8,
                          "#7fbc41"
                        ],
                        [
                          0.9,
                          "#4d9221"
                        ],
                        [
                          1,
                          "#276419"
                        ]
                      ],
                      "sequential": [
                        [
                          0,
                          "#0d0887"
                        ],
                        [
                          0.1111111111111111,
                          "#46039f"
                        ],
                        [
                          0.2222222222222222,
                          "#7201a8"
                        ],
                        [
                          0.3333333333333333,
                          "#9c179e"
                        ],
                        [
                          0.4444444444444444,
                          "#bd3786"
                        ],
                        [
                          0.5555555555555556,
                          "#d8576b"
                        ],
                        [
                          0.6666666666666666,
                          "#ed7953"
                        ],
                        [
                          0.7777777777777778,
                          "#fb9f3a"
                        ],
                        [
                          0.8888888888888888,
                          "#fdca26"
                        ],
                        [
                          1,
                          "#f0f921"
                        ]
                      ],
                      "sequentialminus": [
                        [
                          0,
                          "#0d0887"
                        ],
                        [
                          0.1111111111111111,
                          "#46039f"
                        ],
                        [
                          0.2222222222222222,
                          "#7201a8"
                        ],
                        [
                          0.3333333333333333,
                          "#9c179e"
                        ],
                        [
                          0.4444444444444444,
                          "#bd3786"
                        ],
                        [
                          0.5555555555555556,
                          "#d8576b"
                        ],
                        [
                          0.6666666666666666,
                          "#ed7953"
                        ],
                        [
                          0.7777777777777778,
                          "#fb9f3a"
                        ],
                        [
                          0.8888888888888888,
                          "#fdca26"
                        ],
                        [
                          1,
                          "#f0f921"
                        ]
                      ]
                    },
                    "colorway": [
                      "#636efa",
                      "#EF553B",
                      "#00cc96",
                      "#ab63fa",
                      "#FFA15A",
                      "#19d3f3",
                      "#FF6692",
                      "#B6E880",
                      "#FF97FF",
                      "#FECB52"
                    ],
                    "font": {
                      "color": "#2a3f5f"
                    },
                    "geo": {
                      "bgcolor": "white",
                      "lakecolor": "white",
                      "landcolor": "white",
                      "showlakes": true,
                      "showland": true,
                      "subunitcolor": "#C8D4E3"
                    },
                    "hoverlabel": {
                      "align": "left"
                    },
                    "hovermode": "closest",
                    "mapbox": {
                      "style": "light"
                    },
                    "paper_bgcolor": "white",
                    "plot_bgcolor": "white",
                    "polar": {
                      "angularaxis": {
                        "gridcolor": "#EBF0F8",
                        "linecolor": "#EBF0F8",
                        "ticks": ""
                      },
                      "bgcolor": "white",
                      "radialaxis": {
                        "gridcolor": "#EBF0F8",
                        "linecolor": "#EBF0F8",
                        "ticks": ""
                      }
                    },
                    "scene": {
                      "xaxis": {
                        "backgroundcolor": "white",
                        "gridcolor": "#DFE8F3",
                        "gridwidth": 2,
                        "linecolor": "#EBF0F8",
                        "showbackground": true,
                        "ticks": "",
                        "zerolinecolor": "#EBF0F8"
                      },
                      "yaxis": {
                        "backgroundcolor": "white",
                        "gridcolor": "#DFE8F3",
                        "gridwidth": 2,
                        "linecolor": "#EBF0F8",
                        "showbackground": true,
                        "ticks": "",
                        "zerolinecolor": "#EBF0F8"
                      },
                      "zaxis": {
                        "backgroundcolor": "white",
                        "gridcolor": "#DFE8F3",
                        "gridwidth": 2,
                        "linecolor": "#EBF0F8",
                        "showbackground": true,
                        "ticks": "",
                        "zerolinecolor": "#EBF0F8"
                      }
                    },
                    "shapedefaults": {
                      "line": {
                        "color": "#2a3f5f"
                      }
                    },
                    "ternary": {
                      "aaxis": {
                        "gridcolor": "#DFE8F3",
                        "linecolor": "#A2B1C6",
                        "ticks": ""
                      },
                      "baxis": {
                        "gridcolor": "#DFE8F3",
                        "linecolor": "#A2B1C6",
                        "ticks": ""
                      },
                      "bgcolor": "white",
                      "caxis": {
                        "gridcolor": "#DFE8F3",
                        "linecolor": "#A2B1C6",
                        "ticks": ""
                      }
                    },
                    "title": {
                      "x": 0.05
                    },
                    "xaxis": {
                      "automargin": true,
                      "gridcolor": "#EBF0F8",
                      "linecolor": "#EBF0F8",
                      "ticks": "",
                      "title": {
                        "standoff": 15
                      },
                      "zerolinecolor": "#EBF0F8",
                      "zerolinewidth": 2
                    },
                    "yaxis": {
                      "automargin": true,
                      "gridcolor": "#EBF0F8",
                      "linecolor": "#EBF0F8",
                      "ticks": "",
                      "title": {
                        "standoff": 15
                      },
                      "zerolinecolor": "#EBF0F8",
                      "zerolinewidth": 2
                    }
                  }
                },
                "title": {
                  "font": {
                    "color": "#050609",
                    "size": 20
                  },
                  "text": "Distribuição de Doença por Sexo"
                },
                "xaxis": {
                  "anchor": "y",
                  "domain": [
                    0,
                    1
                  ],
                  "title": {
                    "text": "Sexo"
                  }
                },
                "yaxis": {
                  "anchor": "x",
                  "domain": [
                    0,
                    1
                  ],
                  "title": {
                    "text": "Número de Casos"
                  }
                }
              }
            }
          },
          "metadata": {},
          "output_type": "display_data"
        }
      ],
      "source": [
        "sex_groupby = df.groupby(['sex_labels', 'target_labels']).size().reset_index(name='count')\n",
        "\n",
        "# Gráfico de Barras\n",
        "\n",
        "sex_bar = px.bar(\n",
        "    sex_groupby,\n",
        "    x = 'sex_labels',\n",
        "    y = 'count',\n",
        "    color='target_labels',\n",
        "    color_discrete_map = {'Presença': color_pal[3], 'Ausência': color_pal[2]},\n",
        "    barmode='group',\n",
        "    labels={'sex_labels': 'Sexo', 'target_labels': 'Presença de Doença'},\n",
        "    title = 'Distribuição de Doença por Sexo'\n",
        ")\n",
        "\n",
        "# Layout\n",
        "\n",
        "sex_bar.update_layout(\n",
        "\n",
        "    font=dict(family =\"Fira Code, sans-serif\", color = color_pal[0], size=14),\n",
        "    title_font= dict(size = 20, color = color_pal[0]),\n",
        "\n",
        "    xaxis_title = \"Sexo\",\n",
        "    yaxis_title = \"Número de Casos\",\n",
        "    legend_title = 'Sexo',\n",
        "    template=\"plotly_white\",\n",
        ")\n",
        "\n",
        "sex_bar.show()"
      ]
    },
    {
      "cell_type": "code",
      "execution_count": 11,
      "metadata": {
        "colab": {
          "base_uri": "https://localhost:8080/",
          "height": 542
        },
        "id": "XEYopsOuTSFG",
        "outputId": "22f6860a-f468-4879-ab4d-7947a3ff09b6"
      },
      "outputs": [
        {
          "data": {
            "application/vnd.plotly.v1+json": {
              "config": {
                "plotlyServerURL": "https://plot.ly"
              },
              "data": [
                {
                  "customdata": [
                    [
                      "Feminino"
                    ],
                    [
                      "Feminino"
                    ],
                    [
                      "Masculino"
                    ],
                    [
                      "Masculino"
                    ]
                  ],
                  "domain": {
                    "x": [
                      0,
                      1
                    ],
                    "y": [
                      0,
                      1
                    ]
                  },
                  "hole": 0.3,
                  "hovertemplate": "Sexo=%{customdata[0]}<br>Num Pacientes=%{value}<extra></extra>",
                  "labels": [
                    "Feminino",
                    "Feminino",
                    "Masculino",
                    "Masculino"
                  ],
                  "legendgroup": "",
                  "marker": {
                    "colors": [
                      "#93C572",
                      "#93C572",
                      "#D9230F",
                      "#D9230F"
                    ]
                  },
                  "name": "",
                  "showlegend": true,
                  "textinfo": "percent+label",
                  "type": "pie",
                  "values": [
                    72,
                    25,
                    92,
                    114
                  ]
                }
              ],
              "layout": {
                "font": {
                  "color": "#050609",
                  "family": "Fira Code, sans-serif",
                  "size": 12
                },
                "legend": {
                  "orientation": "h",
                  "title": {
                    "text": "Sexo"
                  },
                  "tracegroupgap": 0,
                  "x": 0.5,
                  "xanchor": "center"
                },
                "margin": {
                  "t": 60
                },
                "template": {
                  "data": {
                    "bar": [
                      {
                        "error_x": {
                          "color": "#2a3f5f"
                        },
                        "error_y": {
                          "color": "#2a3f5f"
                        },
                        "marker": {
                          "line": {
                            "color": "#E5ECF6",
                            "width": 0.5
                          },
                          "pattern": {
                            "fillmode": "overlay",
                            "size": 10,
                            "solidity": 0.2
                          }
                        },
                        "type": "bar"
                      }
                    ],
                    "barpolar": [
                      {
                        "marker": {
                          "line": {
                            "color": "#E5ECF6",
                            "width": 0.5
                          },
                          "pattern": {
                            "fillmode": "overlay",
                            "size": 10,
                            "solidity": 0.2
                          }
                        },
                        "type": "barpolar"
                      }
                    ],
                    "carpet": [
                      {
                        "aaxis": {
                          "endlinecolor": "#2a3f5f",
                          "gridcolor": "white",
                          "linecolor": "white",
                          "minorgridcolor": "white",
                          "startlinecolor": "#2a3f5f"
                        },
                        "baxis": {
                          "endlinecolor": "#2a3f5f",
                          "gridcolor": "white",
                          "linecolor": "white",
                          "minorgridcolor": "white",
                          "startlinecolor": "#2a3f5f"
                        },
                        "type": "carpet"
                      }
                    ],
                    "choropleth": [
                      {
                        "colorbar": {
                          "outlinewidth": 0,
                          "ticks": ""
                        },
                        "type": "choropleth"
                      }
                    ],
                    "contour": [
                      {
                        "colorbar": {
                          "outlinewidth": 0,
                          "ticks": ""
                        },
                        "colorscale": [
                          [
                            0,
                            "#0d0887"
                          ],
                          [
                            0.1111111111111111,
                            "#46039f"
                          ],
                          [
                            0.2222222222222222,
                            "#7201a8"
                          ],
                          [
                            0.3333333333333333,
                            "#9c179e"
                          ],
                          [
                            0.4444444444444444,
                            "#bd3786"
                          ],
                          [
                            0.5555555555555556,
                            "#d8576b"
                          ],
                          [
                            0.6666666666666666,
                            "#ed7953"
                          ],
                          [
                            0.7777777777777778,
                            "#fb9f3a"
                          ],
                          [
                            0.8888888888888888,
                            "#fdca26"
                          ],
                          [
                            1,
                            "#f0f921"
                          ]
                        ],
                        "type": "contour"
                      }
                    ],
                    "contourcarpet": [
                      {
                        "colorbar": {
                          "outlinewidth": 0,
                          "ticks": ""
                        },
                        "type": "contourcarpet"
                      }
                    ],
                    "heatmap": [
                      {
                        "colorbar": {
                          "outlinewidth": 0,
                          "ticks": ""
                        },
                        "colorscale": [
                          [
                            0,
                            "#0d0887"
                          ],
                          [
                            0.1111111111111111,
                            "#46039f"
                          ],
                          [
                            0.2222222222222222,
                            "#7201a8"
                          ],
                          [
                            0.3333333333333333,
                            "#9c179e"
                          ],
                          [
                            0.4444444444444444,
                            "#bd3786"
                          ],
                          [
                            0.5555555555555556,
                            "#d8576b"
                          ],
                          [
                            0.6666666666666666,
                            "#ed7953"
                          ],
                          [
                            0.7777777777777778,
                            "#fb9f3a"
                          ],
                          [
                            0.8888888888888888,
                            "#fdca26"
                          ],
                          [
                            1,
                            "#f0f921"
                          ]
                        ],
                        "type": "heatmap"
                      }
                    ],
                    "heatmapgl": [
                      {
                        "colorbar": {
                          "outlinewidth": 0,
                          "ticks": ""
                        },
                        "colorscale": [
                          [
                            0,
                            "#0d0887"
                          ],
                          [
                            0.1111111111111111,
                            "#46039f"
                          ],
                          [
                            0.2222222222222222,
                            "#7201a8"
                          ],
                          [
                            0.3333333333333333,
                            "#9c179e"
                          ],
                          [
                            0.4444444444444444,
                            "#bd3786"
                          ],
                          [
                            0.5555555555555556,
                            "#d8576b"
                          ],
                          [
                            0.6666666666666666,
                            "#ed7953"
                          ],
                          [
                            0.7777777777777778,
                            "#fb9f3a"
                          ],
                          [
                            0.8888888888888888,
                            "#fdca26"
                          ],
                          [
                            1,
                            "#f0f921"
                          ]
                        ],
                        "type": "heatmapgl"
                      }
                    ],
                    "histogram": [
                      {
                        "marker": {
                          "pattern": {
                            "fillmode": "overlay",
                            "size": 10,
                            "solidity": 0.2
                          }
                        },
                        "type": "histogram"
                      }
                    ],
                    "histogram2d": [
                      {
                        "colorbar": {
                          "outlinewidth": 0,
                          "ticks": ""
                        },
                        "colorscale": [
                          [
                            0,
                            "#0d0887"
                          ],
                          [
                            0.1111111111111111,
                            "#46039f"
                          ],
                          [
                            0.2222222222222222,
                            "#7201a8"
                          ],
                          [
                            0.3333333333333333,
                            "#9c179e"
                          ],
                          [
                            0.4444444444444444,
                            "#bd3786"
                          ],
                          [
                            0.5555555555555556,
                            "#d8576b"
                          ],
                          [
                            0.6666666666666666,
                            "#ed7953"
                          ],
                          [
                            0.7777777777777778,
                            "#fb9f3a"
                          ],
                          [
                            0.8888888888888888,
                            "#fdca26"
                          ],
                          [
                            1,
                            "#f0f921"
                          ]
                        ],
                        "type": "histogram2d"
                      }
                    ],
                    "histogram2dcontour": [
                      {
                        "colorbar": {
                          "outlinewidth": 0,
                          "ticks": ""
                        },
                        "colorscale": [
                          [
                            0,
                            "#0d0887"
                          ],
                          [
                            0.1111111111111111,
                            "#46039f"
                          ],
                          [
                            0.2222222222222222,
                            "#7201a8"
                          ],
                          [
                            0.3333333333333333,
                            "#9c179e"
                          ],
                          [
                            0.4444444444444444,
                            "#bd3786"
                          ],
                          [
                            0.5555555555555556,
                            "#d8576b"
                          ],
                          [
                            0.6666666666666666,
                            "#ed7953"
                          ],
                          [
                            0.7777777777777778,
                            "#fb9f3a"
                          ],
                          [
                            0.8888888888888888,
                            "#fdca26"
                          ],
                          [
                            1,
                            "#f0f921"
                          ]
                        ],
                        "type": "histogram2dcontour"
                      }
                    ],
                    "mesh3d": [
                      {
                        "colorbar": {
                          "outlinewidth": 0,
                          "ticks": ""
                        },
                        "type": "mesh3d"
                      }
                    ],
                    "parcoords": [
                      {
                        "line": {
                          "colorbar": {
                            "outlinewidth": 0,
                            "ticks": ""
                          }
                        },
                        "type": "parcoords"
                      }
                    ],
                    "pie": [
                      {
                        "automargin": true,
                        "type": "pie"
                      }
                    ],
                    "scatter": [
                      {
                        "fillpattern": {
                          "fillmode": "overlay",
                          "size": 10,
                          "solidity": 0.2
                        },
                        "type": "scatter"
                      }
                    ],
                    "scatter3d": [
                      {
                        "line": {
                          "colorbar": {
                            "outlinewidth": 0,
                            "ticks": ""
                          }
                        },
                        "marker": {
                          "colorbar": {
                            "outlinewidth": 0,
                            "ticks": ""
                          }
                        },
                        "type": "scatter3d"
                      }
                    ],
                    "scattercarpet": [
                      {
                        "marker": {
                          "colorbar": {
                            "outlinewidth": 0,
                            "ticks": ""
                          }
                        },
                        "type": "scattercarpet"
                      }
                    ],
                    "scattergeo": [
                      {
                        "marker": {
                          "colorbar": {
                            "outlinewidth": 0,
                            "ticks": ""
                          }
                        },
                        "type": "scattergeo"
                      }
                    ],
                    "scattergl": [
                      {
                        "marker": {
                          "colorbar": {
                            "outlinewidth": 0,
                            "ticks": ""
                          }
                        },
                        "type": "scattergl"
                      }
                    ],
                    "scattermapbox": [
                      {
                        "marker": {
                          "colorbar": {
                            "outlinewidth": 0,
                            "ticks": ""
                          }
                        },
                        "type": "scattermapbox"
                      }
                    ],
                    "scatterpolar": [
                      {
                        "marker": {
                          "colorbar": {
                            "outlinewidth": 0,
                            "ticks": ""
                          }
                        },
                        "type": "scatterpolar"
                      }
                    ],
                    "scatterpolargl": [
                      {
                        "marker": {
                          "colorbar": {
                            "outlinewidth": 0,
                            "ticks": ""
                          }
                        },
                        "type": "scatterpolargl"
                      }
                    ],
                    "scatterternary": [
                      {
                        "marker": {
                          "colorbar": {
                            "outlinewidth": 0,
                            "ticks": ""
                          }
                        },
                        "type": "scatterternary"
                      }
                    ],
                    "surface": [
                      {
                        "colorbar": {
                          "outlinewidth": 0,
                          "ticks": ""
                        },
                        "colorscale": [
                          [
                            0,
                            "#0d0887"
                          ],
                          [
                            0.1111111111111111,
                            "#46039f"
                          ],
                          [
                            0.2222222222222222,
                            "#7201a8"
                          ],
                          [
                            0.3333333333333333,
                            "#9c179e"
                          ],
                          [
                            0.4444444444444444,
                            "#bd3786"
                          ],
                          [
                            0.5555555555555556,
                            "#d8576b"
                          ],
                          [
                            0.6666666666666666,
                            "#ed7953"
                          ],
                          [
                            0.7777777777777778,
                            "#fb9f3a"
                          ],
                          [
                            0.8888888888888888,
                            "#fdca26"
                          ],
                          [
                            1,
                            "#f0f921"
                          ]
                        ],
                        "type": "surface"
                      }
                    ],
                    "table": [
                      {
                        "cells": {
                          "fill": {
                            "color": "#EBF0F8"
                          },
                          "line": {
                            "color": "white"
                          }
                        },
                        "header": {
                          "fill": {
                            "color": "#C8D4E3"
                          },
                          "line": {
                            "color": "white"
                          }
                        },
                        "type": "table"
                      }
                    ]
                  },
                  "layout": {
                    "annotationdefaults": {
                      "arrowcolor": "#2a3f5f",
                      "arrowhead": 0,
                      "arrowwidth": 1
                    },
                    "autotypenumbers": "strict",
                    "coloraxis": {
                      "colorbar": {
                        "outlinewidth": 0,
                        "ticks": ""
                      }
                    },
                    "colorscale": {
                      "diverging": [
                        [
                          0,
                          "#8e0152"
                        ],
                        [
                          0.1,
                          "#c51b7d"
                        ],
                        [
                          0.2,
                          "#de77ae"
                        ],
                        [
                          0.3,
                          "#f1b6da"
                        ],
                        [
                          0.4,
                          "#fde0ef"
                        ],
                        [
                          0.5,
                          "#f7f7f7"
                        ],
                        [
                          0.6,
                          "#e6f5d0"
                        ],
                        [
                          0.7,
                          "#b8e186"
                        ],
                        [
                          0.8,
                          "#7fbc41"
                        ],
                        [
                          0.9,
                          "#4d9221"
                        ],
                        [
                          1,
                          "#276419"
                        ]
                      ],
                      "sequential": [
                        [
                          0,
                          "#0d0887"
                        ],
                        [
                          0.1111111111111111,
                          "#46039f"
                        ],
                        [
                          0.2222222222222222,
                          "#7201a8"
                        ],
                        [
                          0.3333333333333333,
                          "#9c179e"
                        ],
                        [
                          0.4444444444444444,
                          "#bd3786"
                        ],
                        [
                          0.5555555555555556,
                          "#d8576b"
                        ],
                        [
                          0.6666666666666666,
                          "#ed7953"
                        ],
                        [
                          0.7777777777777778,
                          "#fb9f3a"
                        ],
                        [
                          0.8888888888888888,
                          "#fdca26"
                        ],
                        [
                          1,
                          "#f0f921"
                        ]
                      ],
                      "sequentialminus": [
                        [
                          0,
                          "#0d0887"
                        ],
                        [
                          0.1111111111111111,
                          "#46039f"
                        ],
                        [
                          0.2222222222222222,
                          "#7201a8"
                        ],
                        [
                          0.3333333333333333,
                          "#9c179e"
                        ],
                        [
                          0.4444444444444444,
                          "#bd3786"
                        ],
                        [
                          0.5555555555555556,
                          "#d8576b"
                        ],
                        [
                          0.6666666666666666,
                          "#ed7953"
                        ],
                        [
                          0.7777777777777778,
                          "#fb9f3a"
                        ],
                        [
                          0.8888888888888888,
                          "#fdca26"
                        ],
                        [
                          1,
                          "#f0f921"
                        ]
                      ]
                    },
                    "colorway": [
                      "#636efa",
                      "#EF553B",
                      "#00cc96",
                      "#ab63fa",
                      "#FFA15A",
                      "#19d3f3",
                      "#FF6692",
                      "#B6E880",
                      "#FF97FF",
                      "#FECB52"
                    ],
                    "font": {
                      "color": "#050609",
                      "family": "Fira Code, sans-serif",
                      "size": 14
                    },
                    "geo": {
                      "bgcolor": "white",
                      "lakecolor": "white",
                      "landcolor": "#E5ECF6",
                      "showlakes": true,
                      "showland": true,
                      "subunitcolor": "white"
                    },
                    "hoverlabel": {
                      "align": "left"
                    },
                    "hovermode": "closest",
                    "mapbox": {
                      "style": "light"
                    },
                    "paper_bgcolor": "white",
                    "plot_bgcolor": "#E5ECF6",
                    "polar": {
                      "angularaxis": {
                        "gridcolor": "white",
                        "linecolor": "white",
                        "ticks": ""
                      },
                      "bgcolor": "#E5ECF6",
                      "radialaxis": {
                        "gridcolor": "white",
                        "linecolor": "white",
                        "ticks": ""
                      }
                    },
                    "scene": {
                      "xaxis": {
                        "backgroundcolor": "#E5ECF6",
                        "gridcolor": "white",
                        "gridwidth": 2,
                        "linecolor": "white",
                        "showbackground": true,
                        "ticks": "",
                        "zerolinecolor": "white"
                      },
                      "yaxis": {
                        "backgroundcolor": "#E5ECF6",
                        "gridcolor": "white",
                        "gridwidth": 2,
                        "linecolor": "white",
                        "showbackground": true,
                        "ticks": "",
                        "zerolinecolor": "white"
                      },
                      "zaxis": {
                        "backgroundcolor": "#E5ECF6",
                        "gridcolor": "white",
                        "gridwidth": 2,
                        "linecolor": "white",
                        "showbackground": true,
                        "ticks": "",
                        "zerolinecolor": "white"
                      }
                    },
                    "shapedefaults": {
                      "line": {
                        "color": "#2a3f5f"
                      }
                    },
                    "ternary": {
                      "aaxis": {
                        "gridcolor": "white",
                        "linecolor": "white",
                        "ticks": ""
                      },
                      "baxis": {
                        "gridcolor": "white",
                        "linecolor": "white",
                        "ticks": ""
                      },
                      "bgcolor": "#E5ECF6",
                      "caxis": {
                        "gridcolor": "white",
                        "linecolor": "white",
                        "ticks": ""
                      }
                    },
                    "title": {
                      "x": 0.05
                    },
                    "xaxis": {
                      "automargin": true,
                      "gridcolor": "white",
                      "linecolor": "white",
                      "ticks": "",
                      "title": {
                        "standoff": 15
                      },
                      "zerolinecolor": "white",
                      "zerolinewidth": 2
                    },
                    "yaxis": {
                      "automargin": true,
                      "gridcolor": "white",
                      "linecolor": "white",
                      "ticks": "",
                      "title": {
                        "standoff": 15
                      },
                      "zerolinecolor": "white",
                      "zerolinewidth": 2
                    }
                  }
                }
              }
            }
          },
          "metadata": {},
          "output_type": "display_data"
        }
      ],
      "source": [
        "sex_donut = px.pie(\n",
        "    sex_groupby,\n",
        "    values='count',\n",
        "    names='sex_labels',\n",
        "    color='sex_labels',\n",
        "    color_discrete_map = {'Feminino': color_pal[4], 'Masculino': color_pal[3]},\n",
        "    hole=0.3,\n",
        "    labels = {'sex_labels': 'Sexo', 'count': 'Num Pacientes'},\n",
        "\n",
        "\n",
        ")\n",
        "\n",
        "sex_donut.update_traces(textinfo='percent+label')\n",
        "\n",
        "# Layout\n",
        "\n",
        "sex_donut.update_layout(\n",
        "\n",
        "    font=dict(family =\"Fira Code, sans-serif\", color = color_pal[0], size=12),\n",
        "\n",
        "    legend=dict(\n",
        "        title=\"Sexo\",\n",
        "        orientation=\"h\",\n",
        "        x=0.5,\n",
        "        xanchor=\"center\",\n",
        "    ),\n",
        ")\n",
        "\n",
        "sex_donut.show()"
      ]
    },
    {
      "cell_type": "code",
      "execution_count": 12,
      "metadata": {
        "id": "j3FVx-gSXYfW"
      },
      "outputs": [],
      "source": [
        "sex_note = '''\n",
        "- A maior concentração de doença cardíaca está mais associada ao gênero masculino. Uma possível explicação empírica para esse comportamento é pautada nas diferenças de cuidados de saúde entre homens e mulheres, uma questão profunda que envolve até mesmo cultura. Por pura observação,a presença de comportamentos e vícios que prejudicam a saúde, como tabagismo e etilismo, geralmente estão associadas ao sexo masculino. Vale lembrar que essa afirmação é apenas empírica.\n",
        "\n",
        "'''"
      ]
    },
    {
      "cell_type": "markdown",
      "metadata": {
        "id": "zbkAV1iGXNbW",
        "jp-MarkdownHeadingCollapsed": true
      },
      "source": [
        "## Age"
      ]
    },
    {
      "cell_type": "code",
      "execution_count": 13,
      "metadata": {
        "colab": {
          "base_uri": "https://localhost:8080/",
          "height": 542
        },
        "id": "acOGt6xBvugm",
        "outputId": "00fced55-b780-4682-fb3b-aea944d54f87"
      },
      "outputs": [
        {
          "data": {
            "application/vnd.plotly.v1+json": {
              "config": {
                "plotlyServerURL": "https://plot.ly"
              },
              "data": [
                {
                  "alignmentgroup": "True",
                  "bingroup": "x",
                  "histnorm": "probability density",
                  "hovertemplate": "Sexo=Masculino<br>Idade=%{x}<br>probability density=%{y}<extra></extra>",
                  "legendgroup": "Masculino",
                  "marker": {
                    "color": "#D9230F",
                    "opacity": 0.8,
                    "pattern": {
                      "shape": ""
                    }
                  },
                  "name": "Masculino",
                  "nbinsx": 40,
                  "offsetgroup": "Masculino",
                  "orientation": "v",
                  "showlegend": true,
                  "type": "histogram",
                  "x": [
                    67,
                    67,
                    63,
                    53,
                    56,
                    48,
                    58,
                    58,
                    60,
                    40,
                    60,
                    64,
                    43,
                    57,
                    55,
                    58,
                    50,
                    44,
                    60,
                    54,
                    50,
                    41,
                    58,
                    54,
                    60,
                    60,
                    59,
                    46,
                    67,
                    62,
                    65,
                    44,
                    60,
                    58,
                    68,
                    52,
                    59,
                    49,
                    59,
                    57,
                    61,
                    39,
                    56,
                    63,
                    65,
                    48,
                    55,
                    65,
                    54,
                    70,
                    62,
                    35,
                    59,
                    64,
                    47,
                    57,
                    55,
                    64,
                    70,
                    51,
                    58,
                    60,
                    77,
                    35,
                    70,
                    64,
                    57,
                    56,
                    48,
                    66,
                    54,
                    69,
                    51,
                    43,
                    67,
                    59,
                    45,
                    58,
                    50,
                    38,
                    52,
                    53,
                    54,
                    66,
                    49,
                    54,
                    56,
                    46,
                    61,
                    67,
                    58,
                    47,
                    52,
                    58,
                    57,
                    61,
                    42,
                    52,
                    59,
                    40,
                    61,
                    46,
                    59,
                    57,
                    57,
                    61,
                    58,
                    67,
                    44,
                    63,
                    59,
                    45,
                    68,
                    57
                  ],
                  "xaxis": "x",
                  "yaxis": "y"
                },
                {
                  "alignmentgroup": "True",
                  "hovertemplate": "Sexo=Masculino<br>Idade=%{x}<extra></extra>",
                  "legendgroup": "Masculino",
                  "marker": {
                    "color": "#D9230F"
                  },
                  "name": "Masculino",
                  "offsetgroup": "Masculino",
                  "scalegroup": "x",
                  "showlegend": false,
                  "type": "violin",
                  "x": [
                    67,
                    67,
                    63,
                    53,
                    56,
                    48,
                    58,
                    58,
                    60,
                    40,
                    60,
                    64,
                    43,
                    57,
                    55,
                    58,
                    50,
                    44,
                    60,
                    54,
                    50,
                    41,
                    58,
                    54,
                    60,
                    60,
                    59,
                    46,
                    67,
                    62,
                    65,
                    44,
                    60,
                    58,
                    68,
                    52,
                    59,
                    49,
                    59,
                    57,
                    61,
                    39,
                    56,
                    63,
                    65,
                    48,
                    55,
                    65,
                    54,
                    70,
                    62,
                    35,
                    59,
                    64,
                    47,
                    57,
                    55,
                    64,
                    70,
                    51,
                    58,
                    60,
                    77,
                    35,
                    70,
                    64,
                    57,
                    56,
                    48,
                    66,
                    54,
                    69,
                    51,
                    43,
                    67,
                    59,
                    45,
                    58,
                    50,
                    38,
                    52,
                    53,
                    54,
                    66,
                    49,
                    54,
                    56,
                    46,
                    61,
                    67,
                    58,
                    47,
                    52,
                    58,
                    57,
                    61,
                    42,
                    52,
                    59,
                    40,
                    61,
                    46,
                    59,
                    57,
                    57,
                    61,
                    58,
                    67,
                    44,
                    63,
                    59,
                    45,
                    68,
                    57
                  ],
                  "xaxis": "x2",
                  "yaxis": "y2"
                },
                {
                  "alignmentgroup": "True",
                  "bingroup": "x",
                  "histnorm": "probability density",
                  "hovertemplate": "Sexo=Feminino<br>Idade=%{x}<br>probability density=%{y}<extra></extra>",
                  "legendgroup": "Feminino",
                  "marker": {
                    "color": "#93C572",
                    "opacity": 0.8,
                    "pattern": {
                      "shape": ""
                    }
                  },
                  "name": "Feminino",
                  "nbinsx": 40,
                  "offsetgroup": "Feminino",
                  "orientation": "v",
                  "showlegend": true,
                  "type": "histogram",
                  "x": [
                    62,
                    65,
                    61,
                    51,
                    62,
                    60,
                    61,
                    43,
                    62,
                    63,
                    56,
                    59,
                    56,
                    60,
                    62,
                    62,
                    66,
                    63,
                    55,
                    58,
                    55,
                    58,
                    63,
                    57,
                    57
                  ],
                  "xaxis": "x",
                  "yaxis": "y"
                },
                {
                  "alignmentgroup": "True",
                  "hovertemplate": "Sexo=Feminino<br>Idade=%{x}<extra></extra>",
                  "legendgroup": "Feminino",
                  "marker": {
                    "color": "#93C572"
                  },
                  "name": "Feminino",
                  "offsetgroup": "Feminino",
                  "scalegroup": "x",
                  "showlegend": false,
                  "type": "violin",
                  "x": [
                    62,
                    65,
                    61,
                    51,
                    62,
                    60,
                    61,
                    43,
                    62,
                    63,
                    56,
                    59,
                    56,
                    60,
                    62,
                    62,
                    66,
                    63,
                    55,
                    58,
                    55,
                    58,
                    63,
                    57,
                    57
                  ],
                  "xaxis": "x2",
                  "yaxis": "y2"
                }
              ],
              "layout": {
                "barmode": "overlay",
                "font": {
                  "color": "#050609",
                  "family": "Fira Code, sans-serif",
                  "size": 14
                },
                "legend": {
                  "title": {
                    "text": "Sexo"
                  },
                  "tracegroupgap": 0
                },
                "template": {
                  "data": {
                    "bar": [
                      {
                        "error_x": {
                          "color": "#2a3f5f"
                        },
                        "error_y": {
                          "color": "#2a3f5f"
                        },
                        "marker": {
                          "line": {
                            "color": "white",
                            "width": 0.5
                          },
                          "pattern": {
                            "fillmode": "overlay",
                            "size": 10,
                            "solidity": 0.2
                          }
                        },
                        "type": "bar"
                      }
                    ],
                    "barpolar": [
                      {
                        "marker": {
                          "line": {
                            "color": "white",
                            "width": 0.5
                          },
                          "pattern": {
                            "fillmode": "overlay",
                            "size": 10,
                            "solidity": 0.2
                          }
                        },
                        "type": "barpolar"
                      }
                    ],
                    "carpet": [
                      {
                        "aaxis": {
                          "endlinecolor": "#2a3f5f",
                          "gridcolor": "#C8D4E3",
                          "linecolor": "#C8D4E3",
                          "minorgridcolor": "#C8D4E3",
                          "startlinecolor": "#2a3f5f"
                        },
                        "baxis": {
                          "endlinecolor": "#2a3f5f",
                          "gridcolor": "#C8D4E3",
                          "linecolor": "#C8D4E3",
                          "minorgridcolor": "#C8D4E3",
                          "startlinecolor": "#2a3f5f"
                        },
                        "type": "carpet"
                      }
                    ],
                    "choropleth": [
                      {
                        "colorbar": {
                          "outlinewidth": 0,
                          "ticks": ""
                        },
                        "type": "choropleth"
                      }
                    ],
                    "contour": [
                      {
                        "colorbar": {
                          "outlinewidth": 0,
                          "ticks": ""
                        },
                        "colorscale": [
                          [
                            0,
                            "#0d0887"
                          ],
                          [
                            0.1111111111111111,
                            "#46039f"
                          ],
                          [
                            0.2222222222222222,
                            "#7201a8"
                          ],
                          [
                            0.3333333333333333,
                            "#9c179e"
                          ],
                          [
                            0.4444444444444444,
                            "#bd3786"
                          ],
                          [
                            0.5555555555555556,
                            "#d8576b"
                          ],
                          [
                            0.6666666666666666,
                            "#ed7953"
                          ],
                          [
                            0.7777777777777778,
                            "#fb9f3a"
                          ],
                          [
                            0.8888888888888888,
                            "#fdca26"
                          ],
                          [
                            1,
                            "#f0f921"
                          ]
                        ],
                        "type": "contour"
                      }
                    ],
                    "contourcarpet": [
                      {
                        "colorbar": {
                          "outlinewidth": 0,
                          "ticks": ""
                        },
                        "type": "contourcarpet"
                      }
                    ],
                    "heatmap": [
                      {
                        "colorbar": {
                          "outlinewidth": 0,
                          "ticks": ""
                        },
                        "colorscale": [
                          [
                            0,
                            "#0d0887"
                          ],
                          [
                            0.1111111111111111,
                            "#46039f"
                          ],
                          [
                            0.2222222222222222,
                            "#7201a8"
                          ],
                          [
                            0.3333333333333333,
                            "#9c179e"
                          ],
                          [
                            0.4444444444444444,
                            "#bd3786"
                          ],
                          [
                            0.5555555555555556,
                            "#d8576b"
                          ],
                          [
                            0.6666666666666666,
                            "#ed7953"
                          ],
                          [
                            0.7777777777777778,
                            "#fb9f3a"
                          ],
                          [
                            0.8888888888888888,
                            "#fdca26"
                          ],
                          [
                            1,
                            "#f0f921"
                          ]
                        ],
                        "type": "heatmap"
                      }
                    ],
                    "heatmapgl": [
                      {
                        "colorbar": {
                          "outlinewidth": 0,
                          "ticks": ""
                        },
                        "colorscale": [
                          [
                            0,
                            "#0d0887"
                          ],
                          [
                            0.1111111111111111,
                            "#46039f"
                          ],
                          [
                            0.2222222222222222,
                            "#7201a8"
                          ],
                          [
                            0.3333333333333333,
                            "#9c179e"
                          ],
                          [
                            0.4444444444444444,
                            "#bd3786"
                          ],
                          [
                            0.5555555555555556,
                            "#d8576b"
                          ],
                          [
                            0.6666666666666666,
                            "#ed7953"
                          ],
                          [
                            0.7777777777777778,
                            "#fb9f3a"
                          ],
                          [
                            0.8888888888888888,
                            "#fdca26"
                          ],
                          [
                            1,
                            "#f0f921"
                          ]
                        ],
                        "type": "heatmapgl"
                      }
                    ],
                    "histogram": [
                      {
                        "marker": {
                          "pattern": {
                            "fillmode": "overlay",
                            "size": 10,
                            "solidity": 0.2
                          }
                        },
                        "type": "histogram"
                      }
                    ],
                    "histogram2d": [
                      {
                        "colorbar": {
                          "outlinewidth": 0,
                          "ticks": ""
                        },
                        "colorscale": [
                          [
                            0,
                            "#0d0887"
                          ],
                          [
                            0.1111111111111111,
                            "#46039f"
                          ],
                          [
                            0.2222222222222222,
                            "#7201a8"
                          ],
                          [
                            0.3333333333333333,
                            "#9c179e"
                          ],
                          [
                            0.4444444444444444,
                            "#bd3786"
                          ],
                          [
                            0.5555555555555556,
                            "#d8576b"
                          ],
                          [
                            0.6666666666666666,
                            "#ed7953"
                          ],
                          [
                            0.7777777777777778,
                            "#fb9f3a"
                          ],
                          [
                            0.8888888888888888,
                            "#fdca26"
                          ],
                          [
                            1,
                            "#f0f921"
                          ]
                        ],
                        "type": "histogram2d"
                      }
                    ],
                    "histogram2dcontour": [
                      {
                        "colorbar": {
                          "outlinewidth": 0,
                          "ticks": ""
                        },
                        "colorscale": [
                          [
                            0,
                            "#0d0887"
                          ],
                          [
                            0.1111111111111111,
                            "#46039f"
                          ],
                          [
                            0.2222222222222222,
                            "#7201a8"
                          ],
                          [
                            0.3333333333333333,
                            "#9c179e"
                          ],
                          [
                            0.4444444444444444,
                            "#bd3786"
                          ],
                          [
                            0.5555555555555556,
                            "#d8576b"
                          ],
                          [
                            0.6666666666666666,
                            "#ed7953"
                          ],
                          [
                            0.7777777777777778,
                            "#fb9f3a"
                          ],
                          [
                            0.8888888888888888,
                            "#fdca26"
                          ],
                          [
                            1,
                            "#f0f921"
                          ]
                        ],
                        "type": "histogram2dcontour"
                      }
                    ],
                    "mesh3d": [
                      {
                        "colorbar": {
                          "outlinewidth": 0,
                          "ticks": ""
                        },
                        "type": "mesh3d"
                      }
                    ],
                    "parcoords": [
                      {
                        "line": {
                          "colorbar": {
                            "outlinewidth": 0,
                            "ticks": ""
                          }
                        },
                        "type": "parcoords"
                      }
                    ],
                    "pie": [
                      {
                        "automargin": true,
                        "type": "pie"
                      }
                    ],
                    "scatter": [
                      {
                        "fillpattern": {
                          "fillmode": "overlay",
                          "size": 10,
                          "solidity": 0.2
                        },
                        "type": "scatter"
                      }
                    ],
                    "scatter3d": [
                      {
                        "line": {
                          "colorbar": {
                            "outlinewidth": 0,
                            "ticks": ""
                          }
                        },
                        "marker": {
                          "colorbar": {
                            "outlinewidth": 0,
                            "ticks": ""
                          }
                        },
                        "type": "scatter3d"
                      }
                    ],
                    "scattercarpet": [
                      {
                        "marker": {
                          "colorbar": {
                            "outlinewidth": 0,
                            "ticks": ""
                          }
                        },
                        "type": "scattercarpet"
                      }
                    ],
                    "scattergeo": [
                      {
                        "marker": {
                          "colorbar": {
                            "outlinewidth": 0,
                            "ticks": ""
                          }
                        },
                        "type": "scattergeo"
                      }
                    ],
                    "scattergl": [
                      {
                        "marker": {
                          "colorbar": {
                            "outlinewidth": 0,
                            "ticks": ""
                          }
                        },
                        "type": "scattergl"
                      }
                    ],
                    "scattermapbox": [
                      {
                        "marker": {
                          "colorbar": {
                            "outlinewidth": 0,
                            "ticks": ""
                          }
                        },
                        "type": "scattermapbox"
                      }
                    ],
                    "scatterpolar": [
                      {
                        "marker": {
                          "colorbar": {
                            "outlinewidth": 0,
                            "ticks": ""
                          }
                        },
                        "type": "scatterpolar"
                      }
                    ],
                    "scatterpolargl": [
                      {
                        "marker": {
                          "colorbar": {
                            "outlinewidth": 0,
                            "ticks": ""
                          }
                        },
                        "type": "scatterpolargl"
                      }
                    ],
                    "scatterternary": [
                      {
                        "marker": {
                          "colorbar": {
                            "outlinewidth": 0,
                            "ticks": ""
                          }
                        },
                        "type": "scatterternary"
                      }
                    ],
                    "surface": [
                      {
                        "colorbar": {
                          "outlinewidth": 0,
                          "ticks": ""
                        },
                        "colorscale": [
                          [
                            0,
                            "#0d0887"
                          ],
                          [
                            0.1111111111111111,
                            "#46039f"
                          ],
                          [
                            0.2222222222222222,
                            "#7201a8"
                          ],
                          [
                            0.3333333333333333,
                            "#9c179e"
                          ],
                          [
                            0.4444444444444444,
                            "#bd3786"
                          ],
                          [
                            0.5555555555555556,
                            "#d8576b"
                          ],
                          [
                            0.6666666666666666,
                            "#ed7953"
                          ],
                          [
                            0.7777777777777778,
                            "#fb9f3a"
                          ],
                          [
                            0.8888888888888888,
                            "#fdca26"
                          ],
                          [
                            1,
                            "#f0f921"
                          ]
                        ],
                        "type": "surface"
                      }
                    ],
                    "table": [
                      {
                        "cells": {
                          "fill": {
                            "color": "#EBF0F8"
                          },
                          "line": {
                            "color": "white"
                          }
                        },
                        "header": {
                          "fill": {
                            "color": "#C8D4E3"
                          },
                          "line": {
                            "color": "white"
                          }
                        },
                        "type": "table"
                      }
                    ]
                  },
                  "layout": {
                    "annotationdefaults": {
                      "arrowcolor": "#2a3f5f",
                      "arrowhead": 0,
                      "arrowwidth": 1
                    },
                    "autotypenumbers": "strict",
                    "coloraxis": {
                      "colorbar": {
                        "outlinewidth": 0,
                        "ticks": ""
                      }
                    },
                    "colorscale": {
                      "diverging": [
                        [
                          0,
                          "#8e0152"
                        ],
                        [
                          0.1,
                          "#c51b7d"
                        ],
                        [
                          0.2,
                          "#de77ae"
                        ],
                        [
                          0.3,
                          "#f1b6da"
                        ],
                        [
                          0.4,
                          "#fde0ef"
                        ],
                        [
                          0.5,
                          "#f7f7f7"
                        ],
                        [
                          0.6,
                          "#e6f5d0"
                        ],
                        [
                          0.7,
                          "#b8e186"
                        ],
                        [
                          0.8,
                          "#7fbc41"
                        ],
                        [
                          0.9,
                          "#4d9221"
                        ],
                        [
                          1,
                          "#276419"
                        ]
                      ],
                      "sequential": [
                        [
                          0,
                          "#0d0887"
                        ],
                        [
                          0.1111111111111111,
                          "#46039f"
                        ],
                        [
                          0.2222222222222222,
                          "#7201a8"
                        ],
                        [
                          0.3333333333333333,
                          "#9c179e"
                        ],
                        [
                          0.4444444444444444,
                          "#bd3786"
                        ],
                        [
                          0.5555555555555556,
                          "#d8576b"
                        ],
                        [
                          0.6666666666666666,
                          "#ed7953"
                        ],
                        [
                          0.7777777777777778,
                          "#fb9f3a"
                        ],
                        [
                          0.8888888888888888,
                          "#fdca26"
                        ],
                        [
                          1,
                          "#f0f921"
                        ]
                      ],
                      "sequentialminus": [
                        [
                          0,
                          "#0d0887"
                        ],
                        [
                          0.1111111111111111,
                          "#46039f"
                        ],
                        [
                          0.2222222222222222,
                          "#7201a8"
                        ],
                        [
                          0.3333333333333333,
                          "#9c179e"
                        ],
                        [
                          0.4444444444444444,
                          "#bd3786"
                        ],
                        [
                          0.5555555555555556,
                          "#d8576b"
                        ],
                        [
                          0.6666666666666666,
                          "#ed7953"
                        ],
                        [
                          0.7777777777777778,
                          "#fb9f3a"
                        ],
                        [
                          0.8888888888888888,
                          "#fdca26"
                        ],
                        [
                          1,
                          "#f0f921"
                        ]
                      ]
                    },
                    "colorway": [
                      "#636efa",
                      "#EF553B",
                      "#00cc96",
                      "#ab63fa",
                      "#FFA15A",
                      "#19d3f3",
                      "#FF6692",
                      "#B6E880",
                      "#FF97FF",
                      "#FECB52"
                    ],
                    "font": {
                      "color": "#2a3f5f"
                    },
                    "geo": {
                      "bgcolor": "white",
                      "lakecolor": "white",
                      "landcolor": "white",
                      "showlakes": true,
                      "showland": true,
                      "subunitcolor": "#C8D4E3"
                    },
                    "hoverlabel": {
                      "align": "left"
                    },
                    "hovermode": "closest",
                    "mapbox": {
                      "style": "light"
                    },
                    "paper_bgcolor": "white",
                    "plot_bgcolor": "white",
                    "polar": {
                      "angularaxis": {
                        "gridcolor": "#EBF0F8",
                        "linecolor": "#EBF0F8",
                        "ticks": ""
                      },
                      "bgcolor": "white",
                      "radialaxis": {
                        "gridcolor": "#EBF0F8",
                        "linecolor": "#EBF0F8",
                        "ticks": ""
                      }
                    },
                    "scene": {
                      "xaxis": {
                        "backgroundcolor": "white",
                        "gridcolor": "#DFE8F3",
                        "gridwidth": 2,
                        "linecolor": "#EBF0F8",
                        "showbackground": true,
                        "ticks": "",
                        "zerolinecolor": "#EBF0F8"
                      },
                      "yaxis": {
                        "backgroundcolor": "white",
                        "gridcolor": "#DFE8F3",
                        "gridwidth": 2,
                        "linecolor": "#EBF0F8",
                        "showbackground": true,
                        "ticks": "",
                        "zerolinecolor": "#EBF0F8"
                      },
                      "zaxis": {
                        "backgroundcolor": "white",
                        "gridcolor": "#DFE8F3",
                        "gridwidth": 2,
                        "linecolor": "#EBF0F8",
                        "showbackground": true,
                        "ticks": "",
                        "zerolinecolor": "#EBF0F8"
                      }
                    },
                    "shapedefaults": {
                      "line": {
                        "color": "#2a3f5f"
                      }
                    },
                    "ternary": {
                      "aaxis": {
                        "gridcolor": "#DFE8F3",
                        "linecolor": "#A2B1C6",
                        "ticks": ""
                      },
                      "baxis": {
                        "gridcolor": "#DFE8F3",
                        "linecolor": "#A2B1C6",
                        "ticks": ""
                      },
                      "bgcolor": "white",
                      "caxis": {
                        "gridcolor": "#DFE8F3",
                        "linecolor": "#A2B1C6",
                        "ticks": ""
                      }
                    },
                    "title": {
                      "x": 0.05
                    },
                    "xaxis": {
                      "automargin": true,
                      "gridcolor": "#EBF0F8",
                      "linecolor": "#EBF0F8",
                      "ticks": "",
                      "title": {
                        "standoff": 15
                      },
                      "zerolinecolor": "#EBF0F8",
                      "zerolinewidth": 2
                    },
                    "yaxis": {
                      "automargin": true,
                      "gridcolor": "#EBF0F8",
                      "linecolor": "#EBF0F8",
                      "ticks": "",
                      "title": {
                        "standoff": 15
                      },
                      "zerolinecolor": "#EBF0F8",
                      "zerolinewidth": 2
                    }
                  }
                },
                "title": {
                  "font": {
                    "color": "#050609",
                    "size": 20
                  },
                  "text": "Distribuição Etária por Gênero"
                },
                "xaxis": {
                  "anchor": "y",
                  "domain": [
                    0,
                    1
                  ],
                  "tickfont": {
                    "size": 12
                  },
                  "title": {
                    "font": {
                      "size": 16
                    },
                    "text": "Idade"
                  }
                },
                "xaxis2": {
                  "anchor": "y2",
                  "domain": [
                    0,
                    1
                  ],
                  "matches": "x",
                  "showgrid": true,
                  "showticklabels": false
                },
                "yaxis": {
                  "anchor": "x",
                  "domain": [
                    0,
                    0.7326
                  ],
                  "tickfont": {
                    "size": 12
                  },
                  "title": {
                    "font": {
                      "size": 16
                    },
                    "text": "Densidade"
                  }
                },
                "yaxis2": {
                  "anchor": "x2",
                  "domain": [
                    0.7426,
                    1
                  ],
                  "matches": "y2",
                  "showgrid": false,
                  "showline": false,
                  "showticklabels": false,
                  "ticks": ""
                }
              }
            }
          },
          "metadata": {},
          "output_type": "display_data"
        }
      ],
      "source": [
        "only_positive = df[df['target_labels'] == 'Presença'] # Somente com doença presente\n",
        "\n",
        "age_sex = px.histogram(\n",
        "    only_positive,\n",
        "    x='age',\n",
        "    color='sex_labels',\n",
        "    nbins=40,\n",
        "    histnorm='probability density',\n",
        "    opacity=0.8,\n",
        "    barmode='overlay',\n",
        "    marginal='violin',\n",
        "    color_discrete_map={'Feminino': color_pal[4], 'Masculino': color_pal[3]},\n",
        "    labels={'sex_labels': 'Sexo', 'age': 'Idade'},\n",
        "    title= \"Distribuição Etária por Gênero\"\n",
        ")\n",
        "\n",
        "\n",
        "# Layout\n",
        "\n",
        "age_sex.update_layout(\n",
        "\n",
        "\n",
        "    font=dict(family =\"Fira Code, sans-serif\", color = color_pal[0], size=14),\n",
        "    title_font= dict(size = 20, color = color_pal[0]),\n",
        "\n",
        "    xaxis=dict(\n",
        "        title=\"Idade\",\n",
        "        title_font=dict(size=16),\n",
        "        tickfont=dict(size=12)\n",
        "    ),\n",
        "    yaxis=dict(\n",
        "        title=\"Densidade\",\n",
        "        title_font=dict(size=16),\n",
        "        tickfont=dict(size=12)\n",
        "    ),\n",
        "    legend=dict(\n",
        "        title=\"Sexo\",\n",
        "    ),\n",
        "    template=\"plotly_white\",\n",
        ")\n",
        "\n",
        "# Exibir o gráfico\n",
        "age_sex.show()\n"
      ]
    },
    {
      "cell_type": "code",
      "execution_count": 14,
      "metadata": {
        "colab": {
          "base_uri": "https://localhost:8080/",
          "height": 542
        },
        "id": "NJK-ij3P7ANK",
        "outputId": "6b910f36-5c93-4179-fe72-4a8b56e0945e"
      },
      "outputs": [
        {
          "data": {
            "application/vnd.plotly.v1+json": {
              "config": {
                "plotlyServerURL": "https://plot.ly"
              },
              "data": [
                {
                  "alignmentgroup": "True",
                  "bingroup": "x",
                  "hovertemplate": "Idade=%{x}<br>count=%{y}<extra></extra>",
                  "legendgroup": "",
                  "marker": {
                    "color": "#1f77b4",
                    "pattern": {
                      "shape": ""
                    }
                  },
                  "name": "",
                  "nbinsx": 10,
                  "offsetgroup": "",
                  "orientation": "v",
                  "showlegend": false,
                  "type": "histogram",
                  "x": [
                    63,
                    67,
                    67,
                    37,
                    41,
                    56,
                    62,
                    57,
                    63,
                    53,
                    57,
                    56,
                    56,
                    44,
                    52,
                    57,
                    48,
                    54,
                    48,
                    49,
                    64,
                    58,
                    58,
                    58,
                    60,
                    50,
                    58,
                    66,
                    43,
                    40,
                    69,
                    60,
                    64,
                    59,
                    44,
                    42,
                    43,
                    57,
                    55,
                    61,
                    65,
                    40,
                    71,
                    59,
                    61,
                    58,
                    51,
                    50,
                    65,
                    53,
                    41,
                    65,
                    44,
                    44,
                    60,
                    54,
                    50,
                    41,
                    54,
                    51,
                    51,
                    46,
                    58,
                    54,
                    54,
                    60,
                    60,
                    54,
                    59,
                    46,
                    65,
                    67,
                    62,
                    65,
                    44,
                    65,
                    60,
                    51,
                    48,
                    58,
                    45,
                    53,
                    39,
                    68,
                    52,
                    44,
                    47,
                    53,
                    53,
                    51,
                    66,
                    62,
                    62,
                    44,
                    63,
                    52,
                    59,
                    60,
                    52,
                    48,
                    45,
                    34,
                    57,
                    71,
                    49,
                    54,
                    59,
                    57,
                    61,
                    39,
                    61,
                    56,
                    52,
                    43,
                    62,
                    41,
                    58,
                    35,
                    63,
                    65,
                    48,
                    63,
                    51,
                    55,
                    65,
                    45,
                    56,
                    54,
                    44,
                    62,
                    54,
                    51,
                    29,
                    51,
                    43,
                    55,
                    70,
                    62,
                    35,
                    51,
                    59,
                    59,
                    52,
                    64,
                    58,
                    47,
                    57,
                    41,
                    45,
                    60,
                    52,
                    42,
                    67,
                    55,
                    64,
                    70,
                    51,
                    58,
                    60,
                    68,
                    46,
                    77,
                    54,
                    58,
                    48,
                    57,
                    52,
                    54,
                    35,
                    45,
                    70,
                    53,
                    59,
                    62,
                    64,
                    57,
                    52,
                    56,
                    43,
                    53,
                    48,
                    56,
                    42,
                    59,
                    60,
                    63,
                    42,
                    66,
                    54,
                    69,
                    50,
                    51,
                    43,
                    62,
                    68,
                    67,
                    69,
                    45,
                    50,
                    59,
                    50,
                    64,
                    57,
                    64,
                    43,
                    45,
                    58,
                    50,
                    55,
                    62,
                    37,
                    38,
                    41,
                    66,
                    52,
                    56,
                    46,
                    46,
                    64,
                    59,
                    41,
                    54,
                    39,
                    53,
                    63,
                    34,
                    47,
                    67,
                    54,
                    66,
                    52,
                    55,
                    49,
                    74,
                    54,
                    54,
                    56,
                    46,
                    49,
                    42,
                    41,
                    41,
                    49,
                    61,
                    60,
                    67,
                    58,
                    47,
                    52,
                    62,
                    57,
                    58,
                    64,
                    51,
                    43,
                    42,
                    67,
                    76,
                    70,
                    57,
                    44,
                    58,
                    60,
                    44,
                    61,
                    42,
                    52,
                    59,
                    40,
                    42,
                    61,
                    66,
                    46,
                    71,
                    59,
                    64,
                    66,
                    39,
                    57,
                    58,
                    57,
                    47,
                    55,
                    35,
                    61,
                    58,
                    58,
                    58,
                    56,
                    56,
                    67,
                    55,
                    44,
                    63,
                    63,
                    41,
                    59,
                    57,
                    45,
                    68,
                    57,
                    57,
                    38
                  ],
                  "xaxis": "x",
                  "yaxis": "y"
                }
              ],
              "layout": {
                "annotations": [
                  {
                    "arrowhead": 2,
                    "ax": 0,
                    "ay": -40,
                    "font": {
                      "color": "crimson",
                      "size": 12
                    },
                    "showarrow": true,
                    "text": "Moda: 58",
                    "x": 58,
                    "y": 19
                  },
                  {
                    "arrowhead": 2,
                    "ax": 0,
                    "ay": -40,
                    "font": {
                      "color": "seagreen",
                      "size": 12
                    },
                    "showarrow": true,
                    "text": "Média: 54.44",
                    "x": 54.43894389438944,
                    "y": 19
                  },
                  {
                    "arrowhead": 2,
                    "ax": 0,
                    "ay": -40,
                    "font": {
                      "color": "darkblue",
                      "size": 12
                    },
                    "showarrow": true,
                    "text": "Desvio Padrão: 9.04",
                    "x": 63.47760633683618,
                    "y": 19
                  }
                ],
                "barmode": "relative",
                "font": {
                  "color": "black",
                  "family": "FiraCode",
                  "size": 14
                },
                "legend": {
                  "tracegroupgap": 0
                },
                "plot_bgcolor": "white",
                "shapes": [
                  {
                    "line": {
                      "color": "crimson",
                      "dash": "dot",
                      "width": 2
                    },
                    "name": "Moda",
                    "type": "line",
                    "x0": 58,
                    "x1": 58,
                    "y0": 0,
                    "y1": 19
                  },
                  {
                    "line": {
                      "color": "seagreen",
                      "dash": "dash",
                      "width": 2
                    },
                    "name": "Média",
                    "type": "line",
                    "x0": 54.43894389438944,
                    "x1": 54.43894389438944,
                    "y0": 0,
                    "y1": 19
                  },
                  {
                    "line": {
                      "color": "darkblue",
                      "dash": "dashdot",
                      "width": 2
                    },
                    "name": "Desvio Padrão",
                    "type": "line",
                    "x0": 63.47760633683618,
                    "x1": 63.47760633683618,
                    "y0": 0,
                    "y1": 19
                  }
                ],
                "template": {
                  "data": {
                    "bar": [
                      {
                        "error_x": {
                          "color": "#2a3f5f"
                        },
                        "error_y": {
                          "color": "#2a3f5f"
                        },
                        "marker": {
                          "line": {
                            "color": "#E5ECF6",
                            "width": 0.5
                          },
                          "pattern": {
                            "fillmode": "overlay",
                            "size": 10,
                            "solidity": 0.2
                          }
                        },
                        "type": "bar"
                      }
                    ],
                    "barpolar": [
                      {
                        "marker": {
                          "line": {
                            "color": "#E5ECF6",
                            "width": 0.5
                          },
                          "pattern": {
                            "fillmode": "overlay",
                            "size": 10,
                            "solidity": 0.2
                          }
                        },
                        "type": "barpolar"
                      }
                    ],
                    "carpet": [
                      {
                        "aaxis": {
                          "endlinecolor": "#2a3f5f",
                          "gridcolor": "white",
                          "linecolor": "white",
                          "minorgridcolor": "white",
                          "startlinecolor": "#2a3f5f"
                        },
                        "baxis": {
                          "endlinecolor": "#2a3f5f",
                          "gridcolor": "white",
                          "linecolor": "white",
                          "minorgridcolor": "white",
                          "startlinecolor": "#2a3f5f"
                        },
                        "type": "carpet"
                      }
                    ],
                    "choropleth": [
                      {
                        "colorbar": {
                          "outlinewidth": 0,
                          "ticks": ""
                        },
                        "type": "choropleth"
                      }
                    ],
                    "contour": [
                      {
                        "colorbar": {
                          "outlinewidth": 0,
                          "ticks": ""
                        },
                        "colorscale": [
                          [
                            0,
                            "#0d0887"
                          ],
                          [
                            0.1111111111111111,
                            "#46039f"
                          ],
                          [
                            0.2222222222222222,
                            "#7201a8"
                          ],
                          [
                            0.3333333333333333,
                            "#9c179e"
                          ],
                          [
                            0.4444444444444444,
                            "#bd3786"
                          ],
                          [
                            0.5555555555555556,
                            "#d8576b"
                          ],
                          [
                            0.6666666666666666,
                            "#ed7953"
                          ],
                          [
                            0.7777777777777778,
                            "#fb9f3a"
                          ],
                          [
                            0.8888888888888888,
                            "#fdca26"
                          ],
                          [
                            1,
                            "#f0f921"
                          ]
                        ],
                        "type": "contour"
                      }
                    ],
                    "contourcarpet": [
                      {
                        "colorbar": {
                          "outlinewidth": 0,
                          "ticks": ""
                        },
                        "type": "contourcarpet"
                      }
                    ],
                    "heatmap": [
                      {
                        "colorbar": {
                          "outlinewidth": 0,
                          "ticks": ""
                        },
                        "colorscale": [
                          [
                            0,
                            "#0d0887"
                          ],
                          [
                            0.1111111111111111,
                            "#46039f"
                          ],
                          [
                            0.2222222222222222,
                            "#7201a8"
                          ],
                          [
                            0.3333333333333333,
                            "#9c179e"
                          ],
                          [
                            0.4444444444444444,
                            "#bd3786"
                          ],
                          [
                            0.5555555555555556,
                            "#d8576b"
                          ],
                          [
                            0.6666666666666666,
                            "#ed7953"
                          ],
                          [
                            0.7777777777777778,
                            "#fb9f3a"
                          ],
                          [
                            0.8888888888888888,
                            "#fdca26"
                          ],
                          [
                            1,
                            "#f0f921"
                          ]
                        ],
                        "type": "heatmap"
                      }
                    ],
                    "heatmapgl": [
                      {
                        "colorbar": {
                          "outlinewidth": 0,
                          "ticks": ""
                        },
                        "colorscale": [
                          [
                            0,
                            "#0d0887"
                          ],
                          [
                            0.1111111111111111,
                            "#46039f"
                          ],
                          [
                            0.2222222222222222,
                            "#7201a8"
                          ],
                          [
                            0.3333333333333333,
                            "#9c179e"
                          ],
                          [
                            0.4444444444444444,
                            "#bd3786"
                          ],
                          [
                            0.5555555555555556,
                            "#d8576b"
                          ],
                          [
                            0.6666666666666666,
                            "#ed7953"
                          ],
                          [
                            0.7777777777777778,
                            "#fb9f3a"
                          ],
                          [
                            0.8888888888888888,
                            "#fdca26"
                          ],
                          [
                            1,
                            "#f0f921"
                          ]
                        ],
                        "type": "heatmapgl"
                      }
                    ],
                    "histogram": [
                      {
                        "marker": {
                          "pattern": {
                            "fillmode": "overlay",
                            "size": 10,
                            "solidity": 0.2
                          }
                        },
                        "type": "histogram"
                      }
                    ],
                    "histogram2d": [
                      {
                        "colorbar": {
                          "outlinewidth": 0,
                          "ticks": ""
                        },
                        "colorscale": [
                          [
                            0,
                            "#0d0887"
                          ],
                          [
                            0.1111111111111111,
                            "#46039f"
                          ],
                          [
                            0.2222222222222222,
                            "#7201a8"
                          ],
                          [
                            0.3333333333333333,
                            "#9c179e"
                          ],
                          [
                            0.4444444444444444,
                            "#bd3786"
                          ],
                          [
                            0.5555555555555556,
                            "#d8576b"
                          ],
                          [
                            0.6666666666666666,
                            "#ed7953"
                          ],
                          [
                            0.7777777777777778,
                            "#fb9f3a"
                          ],
                          [
                            0.8888888888888888,
                            "#fdca26"
                          ],
                          [
                            1,
                            "#f0f921"
                          ]
                        ],
                        "type": "histogram2d"
                      }
                    ],
                    "histogram2dcontour": [
                      {
                        "colorbar": {
                          "outlinewidth": 0,
                          "ticks": ""
                        },
                        "colorscale": [
                          [
                            0,
                            "#0d0887"
                          ],
                          [
                            0.1111111111111111,
                            "#46039f"
                          ],
                          [
                            0.2222222222222222,
                            "#7201a8"
                          ],
                          [
                            0.3333333333333333,
                            "#9c179e"
                          ],
                          [
                            0.4444444444444444,
                            "#bd3786"
                          ],
                          [
                            0.5555555555555556,
                            "#d8576b"
                          ],
                          [
                            0.6666666666666666,
                            "#ed7953"
                          ],
                          [
                            0.7777777777777778,
                            "#fb9f3a"
                          ],
                          [
                            0.8888888888888888,
                            "#fdca26"
                          ],
                          [
                            1,
                            "#f0f921"
                          ]
                        ],
                        "type": "histogram2dcontour"
                      }
                    ],
                    "mesh3d": [
                      {
                        "colorbar": {
                          "outlinewidth": 0,
                          "ticks": ""
                        },
                        "type": "mesh3d"
                      }
                    ],
                    "parcoords": [
                      {
                        "line": {
                          "colorbar": {
                            "outlinewidth": 0,
                            "ticks": ""
                          }
                        },
                        "type": "parcoords"
                      }
                    ],
                    "pie": [
                      {
                        "automargin": true,
                        "type": "pie"
                      }
                    ],
                    "scatter": [
                      {
                        "fillpattern": {
                          "fillmode": "overlay",
                          "size": 10,
                          "solidity": 0.2
                        },
                        "type": "scatter"
                      }
                    ],
                    "scatter3d": [
                      {
                        "line": {
                          "colorbar": {
                            "outlinewidth": 0,
                            "ticks": ""
                          }
                        },
                        "marker": {
                          "colorbar": {
                            "outlinewidth": 0,
                            "ticks": ""
                          }
                        },
                        "type": "scatter3d"
                      }
                    ],
                    "scattercarpet": [
                      {
                        "marker": {
                          "colorbar": {
                            "outlinewidth": 0,
                            "ticks": ""
                          }
                        },
                        "type": "scattercarpet"
                      }
                    ],
                    "scattergeo": [
                      {
                        "marker": {
                          "colorbar": {
                            "outlinewidth": 0,
                            "ticks": ""
                          }
                        },
                        "type": "scattergeo"
                      }
                    ],
                    "scattergl": [
                      {
                        "marker": {
                          "colorbar": {
                            "outlinewidth": 0,
                            "ticks": ""
                          }
                        },
                        "type": "scattergl"
                      }
                    ],
                    "scattermapbox": [
                      {
                        "marker": {
                          "colorbar": {
                            "outlinewidth": 0,
                            "ticks": ""
                          }
                        },
                        "type": "scattermapbox"
                      }
                    ],
                    "scatterpolar": [
                      {
                        "marker": {
                          "colorbar": {
                            "outlinewidth": 0,
                            "ticks": ""
                          }
                        },
                        "type": "scatterpolar"
                      }
                    ],
                    "scatterpolargl": [
                      {
                        "marker": {
                          "colorbar": {
                            "outlinewidth": 0,
                            "ticks": ""
                          }
                        },
                        "type": "scatterpolargl"
                      }
                    ],
                    "scatterternary": [
                      {
                        "marker": {
                          "colorbar": {
                            "outlinewidth": 0,
                            "ticks": ""
                          }
                        },
                        "type": "scatterternary"
                      }
                    ],
                    "surface": [
                      {
                        "colorbar": {
                          "outlinewidth": 0,
                          "ticks": ""
                        },
                        "colorscale": [
                          [
                            0,
                            "#0d0887"
                          ],
                          [
                            0.1111111111111111,
                            "#46039f"
                          ],
                          [
                            0.2222222222222222,
                            "#7201a8"
                          ],
                          [
                            0.3333333333333333,
                            "#9c179e"
                          ],
                          [
                            0.4444444444444444,
                            "#bd3786"
                          ],
                          [
                            0.5555555555555556,
                            "#d8576b"
                          ],
                          [
                            0.6666666666666666,
                            "#ed7953"
                          ],
                          [
                            0.7777777777777778,
                            "#fb9f3a"
                          ],
                          [
                            0.8888888888888888,
                            "#fdca26"
                          ],
                          [
                            1,
                            "#f0f921"
                          ]
                        ],
                        "type": "surface"
                      }
                    ],
                    "table": [
                      {
                        "cells": {
                          "fill": {
                            "color": "#EBF0F8"
                          },
                          "line": {
                            "color": "white"
                          }
                        },
                        "header": {
                          "fill": {
                            "color": "#C8D4E3"
                          },
                          "line": {
                            "color": "white"
                          }
                        },
                        "type": "table"
                      }
                    ]
                  },
                  "layout": {
                    "annotationdefaults": {
                      "arrowcolor": "#2a3f5f",
                      "arrowhead": 0,
                      "arrowwidth": 1
                    },
                    "autotypenumbers": "strict",
                    "coloraxis": {
                      "colorbar": {
                        "outlinewidth": 0,
                        "ticks": ""
                      }
                    },
                    "colorscale": {
                      "diverging": [
                        [
                          0,
                          "#8e0152"
                        ],
                        [
                          0.1,
                          "#c51b7d"
                        ],
                        [
                          0.2,
                          "#de77ae"
                        ],
                        [
                          0.3,
                          "#f1b6da"
                        ],
                        [
                          0.4,
                          "#fde0ef"
                        ],
                        [
                          0.5,
                          "#f7f7f7"
                        ],
                        [
                          0.6,
                          "#e6f5d0"
                        ],
                        [
                          0.7,
                          "#b8e186"
                        ],
                        [
                          0.8,
                          "#7fbc41"
                        ],
                        [
                          0.9,
                          "#4d9221"
                        ],
                        [
                          1,
                          "#276419"
                        ]
                      ],
                      "sequential": [
                        [
                          0,
                          "#0d0887"
                        ],
                        [
                          0.1111111111111111,
                          "#46039f"
                        ],
                        [
                          0.2222222222222222,
                          "#7201a8"
                        ],
                        [
                          0.3333333333333333,
                          "#9c179e"
                        ],
                        [
                          0.4444444444444444,
                          "#bd3786"
                        ],
                        [
                          0.5555555555555556,
                          "#d8576b"
                        ],
                        [
                          0.6666666666666666,
                          "#ed7953"
                        ],
                        [
                          0.7777777777777778,
                          "#fb9f3a"
                        ],
                        [
                          0.8888888888888888,
                          "#fdca26"
                        ],
                        [
                          1,
                          "#f0f921"
                        ]
                      ],
                      "sequentialminus": [
                        [
                          0,
                          "#0d0887"
                        ],
                        [
                          0.1111111111111111,
                          "#46039f"
                        ],
                        [
                          0.2222222222222222,
                          "#7201a8"
                        ],
                        [
                          0.3333333333333333,
                          "#9c179e"
                        ],
                        [
                          0.4444444444444444,
                          "#bd3786"
                        ],
                        [
                          0.5555555555555556,
                          "#d8576b"
                        ],
                        [
                          0.6666666666666666,
                          "#ed7953"
                        ],
                        [
                          0.7777777777777778,
                          "#fb9f3a"
                        ],
                        [
                          0.8888888888888888,
                          "#fdca26"
                        ],
                        [
                          1,
                          "#f0f921"
                        ]
                      ]
                    },
                    "colorway": [
                      "#636efa",
                      "#EF553B",
                      "#00cc96",
                      "#ab63fa",
                      "#FFA15A",
                      "#19d3f3",
                      "#FF6692",
                      "#B6E880",
                      "#FF97FF",
                      "#FECB52"
                    ],
                    "font": {
                      "color": "#050609",
                      "family": "Fira Code, sans-serif",
                      "size": 14
                    },
                    "geo": {
                      "bgcolor": "white",
                      "lakecolor": "white",
                      "landcolor": "#E5ECF6",
                      "showlakes": true,
                      "showland": true,
                      "subunitcolor": "white"
                    },
                    "hoverlabel": {
                      "align": "left"
                    },
                    "hovermode": "closest",
                    "mapbox": {
                      "style": "light"
                    },
                    "paper_bgcolor": "white",
                    "plot_bgcolor": "#E5ECF6",
                    "polar": {
                      "angularaxis": {
                        "gridcolor": "white",
                        "linecolor": "white",
                        "ticks": ""
                      },
                      "bgcolor": "#E5ECF6",
                      "radialaxis": {
                        "gridcolor": "white",
                        "linecolor": "white",
                        "ticks": ""
                      }
                    },
                    "scene": {
                      "xaxis": {
                        "backgroundcolor": "#E5ECF6",
                        "gridcolor": "white",
                        "gridwidth": 2,
                        "linecolor": "white",
                        "showbackground": true,
                        "ticks": "",
                        "zerolinecolor": "white"
                      },
                      "yaxis": {
                        "backgroundcolor": "#E5ECF6",
                        "gridcolor": "white",
                        "gridwidth": 2,
                        "linecolor": "white",
                        "showbackground": true,
                        "ticks": "",
                        "zerolinecolor": "white"
                      },
                      "zaxis": {
                        "backgroundcolor": "#E5ECF6",
                        "gridcolor": "white",
                        "gridwidth": 2,
                        "linecolor": "white",
                        "showbackground": true,
                        "ticks": "",
                        "zerolinecolor": "white"
                      }
                    },
                    "shapedefaults": {
                      "line": {
                        "color": "#2a3f5f"
                      }
                    },
                    "ternary": {
                      "aaxis": {
                        "gridcolor": "white",
                        "linecolor": "white",
                        "ticks": ""
                      },
                      "baxis": {
                        "gridcolor": "white",
                        "linecolor": "white",
                        "ticks": ""
                      },
                      "bgcolor": "#E5ECF6",
                      "caxis": {
                        "gridcolor": "white",
                        "linecolor": "white",
                        "ticks": ""
                      }
                    },
                    "title": {
                      "x": 0.05
                    },
                    "xaxis": {
                      "automargin": true,
                      "gridcolor": "white",
                      "linecolor": "white",
                      "ticks": "",
                      "title": {
                        "standoff": 15
                      },
                      "zerolinecolor": "white",
                      "zerolinewidth": 2
                    },
                    "yaxis": {
                      "automargin": true,
                      "gridcolor": "white",
                      "linecolor": "white",
                      "ticks": "",
                      "title": {
                        "standoff": 15
                      },
                      "zerolinecolor": "white",
                      "zerolinewidth": 2
                    }
                  }
                },
                "title": {
                  "font": {
                    "size": 20
                  },
                  "text": "Distribuição das Idades",
                  "x": 0.5
                },
                "xaxis": {
                  "anchor": "y",
                  "domain": [
                    0,
                    1
                  ],
                  "gridcolor": "lightgrey",
                  "showgrid": true,
                  "title": {
                    "text": "Idade"
                  },
                  "zeroline": false
                },
                "yaxis": {
                  "anchor": "x",
                  "domain": [
                    0,
                    1
                  ],
                  "gridcolor": "lightgrey",
                  "showgrid": true,
                  "title": {
                    "text": "Frequência"
                  },
                  "zeroline": false
                }
              }
            }
          },
          "metadata": {},
          "output_type": "display_data"
        }
      ],
      "source": [
        "import pandas as pd\n",
        "import plotly.express as px\n",
        "import plotly.graph_objects as go\n",
        "\n",
        "# Calcular estatísticas\n",
        "moda_age = df['age'].mode()[0]\n",
        "media_age = df['age'].mean()\n",
        "desvio_age = df['age'].std()\n",
        "\n",
        "# Criar o histograma\n",
        "fig = px.histogram(\n",
        "    df,\n",
        "    x='age',\n",
        "    nbins=10,\n",
        "    title='Distribuição das Idades',\n",
        "    labels={'age': 'Idade'},\n",
        "    color_discrete_sequence=['#1f77b4']  # Tom de azul suave\n",
        ")\n",
        "\n",
        "# Adicionar linha da moda\n",
        "fig.add_shape(\n",
        "    type='line',\n",
        "    x0=moda_age, y0=0,\n",
        "    x1=moda_age, y1=df['age'].value_counts().max(),\n",
        "    line=dict(color='crimson', width=2, dash='dot'),\n",
        "    name='Moda'\n",
        ")\n",
        "\n",
        "# Adicionar linha da média\n",
        "fig.add_shape(\n",
        "    type='line',\n",
        "    x0=media_age, y0=0,\n",
        "    x1=media_age, y1=df['age'].value_counts().max(),\n",
        "    line=dict(color='seagreen', width=2, dash='dash'),\n",
        "    name='Média'\n",
        ")\n",
        "\n",
        "# Adicionar linha do desvio padrão\n",
        "fig.add_shape(\n",
        "    type='line',\n",
        "    x0=media_age + desvio_age, y0=0,\n",
        "    x1=media_age + desvio_age, y1=df['age'].value_counts().max(),\n",
        "    line=dict(color='darkblue', width=2, dash='dashdot'),\n",
        "    name='Desvio Padrão'\n",
        ")\n",
        "\n",
        "# Adicionar anotações\n",
        "fig.add_annotation(\n",
        "    x=moda_age,\n",
        "    y=df['age'].value_counts().max(),\n",
        "    text=f'Moda: {moda_age}',\n",
        "    showarrow=True,\n",
        "    arrowhead=2,\n",
        "    ax=0,\n",
        "    ay=-40,\n",
        "    font=dict(size=12, color=\"crimson\")\n",
        ")\n",
        "\n",
        "fig.add_annotation(\n",
        "    x=media_age,\n",
        "    y=df['age'].value_counts().max(),\n",
        "    text=f'Média: {media_age:.2f}',\n",
        "    showarrow=True,\n",
        "    arrowhead=2,\n",
        "    ax=0,\n",
        "    ay=-40,\n",
        "    font=dict(size=12, color=\"seagreen\")\n",
        ")\n",
        "\n",
        "fig.add_annotation(\n",
        "    x=media_age + desvio_age,\n",
        "    y=df['age'].value_counts().max(),\n",
        "    text=f'Desvio Padrão: {desvio_age:.2f}',\n",
        "    showarrow=True,\n",
        "    arrowhead=2,\n",
        "    ax=0,\n",
        "    ay=-40,\n",
        "    font=dict(size=12, color=\"darkblue\")\n",
        ")\n",
        "\n",
        "# Configurar o layout\n",
        "fig.update_layout(\n",
        "    xaxis_title='Idade',\n",
        "    yaxis_title='Frequência',\n",
        "    font=dict(family=\"FiraCode\", size=14, color=\"black\"),\n",
        "    title=dict(text=\"Distribuição das Idades\", x=0.5, font=dict(size=20)),\n",
        "    xaxis=dict(showgrid=True, gridcolor='lightgrey', zeroline=False),\n",
        "    yaxis=dict(showgrid=True, gridcolor='lightgrey', zeroline=False),\n",
        "    plot_bgcolor='white'\n",
        ")\n",
        "\n",
        "# Mostrar o gráfico\n",
        "fig.show()\n"
      ]
    },
    {
      "cell_type": "code",
      "execution_count": 15,
      "metadata": {
        "id": "8gBkIJMA5mtw"
      },
      "outputs": [],
      "source": [
        "# Age Note\n",
        "\n",
        "age_note = '''\n",
        "  - O gráfico pode ajudar a identificar faixas etárias específicas onde a presença da doença cardíaca é mais significativa para cada gênero. Pode-se notar que o intervalo entre os 55 e 65 anos de idade, aproximidamente, são os mais afetados pela doença.\n",
        "\n",
        "  - Nas mulheres, há uma probabilidade alta de ocorrência de doença cardíaca em idades mais avançadas somente, a partir dos 50 anos de idade. Provavelmente uma explicação para esse fenômeno é a própria cultura social em que vivemos, onde comportamentos associados ao risco de saúde geralmente são atrelados aos homens, enquanto mulheres tem maior tendência a se cuidar melhor.\n",
        "'''"
      ]
    },
    {
      "cell_type": "markdown",
      "metadata": {
        "id": "DOP4AKlzyfLn"
      },
      "source": [
        "## Thalach"
      ]
    },
    {
      "cell_type": "code",
      "execution_count": 16,
      "metadata": {
        "colab": {
          "base_uri": "https://localhost:8080/",
          "height": 542
        },
        "id": "GwuVGMHb1Vdd",
        "outputId": "d7dfb36a-f108-4545-fee1-73f98d261908"
      },
      "outputs": [
        {
          "data": {
            "application/vnd.plotly.v1+json": {
              "config": {
                "plotlyServerURL": "https://plot.ly"
              },
              "data": [
                {
                  "alignmentgroup": "True",
                  "boxpoints": "all",
                  "hovertemplate": "Doença=Ausência<br>Sexo=%{x}<br>Freq. Card. Máx.=%{y}<extra></extra>",
                  "legendgroup": "Ausência",
                  "marker": {
                    "color": "#959672"
                  },
                  "name": "Ausência",
                  "notched": false,
                  "offsetgroup": "Ausência",
                  "orientation": "v",
                  "showlegend": true,
                  "type": "box",
                  "x": [
                    "Masculino",
                    "Masculino",
                    "Feminino",
                    "Masculino",
                    "Feminino",
                    "Masculino",
                    "Feminino",
                    "Masculino",
                    "Masculino",
                    "Masculino",
                    "Masculino",
                    "Feminino",
                    "Masculino",
                    "Masculino",
                    "Feminino",
                    "Feminino",
                    "Feminino",
                    "Feminino",
                    "Masculino",
                    "Feminino",
                    "Masculino",
                    "Masculino",
                    "Masculino",
                    "Masculino",
                    "Masculino",
                    "Feminino",
                    "Masculino",
                    "Masculino",
                    "Feminino",
                    "Masculino",
                    "Feminino",
                    "Masculino",
                    "Masculino",
                    "Masculino",
                    "Masculino",
                    "Feminino",
                    "Feminino",
                    "Masculino",
                    "Feminino",
                    "Feminino",
                    "Feminino",
                    "Masculino",
                    "Masculino",
                    "Feminino",
                    "Masculino",
                    "Masculino",
                    "Masculino",
                    "Masculino",
                    "Feminino",
                    "Feminino",
                    "Feminino",
                    "Masculino",
                    "Masculino",
                    "Feminino",
                    "Feminino",
                    "Masculino",
                    "Masculino",
                    "Masculino",
                    "Masculino",
                    "Feminino",
                    "Feminino",
                    "Masculino",
                    "Masculino",
                    "Masculino",
                    "Masculino",
                    "Feminino",
                    "Masculino",
                    "Feminino",
                    "Masculino",
                    "Feminino",
                    "Masculino",
                    "Masculino",
                    "Masculino",
                    "Masculino",
                    "Feminino",
                    "Feminino",
                    "Masculino",
                    "Masculino",
                    "Masculino",
                    "Masculino",
                    "Masculino",
                    "Masculino",
                    "Feminino",
                    "Masculino",
                    "Feminino",
                    "Feminino",
                    "Masculino",
                    "Masculino",
                    "Feminino",
                    "Feminino",
                    "Masculino",
                    "Masculino",
                    "Masculino",
                    "Feminino",
                    "Feminino",
                    "Masculino",
                    "Feminino",
                    "Masculino",
                    "Masculino",
                    "Masculino",
                    "Masculino",
                    "Masculino",
                    "Feminino",
                    "Masculino",
                    "Masculino",
                    "Feminino",
                    "Masculino",
                    "Feminino",
                    "Feminino",
                    "Feminino",
                    "Feminino",
                    "Masculino",
                    "Feminino",
                    "Masculino",
                    "Masculino",
                    "Feminino",
                    "Masculino",
                    "Masculino",
                    "Feminino",
                    "Feminino",
                    "Feminino",
                    "Masculino",
                    "Feminino",
                    "Feminino",
                    "Feminino",
                    "Feminino",
                    "Masculino",
                    "Feminino",
                    "Feminino",
                    "Feminino",
                    "Feminino",
                    "Feminino",
                    "Masculino",
                    "Masculino",
                    "Feminino",
                    "Feminino",
                    "Feminino",
                    "Masculino",
                    "Masculino",
                    "Masculino",
                    "Feminino",
                    "Masculino",
                    "Feminino",
                    "Feminino",
                    "Feminino",
                    "Masculino",
                    "Feminino",
                    "Feminino",
                    "Masculino",
                    "Masculino",
                    "Masculino",
                    "Feminino",
                    "Masculino",
                    "Feminino",
                    "Feminino",
                    "Feminino",
                    "Masculino",
                    "Masculino",
                    "Masculino",
                    "Masculino",
                    "Masculino",
                    "Feminino",
                    "Masculino",
                    "Masculino"
                  ],
                  "x0": " ",
                  "xaxis": "x",
                  "y": [
                    150,
                    187,
                    172,
                    178,
                    163,
                    148,
                    153,
                    173,
                    162,
                    174,
                    160,
                    139,
                    171,
                    144,
                    162,
                    158,
                    172,
                    114,
                    171,
                    151,
                    161,
                    179,
                    178,
                    137,
                    178,
                    162,
                    157,
                    123,
                    157,
                    152,
                    168,
                    140,
                    188,
                    152,
                    125,
                    160,
                    170,
                    165,
                    148,
                    151,
                    142,
                    180,
                    148,
                    143,
                    182,
                    172,
                    180,
                    156,
                    115,
                    160,
                    149,
                    151,
                    146,
                    175,
                    172,
                    158,
                    186,
                    185,
                    174,
                    159,
                    130,
                    156,
                    190,
                    132,
                    165,
                    182,
                    143,
                    175,
                    170,
                    163,
                    147,
                    154,
                    202,
                    186,
                    165,
                    161,
                    166,
                    164,
                    184,
                    154,
                    179,
                    170,
                    160,
                    178,
                    122,
                    160,
                    151,
                    156,
                    158,
                    122,
                    175,
                    168,
                    169,
                    159,
                    138,
                    111,
                    157,
                    147,
                    162,
                    173,
                    178,
                    145,
                    179,
                    194,
                    163,
                    115,
                    131,
                    152,
                    162,
                    159,
                    154,
                    173,
                    133,
                    161,
                    155,
                    170,
                    168,
                    162,
                    172,
                    152,
                    122,
                    182,
                    172,
                    167,
                    179,
                    192,
                    143,
                    172,
                    169,
                    121,
                    163,
                    162,
                    162,
                    153,
                    163,
                    163,
                    96,
                    140,
                    126,
                    105,
                    157,
                    181,
                    173,
                    142,
                    116,
                    143,
                    149,
                    171,
                    169,
                    150,
                    138,
                    125,
                    155,
                    152,
                    152,
                    131,
                    179,
                    174,
                    144,
                    163,
                    169,
                    166,
                    182,
                    173
                  ],
                  "y0": " ",
                  "yaxis": "y"
                },
                {
                  "alignmentgroup": "True",
                  "boxpoints": "all",
                  "hovertemplate": "Doença=Presença<br>Sexo=%{x}<br>Freq. Card. Máx.=%{y}<extra></extra>",
                  "legendgroup": "Presença",
                  "marker": {
                    "color": "#D9230F"
                  },
                  "name": "Presença",
                  "notched": false,
                  "offsetgroup": "Presença",
                  "orientation": "v",
                  "showlegend": true,
                  "type": "box",
                  "x": [
                    "Masculino",
                    "Masculino",
                    "Feminino",
                    "Masculino",
                    "Masculino",
                    "Masculino",
                    "Masculino",
                    "Masculino",
                    "Masculino",
                    "Masculino",
                    "Masculino",
                    "Masculino",
                    "Masculino",
                    "Masculino",
                    "Masculino",
                    "Masculino",
                    "Feminino",
                    "Feminino",
                    "Masculino",
                    "Masculino",
                    "Masculino",
                    "Masculino",
                    "Masculino",
                    "Masculino",
                    "Masculino",
                    "Feminino",
                    "Masculino",
                    "Masculino",
                    "Masculino",
                    "Masculino",
                    "Masculino",
                    "Masculino",
                    "Masculino",
                    "Masculino",
                    "Masculino",
                    "Masculino",
                    "Masculino",
                    "Masculino",
                    "Masculino",
                    "Feminino",
                    "Masculino",
                    "Masculino",
                    "Feminino",
                    "Masculino",
                    "Masculino",
                    "Masculino",
                    "Masculino",
                    "Masculino",
                    "Feminino",
                    "Masculino",
                    "Feminino",
                    "Feminino",
                    "Masculino",
                    "Masculino",
                    "Masculino",
                    "Feminino",
                    "Masculino",
                    "Masculino",
                    "Feminino",
                    "Masculino",
                    "Masculino",
                    "Masculino",
                    "Masculino",
                    "Masculino",
                    "Masculino",
                    "Masculino",
                    "Masculino",
                    "Masculino",
                    "Masculino",
                    "Masculino",
                    "Masculino",
                    "Masculino",
                    "Masculino",
                    "Masculino",
                    "Masculino",
                    "Masculino",
                    "Feminino",
                    "Masculino",
                    "Masculino",
                    "Masculino",
                    "Masculino",
                    "Feminino",
                    "Feminino",
                    "Masculino",
                    "Masculino",
                    "Masculino",
                    "Masculino",
                    "Masculino",
                    "Feminino",
                    "Masculino",
                    "Masculino",
                    "Masculino",
                    "Masculino",
                    "Masculino",
                    "Feminino",
                    "Masculino",
                    "Feminino",
                    "Masculino",
                    "Masculino",
                    "Feminino",
                    "Masculino",
                    "Masculino",
                    "Feminino",
                    "Masculino",
                    "Masculino",
                    "Masculino",
                    "Masculino",
                    "Masculino",
                    "Masculino",
                    "Masculino",
                    "Masculino",
                    "Masculino",
                    "Masculino",
                    "Masculino",
                    "Feminino",
                    "Masculino",
                    "Masculino",
                    "Masculino",
                    "Masculino",
                    "Masculino",
                    "Masculino",
                    "Masculino",
                    "Masculino",
                    "Masculino",
                    "Masculino",
                    "Feminino",
                    "Masculino",
                    "Masculino",
                    "Feminino",
                    "Masculino",
                    "Masculino",
                    "Masculino",
                    "Feminino",
                    "Masculino",
                    "Feminino",
                    "Masculino",
                    "Masculino",
                    "Masculino",
                    "Feminino"
                  ],
                  "x0": " ",
                  "xaxis": "x",
                  "y": [
                    108,
                    129,
                    160,
                    147,
                    155,
                    142,
                    168,
                    160,
                    173,
                    132,
                    114,
                    160,
                    158,
                    120,
                    112,
                    132,
                    114,
                    169,
                    165,
                    128,
                    153,
                    144,
                    109,
                    163,
                    158,
                    142,
                    131,
                    113,
                    142,
                    155,
                    140,
                    147,
                    163,
                    99,
                    158,
                    177,
                    141,
                    111,
                    150,
                    145,
                    161,
                    142,
                    157,
                    139,
                    162,
                    150,
                    140,
                    140,
                    146,
                    144,
                    136,
                    97,
                    132,
                    127,
                    150,
                    154,
                    111,
                    174,
                    133,
                    126,
                    125,
                    103,
                    130,
                    159,
                    131,
                    152,
                    124,
                    145,
                    96,
                    109,
                    173,
                    171,
                    170,
                    162,
                    156,
                    112,
                    143,
                    132,
                    88,
                    105,
                    166,
                    150,
                    161,
                    120,
                    195,
                    146,
                    122,
                    143,
                    106,
                    125,
                    125,
                    147,
                    130,
                    126,
                    154,
                    182,
                    165,
                    160,
                    95,
                    169,
                    108,
                    132,
                    117,
                    126,
                    116,
                    103,
                    144,
                    145,
                    71,
                    156,
                    118,
                    168,
                    105,
                    141,
                    152,
                    125,
                    125,
                    156,
                    134,
                    181,
                    138,
                    120,
                    162,
                    164,
                    143,
                    130,
                    161,
                    140,
                    146,
                    150,
                    144,
                    144,
                    136,
                    90,
                    123,
                    132,
                    141,
                    115,
                    174
                  ],
                  "y0": " ",
                  "yaxis": "y"
                }
              ],
              "layout": {
                "boxmode": "group",
                "font": {
                  "color": "#050609",
                  "family": "Fira Code, sans-serif",
                  "size": 14
                },
                "legend": {
                  "orientation": "h",
                  "title": {
                    "text": "Doença Cardíaca: "
                  },
                  "tracegroupgap": 0,
                  "x": 0.5,
                  "xanchor": "center",
                  "y": -0.2
                },
                "template": {
                  "data": {
                    "bar": [
                      {
                        "error_x": {
                          "color": "#2a3f5f"
                        },
                        "error_y": {
                          "color": "#2a3f5f"
                        },
                        "marker": {
                          "line": {
                            "color": "white",
                            "width": 0.5
                          },
                          "pattern": {
                            "fillmode": "overlay",
                            "size": 10,
                            "solidity": 0.2
                          }
                        },
                        "type": "bar"
                      }
                    ],
                    "barpolar": [
                      {
                        "marker": {
                          "line": {
                            "color": "white",
                            "width": 0.5
                          },
                          "pattern": {
                            "fillmode": "overlay",
                            "size": 10,
                            "solidity": 0.2
                          }
                        },
                        "type": "barpolar"
                      }
                    ],
                    "carpet": [
                      {
                        "aaxis": {
                          "endlinecolor": "#2a3f5f",
                          "gridcolor": "#C8D4E3",
                          "linecolor": "#C8D4E3",
                          "minorgridcolor": "#C8D4E3",
                          "startlinecolor": "#2a3f5f"
                        },
                        "baxis": {
                          "endlinecolor": "#2a3f5f",
                          "gridcolor": "#C8D4E3",
                          "linecolor": "#C8D4E3",
                          "minorgridcolor": "#C8D4E3",
                          "startlinecolor": "#2a3f5f"
                        },
                        "type": "carpet"
                      }
                    ],
                    "choropleth": [
                      {
                        "colorbar": {
                          "outlinewidth": 0,
                          "ticks": ""
                        },
                        "type": "choropleth"
                      }
                    ],
                    "contour": [
                      {
                        "colorbar": {
                          "outlinewidth": 0,
                          "ticks": ""
                        },
                        "colorscale": [
                          [
                            0,
                            "#0d0887"
                          ],
                          [
                            0.1111111111111111,
                            "#46039f"
                          ],
                          [
                            0.2222222222222222,
                            "#7201a8"
                          ],
                          [
                            0.3333333333333333,
                            "#9c179e"
                          ],
                          [
                            0.4444444444444444,
                            "#bd3786"
                          ],
                          [
                            0.5555555555555556,
                            "#d8576b"
                          ],
                          [
                            0.6666666666666666,
                            "#ed7953"
                          ],
                          [
                            0.7777777777777778,
                            "#fb9f3a"
                          ],
                          [
                            0.8888888888888888,
                            "#fdca26"
                          ],
                          [
                            1,
                            "#f0f921"
                          ]
                        ],
                        "type": "contour"
                      }
                    ],
                    "contourcarpet": [
                      {
                        "colorbar": {
                          "outlinewidth": 0,
                          "ticks": ""
                        },
                        "type": "contourcarpet"
                      }
                    ],
                    "heatmap": [
                      {
                        "colorbar": {
                          "outlinewidth": 0,
                          "ticks": ""
                        },
                        "colorscale": [
                          [
                            0,
                            "#0d0887"
                          ],
                          [
                            0.1111111111111111,
                            "#46039f"
                          ],
                          [
                            0.2222222222222222,
                            "#7201a8"
                          ],
                          [
                            0.3333333333333333,
                            "#9c179e"
                          ],
                          [
                            0.4444444444444444,
                            "#bd3786"
                          ],
                          [
                            0.5555555555555556,
                            "#d8576b"
                          ],
                          [
                            0.6666666666666666,
                            "#ed7953"
                          ],
                          [
                            0.7777777777777778,
                            "#fb9f3a"
                          ],
                          [
                            0.8888888888888888,
                            "#fdca26"
                          ],
                          [
                            1,
                            "#f0f921"
                          ]
                        ],
                        "type": "heatmap"
                      }
                    ],
                    "heatmapgl": [
                      {
                        "colorbar": {
                          "outlinewidth": 0,
                          "ticks": ""
                        },
                        "colorscale": [
                          [
                            0,
                            "#0d0887"
                          ],
                          [
                            0.1111111111111111,
                            "#46039f"
                          ],
                          [
                            0.2222222222222222,
                            "#7201a8"
                          ],
                          [
                            0.3333333333333333,
                            "#9c179e"
                          ],
                          [
                            0.4444444444444444,
                            "#bd3786"
                          ],
                          [
                            0.5555555555555556,
                            "#d8576b"
                          ],
                          [
                            0.6666666666666666,
                            "#ed7953"
                          ],
                          [
                            0.7777777777777778,
                            "#fb9f3a"
                          ],
                          [
                            0.8888888888888888,
                            "#fdca26"
                          ],
                          [
                            1,
                            "#f0f921"
                          ]
                        ],
                        "type": "heatmapgl"
                      }
                    ],
                    "histogram": [
                      {
                        "marker": {
                          "pattern": {
                            "fillmode": "overlay",
                            "size": 10,
                            "solidity": 0.2
                          }
                        },
                        "type": "histogram"
                      }
                    ],
                    "histogram2d": [
                      {
                        "colorbar": {
                          "outlinewidth": 0,
                          "ticks": ""
                        },
                        "colorscale": [
                          [
                            0,
                            "#0d0887"
                          ],
                          [
                            0.1111111111111111,
                            "#46039f"
                          ],
                          [
                            0.2222222222222222,
                            "#7201a8"
                          ],
                          [
                            0.3333333333333333,
                            "#9c179e"
                          ],
                          [
                            0.4444444444444444,
                            "#bd3786"
                          ],
                          [
                            0.5555555555555556,
                            "#d8576b"
                          ],
                          [
                            0.6666666666666666,
                            "#ed7953"
                          ],
                          [
                            0.7777777777777778,
                            "#fb9f3a"
                          ],
                          [
                            0.8888888888888888,
                            "#fdca26"
                          ],
                          [
                            1,
                            "#f0f921"
                          ]
                        ],
                        "type": "histogram2d"
                      }
                    ],
                    "histogram2dcontour": [
                      {
                        "colorbar": {
                          "outlinewidth": 0,
                          "ticks": ""
                        },
                        "colorscale": [
                          [
                            0,
                            "#0d0887"
                          ],
                          [
                            0.1111111111111111,
                            "#46039f"
                          ],
                          [
                            0.2222222222222222,
                            "#7201a8"
                          ],
                          [
                            0.3333333333333333,
                            "#9c179e"
                          ],
                          [
                            0.4444444444444444,
                            "#bd3786"
                          ],
                          [
                            0.5555555555555556,
                            "#d8576b"
                          ],
                          [
                            0.6666666666666666,
                            "#ed7953"
                          ],
                          [
                            0.7777777777777778,
                            "#fb9f3a"
                          ],
                          [
                            0.8888888888888888,
                            "#fdca26"
                          ],
                          [
                            1,
                            "#f0f921"
                          ]
                        ],
                        "type": "histogram2dcontour"
                      }
                    ],
                    "mesh3d": [
                      {
                        "colorbar": {
                          "outlinewidth": 0,
                          "ticks": ""
                        },
                        "type": "mesh3d"
                      }
                    ],
                    "parcoords": [
                      {
                        "line": {
                          "colorbar": {
                            "outlinewidth": 0,
                            "ticks": ""
                          }
                        },
                        "type": "parcoords"
                      }
                    ],
                    "pie": [
                      {
                        "automargin": true,
                        "type": "pie"
                      }
                    ],
                    "scatter": [
                      {
                        "fillpattern": {
                          "fillmode": "overlay",
                          "size": 10,
                          "solidity": 0.2
                        },
                        "type": "scatter"
                      }
                    ],
                    "scatter3d": [
                      {
                        "line": {
                          "colorbar": {
                            "outlinewidth": 0,
                            "ticks": ""
                          }
                        },
                        "marker": {
                          "colorbar": {
                            "outlinewidth": 0,
                            "ticks": ""
                          }
                        },
                        "type": "scatter3d"
                      }
                    ],
                    "scattercarpet": [
                      {
                        "marker": {
                          "colorbar": {
                            "outlinewidth": 0,
                            "ticks": ""
                          }
                        },
                        "type": "scattercarpet"
                      }
                    ],
                    "scattergeo": [
                      {
                        "marker": {
                          "colorbar": {
                            "outlinewidth": 0,
                            "ticks": ""
                          }
                        },
                        "type": "scattergeo"
                      }
                    ],
                    "scattergl": [
                      {
                        "marker": {
                          "colorbar": {
                            "outlinewidth": 0,
                            "ticks": ""
                          }
                        },
                        "type": "scattergl"
                      }
                    ],
                    "scattermapbox": [
                      {
                        "marker": {
                          "colorbar": {
                            "outlinewidth": 0,
                            "ticks": ""
                          }
                        },
                        "type": "scattermapbox"
                      }
                    ],
                    "scatterpolar": [
                      {
                        "marker": {
                          "colorbar": {
                            "outlinewidth": 0,
                            "ticks": ""
                          }
                        },
                        "type": "scatterpolar"
                      }
                    ],
                    "scatterpolargl": [
                      {
                        "marker": {
                          "colorbar": {
                            "outlinewidth": 0,
                            "ticks": ""
                          }
                        },
                        "type": "scatterpolargl"
                      }
                    ],
                    "scatterternary": [
                      {
                        "marker": {
                          "colorbar": {
                            "outlinewidth": 0,
                            "ticks": ""
                          }
                        },
                        "type": "scatterternary"
                      }
                    ],
                    "surface": [
                      {
                        "colorbar": {
                          "outlinewidth": 0,
                          "ticks": ""
                        },
                        "colorscale": [
                          [
                            0,
                            "#0d0887"
                          ],
                          [
                            0.1111111111111111,
                            "#46039f"
                          ],
                          [
                            0.2222222222222222,
                            "#7201a8"
                          ],
                          [
                            0.3333333333333333,
                            "#9c179e"
                          ],
                          [
                            0.4444444444444444,
                            "#bd3786"
                          ],
                          [
                            0.5555555555555556,
                            "#d8576b"
                          ],
                          [
                            0.6666666666666666,
                            "#ed7953"
                          ],
                          [
                            0.7777777777777778,
                            "#fb9f3a"
                          ],
                          [
                            0.8888888888888888,
                            "#fdca26"
                          ],
                          [
                            1,
                            "#f0f921"
                          ]
                        ],
                        "type": "surface"
                      }
                    ],
                    "table": [
                      {
                        "cells": {
                          "fill": {
                            "color": "#EBF0F8"
                          },
                          "line": {
                            "color": "white"
                          }
                        },
                        "header": {
                          "fill": {
                            "color": "#C8D4E3"
                          },
                          "line": {
                            "color": "white"
                          }
                        },
                        "type": "table"
                      }
                    ]
                  },
                  "layout": {
                    "annotationdefaults": {
                      "arrowcolor": "#2a3f5f",
                      "arrowhead": 0,
                      "arrowwidth": 1
                    },
                    "autotypenumbers": "strict",
                    "coloraxis": {
                      "colorbar": {
                        "outlinewidth": 0,
                        "ticks": ""
                      }
                    },
                    "colorscale": {
                      "diverging": [
                        [
                          0,
                          "#8e0152"
                        ],
                        [
                          0.1,
                          "#c51b7d"
                        ],
                        [
                          0.2,
                          "#de77ae"
                        ],
                        [
                          0.3,
                          "#f1b6da"
                        ],
                        [
                          0.4,
                          "#fde0ef"
                        ],
                        [
                          0.5,
                          "#f7f7f7"
                        ],
                        [
                          0.6,
                          "#e6f5d0"
                        ],
                        [
                          0.7,
                          "#b8e186"
                        ],
                        [
                          0.8,
                          "#7fbc41"
                        ],
                        [
                          0.9,
                          "#4d9221"
                        ],
                        [
                          1,
                          "#276419"
                        ]
                      ],
                      "sequential": [
                        [
                          0,
                          "#0d0887"
                        ],
                        [
                          0.1111111111111111,
                          "#46039f"
                        ],
                        [
                          0.2222222222222222,
                          "#7201a8"
                        ],
                        [
                          0.3333333333333333,
                          "#9c179e"
                        ],
                        [
                          0.4444444444444444,
                          "#bd3786"
                        ],
                        [
                          0.5555555555555556,
                          "#d8576b"
                        ],
                        [
                          0.6666666666666666,
                          "#ed7953"
                        ],
                        [
                          0.7777777777777778,
                          "#fb9f3a"
                        ],
                        [
                          0.8888888888888888,
                          "#fdca26"
                        ],
                        [
                          1,
                          "#f0f921"
                        ]
                      ],
                      "sequentialminus": [
                        [
                          0,
                          "#0d0887"
                        ],
                        [
                          0.1111111111111111,
                          "#46039f"
                        ],
                        [
                          0.2222222222222222,
                          "#7201a8"
                        ],
                        [
                          0.3333333333333333,
                          "#9c179e"
                        ],
                        [
                          0.4444444444444444,
                          "#bd3786"
                        ],
                        [
                          0.5555555555555556,
                          "#d8576b"
                        ],
                        [
                          0.6666666666666666,
                          "#ed7953"
                        ],
                        [
                          0.7777777777777778,
                          "#fb9f3a"
                        ],
                        [
                          0.8888888888888888,
                          "#fdca26"
                        ],
                        [
                          1,
                          "#f0f921"
                        ]
                      ]
                    },
                    "colorway": [
                      "#636efa",
                      "#EF553B",
                      "#00cc96",
                      "#ab63fa",
                      "#FFA15A",
                      "#19d3f3",
                      "#FF6692",
                      "#B6E880",
                      "#FF97FF",
                      "#FECB52"
                    ],
                    "font": {
                      "color": "#2a3f5f"
                    },
                    "geo": {
                      "bgcolor": "white",
                      "lakecolor": "white",
                      "landcolor": "white",
                      "showlakes": true,
                      "showland": true,
                      "subunitcolor": "#C8D4E3"
                    },
                    "hoverlabel": {
                      "align": "left"
                    },
                    "hovermode": "closest",
                    "mapbox": {
                      "style": "light"
                    },
                    "paper_bgcolor": "white",
                    "plot_bgcolor": "white",
                    "polar": {
                      "angularaxis": {
                        "gridcolor": "#EBF0F8",
                        "linecolor": "#EBF0F8",
                        "ticks": ""
                      },
                      "bgcolor": "white",
                      "radialaxis": {
                        "gridcolor": "#EBF0F8",
                        "linecolor": "#EBF0F8",
                        "ticks": ""
                      }
                    },
                    "scene": {
                      "xaxis": {
                        "backgroundcolor": "white",
                        "gridcolor": "#DFE8F3",
                        "gridwidth": 2,
                        "linecolor": "#EBF0F8",
                        "showbackground": true,
                        "ticks": "",
                        "zerolinecolor": "#EBF0F8"
                      },
                      "yaxis": {
                        "backgroundcolor": "white",
                        "gridcolor": "#DFE8F3",
                        "gridwidth": 2,
                        "linecolor": "#EBF0F8",
                        "showbackground": true,
                        "ticks": "",
                        "zerolinecolor": "#EBF0F8"
                      },
                      "zaxis": {
                        "backgroundcolor": "white",
                        "gridcolor": "#DFE8F3",
                        "gridwidth": 2,
                        "linecolor": "#EBF0F8",
                        "showbackground": true,
                        "ticks": "",
                        "zerolinecolor": "#EBF0F8"
                      }
                    },
                    "shapedefaults": {
                      "line": {
                        "color": "#2a3f5f"
                      }
                    },
                    "ternary": {
                      "aaxis": {
                        "gridcolor": "#DFE8F3",
                        "linecolor": "#A2B1C6",
                        "ticks": ""
                      },
                      "baxis": {
                        "gridcolor": "#DFE8F3",
                        "linecolor": "#A2B1C6",
                        "ticks": ""
                      },
                      "bgcolor": "white",
                      "caxis": {
                        "gridcolor": "#DFE8F3",
                        "linecolor": "#A2B1C6",
                        "ticks": ""
                      }
                    },
                    "title": {
                      "x": 0.05
                    },
                    "xaxis": {
                      "automargin": true,
                      "gridcolor": "#EBF0F8",
                      "linecolor": "#EBF0F8",
                      "ticks": "",
                      "title": {
                        "standoff": 15
                      },
                      "zerolinecolor": "#EBF0F8",
                      "zerolinewidth": 2
                    },
                    "yaxis": {
                      "automargin": true,
                      "gridcolor": "#EBF0F8",
                      "linecolor": "#EBF0F8",
                      "ticks": "",
                      "title": {
                        "standoff": 15
                      },
                      "zerolinecolor": "#EBF0F8",
                      "zerolinewidth": 2
                    }
                  }
                },
                "title": {
                  "font": {
                    "color": "#050609",
                    "size": 20
                  },
                  "text": "Freq. Cardíaca Máx. x Gênero e Presença de Doença"
                },
                "xaxis": {
                  "anchor": "y",
                  "domain": [
                    0,
                    1
                  ],
                  "tickfont": {
                    "size": 12
                  },
                  "title": {
                    "font": {
                      "size": 14
                    },
                    "text": "Gênero"
                  }
                },
                "yaxis": {
                  "anchor": "x",
                  "domain": [
                    0,
                    1
                  ],
                  "tickfont": {
                    "size": 12
                  },
                  "title": {
                    "font": {
                      "size": 14
                    },
                    "text": "Freq. Card. Máx."
                  }
                }
              }
            }
          },
          "metadata": {},
          "output_type": "display_data"
        }
      ],
      "source": [
        "thalach_box = px.box(\n",
        "    df,\n",
        "    x=\"sex_labels\",\n",
        "    y=\"thalach\",\n",
        "    color=\"target_labels\",\n",
        "    points=\"all\",  # Para mostrar todos os pontos individuais\n",
        "    color_discrete_map={'Presença': color_pal[3], 'Ausência': color_pal[2]},\n",
        "    title = 'Freq. Cardíaca Máx. x Gênero e Presença de Doença',\n",
        "    labels={'target_labels': 'Doença', 'sex_labels': 'Sexo', 'thalach' : 'Freq. Card. Máx.'},\n",
        ")\n",
        "\n",
        "thalach_box.update_layout(\n",
        "\n",
        "\n",
        "    font=dict(family =\"Fira Code, sans-serif\", color = color_pal[0], size=14),\n",
        "    title_font= dict(size = 20, color = color_pal[0]),\n",
        "\n",
        "    xaxis=dict(\n",
        "        title='Gênero',\n",
        "        title_font=dict(size=14),\n",
        "        tickfont=dict(size=12)\n",
        "    ),\n",
        "\n",
        "    yaxis=dict(\n",
        "        title_font=dict(size=14),\n",
        "        tickfont=dict(size=12)\n",
        "\n",
        "    ),\n",
        "\n",
        "    legend=dict(\n",
        "        title=\"Doença Cardíaca: \",\n",
        "        orientation=\"h\",\n",
        "        x=0.5,\n",
        "        y = -0.2,\n",
        "        xanchor=\"center\",\n",
        "    ),\n",
        "\n",
        "    template=\"plotly_white\",\n",
        "    boxmode = 'group'\n",
        ")\n",
        "\n",
        "thalach_box.show()"
      ]
    },
    {
      "cell_type": "code",
      "execution_count": 17,
      "metadata": {
        "colab": {
          "base_uri": "https://localhost:8080/",
          "height": 542
        },
        "id": "cwTawsEbygyw",
        "outputId": "91c0219a-fc05-4e8c-ccdf-720bc994d052"
      },
      "outputs": [
        {
          "data": {
            "application/vnd.plotly.v1+json": {
              "config": {
                "plotlyServerURL": "https://plot.ly"
              },
              "data": [
                {
                  "alignmentgroup": "True",
                  "box": {
                    "visible": true
                  },
                  "hovertemplate": "Doença=%{x}<br>Freq. Card. Máx.=%{y}<extra></extra>",
                  "legendgroup": "Ausência",
                  "marker": {
                    "color": "#959672"
                  },
                  "name": "Ausência",
                  "offsetgroup": "Ausência",
                  "orientation": "v",
                  "points": "outliers",
                  "scalegroup": "True",
                  "showlegend": true,
                  "type": "violin",
                  "x": [
                    "Ausência",
                    "Ausência",
                    "Ausência",
                    "Ausência",
                    "Ausência",
                    "Ausência",
                    "Ausência",
                    "Ausência",
                    "Ausência",
                    "Ausência",
                    "Ausência",
                    "Ausência",
                    "Ausência",
                    "Ausência",
                    "Ausência",
                    "Ausência",
                    "Ausência",
                    "Ausência",
                    "Ausência",
                    "Ausência",
                    "Ausência",
                    "Ausência",
                    "Ausência",
                    "Ausência",
                    "Ausência",
                    "Ausência",
                    "Ausência",
                    "Ausência",
                    "Ausência",
                    "Ausência",
                    "Ausência",
                    "Ausência",
                    "Ausência",
                    "Ausência",
                    "Ausência",
                    "Ausência",
                    "Ausência",
                    "Ausência",
                    "Ausência",
                    "Ausência",
                    "Ausência",
                    "Ausência",
                    "Ausência",
                    "Ausência",
                    "Ausência",
                    "Ausência",
                    "Ausência",
                    "Ausência",
                    "Ausência",
                    "Ausência",
                    "Ausência",
                    "Ausência",
                    "Ausência",
                    "Ausência",
                    "Ausência",
                    "Ausência",
                    "Ausência",
                    "Ausência",
                    "Ausência",
                    "Ausência",
                    "Ausência",
                    "Ausência",
                    "Ausência",
                    "Ausência",
                    "Ausência",
                    "Ausência",
                    "Ausência",
                    "Ausência",
                    "Ausência",
                    "Ausência",
                    "Ausência",
                    "Ausência",
                    "Ausência",
                    "Ausência",
                    "Ausência",
                    "Ausência",
                    "Ausência",
                    "Ausência",
                    "Ausência",
                    "Ausência",
                    "Ausência",
                    "Ausência",
                    "Ausência",
                    "Ausência",
                    "Ausência",
                    "Ausência",
                    "Ausência",
                    "Ausência",
                    "Ausência",
                    "Ausência",
                    "Ausência",
                    "Ausência",
                    "Ausência",
                    "Ausência",
                    "Ausência",
                    "Ausência",
                    "Ausência",
                    "Ausência",
                    "Ausência",
                    "Ausência",
                    "Ausência",
                    "Ausência",
                    "Ausência",
                    "Ausência",
                    "Ausência",
                    "Ausência",
                    "Ausência",
                    "Ausência",
                    "Ausência",
                    "Ausência",
                    "Ausência",
                    "Ausência",
                    "Ausência",
                    "Ausência",
                    "Ausência",
                    "Ausência",
                    "Ausência",
                    "Ausência",
                    "Ausência",
                    "Ausência",
                    "Ausência",
                    "Ausência",
                    "Ausência",
                    "Ausência",
                    "Ausência",
                    "Ausência",
                    "Ausência",
                    "Ausência",
                    "Ausência",
                    "Ausência",
                    "Ausência",
                    "Ausência",
                    "Ausência",
                    "Ausência",
                    "Ausência",
                    "Ausência",
                    "Ausência",
                    "Ausência",
                    "Ausência",
                    "Ausência",
                    "Ausência",
                    "Ausência",
                    "Ausência",
                    "Ausência",
                    "Ausência",
                    "Ausência",
                    "Ausência",
                    "Ausência",
                    "Ausência",
                    "Ausência",
                    "Ausência",
                    "Ausência",
                    "Ausência",
                    "Ausência",
                    "Ausência",
                    "Ausência",
                    "Ausência",
                    "Ausência",
                    "Ausência",
                    "Ausência",
                    "Ausência",
                    "Ausência",
                    "Ausência",
                    "Ausência"
                  ],
                  "x0": " ",
                  "xaxis": "x",
                  "y": [
                    150,
                    187,
                    172,
                    178,
                    163,
                    148,
                    153,
                    173,
                    162,
                    174,
                    160,
                    139,
                    171,
                    144,
                    162,
                    158,
                    172,
                    114,
                    171,
                    151,
                    161,
                    179,
                    178,
                    137,
                    178,
                    162,
                    157,
                    123,
                    157,
                    152,
                    168,
                    140,
                    188,
                    152,
                    125,
                    160,
                    170,
                    165,
                    148,
                    151,
                    142,
                    180,
                    148,
                    143,
                    182,
                    172,
                    180,
                    156,
                    115,
                    160,
                    149,
                    151,
                    146,
                    175,
                    172,
                    158,
                    186,
                    185,
                    174,
                    159,
                    130,
                    156,
                    190,
                    132,
                    165,
                    182,
                    143,
                    175,
                    170,
                    163,
                    147,
                    154,
                    202,
                    186,
                    165,
                    161,
                    166,
                    164,
                    184,
                    154,
                    179,
                    170,
                    160,
                    178,
                    122,
                    160,
                    151,
                    156,
                    158,
                    122,
                    175,
                    168,
                    169,
                    159,
                    138,
                    111,
                    157,
                    147,
                    162,
                    173,
                    178,
                    145,
                    179,
                    194,
                    163,
                    115,
                    131,
                    152,
                    162,
                    159,
                    154,
                    173,
                    133,
                    161,
                    155,
                    170,
                    168,
                    162,
                    172,
                    152,
                    122,
                    182,
                    172,
                    167,
                    179,
                    192,
                    143,
                    172,
                    169,
                    121,
                    163,
                    162,
                    162,
                    153,
                    163,
                    163,
                    96,
                    140,
                    126,
                    105,
                    157,
                    181,
                    173,
                    142,
                    116,
                    143,
                    149,
                    171,
                    169,
                    150,
                    138,
                    125,
                    155,
                    152,
                    152,
                    131,
                    179,
                    174,
                    144,
                    163,
                    169,
                    166,
                    182,
                    173
                  ],
                  "y0": " ",
                  "yaxis": "y"
                },
                {
                  "alignmentgroup": "True",
                  "box": {
                    "visible": true
                  },
                  "hovertemplate": "Doença=%{x}<br>Freq. Card. Máx.=%{y}<extra></extra>",
                  "legendgroup": "Presença",
                  "marker": {
                    "color": "#D9230F"
                  },
                  "name": "Presença",
                  "offsetgroup": "Presença",
                  "orientation": "v",
                  "points": "outliers",
                  "scalegroup": "True",
                  "showlegend": true,
                  "type": "violin",
                  "x": [
                    "Presença",
                    "Presença",
                    "Presença",
                    "Presença",
                    "Presença",
                    "Presença",
                    "Presença",
                    "Presença",
                    "Presença",
                    "Presença",
                    "Presença",
                    "Presença",
                    "Presença",
                    "Presença",
                    "Presença",
                    "Presença",
                    "Presença",
                    "Presença",
                    "Presença",
                    "Presença",
                    "Presença",
                    "Presença",
                    "Presença",
                    "Presença",
                    "Presença",
                    "Presença",
                    "Presença",
                    "Presença",
                    "Presença",
                    "Presença",
                    "Presença",
                    "Presença",
                    "Presença",
                    "Presença",
                    "Presença",
                    "Presença",
                    "Presença",
                    "Presença",
                    "Presença",
                    "Presença",
                    "Presença",
                    "Presença",
                    "Presença",
                    "Presença",
                    "Presença",
                    "Presença",
                    "Presença",
                    "Presença",
                    "Presença",
                    "Presença",
                    "Presença",
                    "Presença",
                    "Presença",
                    "Presença",
                    "Presença",
                    "Presença",
                    "Presença",
                    "Presença",
                    "Presença",
                    "Presença",
                    "Presença",
                    "Presença",
                    "Presença",
                    "Presença",
                    "Presença",
                    "Presença",
                    "Presença",
                    "Presença",
                    "Presença",
                    "Presença",
                    "Presença",
                    "Presença",
                    "Presença",
                    "Presença",
                    "Presença",
                    "Presença",
                    "Presença",
                    "Presença",
                    "Presença",
                    "Presença",
                    "Presença",
                    "Presença",
                    "Presença",
                    "Presença",
                    "Presença",
                    "Presença",
                    "Presença",
                    "Presença",
                    "Presença",
                    "Presença",
                    "Presença",
                    "Presença",
                    "Presença",
                    "Presença",
                    "Presença",
                    "Presença",
                    "Presença",
                    "Presença",
                    "Presença",
                    "Presença",
                    "Presença",
                    "Presença",
                    "Presença",
                    "Presença",
                    "Presença",
                    "Presença",
                    "Presença",
                    "Presença",
                    "Presença",
                    "Presença",
                    "Presença",
                    "Presença",
                    "Presença",
                    "Presença",
                    "Presença",
                    "Presença",
                    "Presença",
                    "Presença",
                    "Presença",
                    "Presença",
                    "Presença",
                    "Presença",
                    "Presença",
                    "Presença",
                    "Presença",
                    "Presença",
                    "Presença",
                    "Presença",
                    "Presença",
                    "Presença",
                    "Presença",
                    "Presença",
                    "Presença",
                    "Presença",
                    "Presença",
                    "Presença",
                    "Presença",
                    "Presença",
                    "Presença"
                  ],
                  "x0": " ",
                  "xaxis": "x",
                  "y": [
                    108,
                    129,
                    160,
                    147,
                    155,
                    142,
                    168,
                    160,
                    173,
                    132,
                    114,
                    160,
                    158,
                    120,
                    112,
                    132,
                    114,
                    169,
                    165,
                    128,
                    153,
                    144,
                    109,
                    163,
                    158,
                    142,
                    131,
                    113,
                    142,
                    155,
                    140,
                    147,
                    163,
                    99,
                    158,
                    177,
                    141,
                    111,
                    150,
                    145,
                    161,
                    142,
                    157,
                    139,
                    162,
                    150,
                    140,
                    140,
                    146,
                    144,
                    136,
                    97,
                    132,
                    127,
                    150,
                    154,
                    111,
                    174,
                    133,
                    126,
                    125,
                    103,
                    130,
                    159,
                    131,
                    152,
                    124,
                    145,
                    96,
                    109,
                    173,
                    171,
                    170,
                    162,
                    156,
                    112,
                    143,
                    132,
                    88,
                    105,
                    166,
                    150,
                    161,
                    120,
                    195,
                    146,
                    122,
                    143,
                    106,
                    125,
                    125,
                    147,
                    130,
                    126,
                    154,
                    182,
                    165,
                    160,
                    95,
                    169,
                    108,
                    132,
                    117,
                    126,
                    116,
                    103,
                    144,
                    145,
                    71,
                    156,
                    118,
                    168,
                    105,
                    141,
                    152,
                    125,
                    125,
                    156,
                    134,
                    181,
                    138,
                    120,
                    162,
                    164,
                    143,
                    130,
                    161,
                    140,
                    146,
                    150,
                    144,
                    144,
                    136,
                    90,
                    123,
                    132,
                    141,
                    115,
                    174
                  ],
                  "y0": " ",
                  "yaxis": "y"
                }
              ],
              "layout": {
                "font": {
                  "color": "#050609",
                  "family": "Fira Code, sans-serif",
                  "size": 14
                },
                "legend": {
                  "orientation": "h",
                  "title": {
                    "text": "Doença Cardíaca: "
                  },
                  "tracegroupgap": 0,
                  "x": 0.5,
                  "xanchor": "center",
                  "y": -0.2
                },
                "template": {
                  "data": {
                    "bar": [
                      {
                        "error_x": {
                          "color": "#2a3f5f"
                        },
                        "error_y": {
                          "color": "#2a3f5f"
                        },
                        "marker": {
                          "line": {
                            "color": "white",
                            "width": 0.5
                          },
                          "pattern": {
                            "fillmode": "overlay",
                            "size": 10,
                            "solidity": 0.2
                          }
                        },
                        "type": "bar"
                      }
                    ],
                    "barpolar": [
                      {
                        "marker": {
                          "line": {
                            "color": "white",
                            "width": 0.5
                          },
                          "pattern": {
                            "fillmode": "overlay",
                            "size": 10,
                            "solidity": 0.2
                          }
                        },
                        "type": "barpolar"
                      }
                    ],
                    "carpet": [
                      {
                        "aaxis": {
                          "endlinecolor": "#2a3f5f",
                          "gridcolor": "#C8D4E3",
                          "linecolor": "#C8D4E3",
                          "minorgridcolor": "#C8D4E3",
                          "startlinecolor": "#2a3f5f"
                        },
                        "baxis": {
                          "endlinecolor": "#2a3f5f",
                          "gridcolor": "#C8D4E3",
                          "linecolor": "#C8D4E3",
                          "minorgridcolor": "#C8D4E3",
                          "startlinecolor": "#2a3f5f"
                        },
                        "type": "carpet"
                      }
                    ],
                    "choropleth": [
                      {
                        "colorbar": {
                          "outlinewidth": 0,
                          "ticks": ""
                        },
                        "type": "choropleth"
                      }
                    ],
                    "contour": [
                      {
                        "colorbar": {
                          "outlinewidth": 0,
                          "ticks": ""
                        },
                        "colorscale": [
                          [
                            0,
                            "#0d0887"
                          ],
                          [
                            0.1111111111111111,
                            "#46039f"
                          ],
                          [
                            0.2222222222222222,
                            "#7201a8"
                          ],
                          [
                            0.3333333333333333,
                            "#9c179e"
                          ],
                          [
                            0.4444444444444444,
                            "#bd3786"
                          ],
                          [
                            0.5555555555555556,
                            "#d8576b"
                          ],
                          [
                            0.6666666666666666,
                            "#ed7953"
                          ],
                          [
                            0.7777777777777778,
                            "#fb9f3a"
                          ],
                          [
                            0.8888888888888888,
                            "#fdca26"
                          ],
                          [
                            1,
                            "#f0f921"
                          ]
                        ],
                        "type": "contour"
                      }
                    ],
                    "contourcarpet": [
                      {
                        "colorbar": {
                          "outlinewidth": 0,
                          "ticks": ""
                        },
                        "type": "contourcarpet"
                      }
                    ],
                    "heatmap": [
                      {
                        "colorbar": {
                          "outlinewidth": 0,
                          "ticks": ""
                        },
                        "colorscale": [
                          [
                            0,
                            "#0d0887"
                          ],
                          [
                            0.1111111111111111,
                            "#46039f"
                          ],
                          [
                            0.2222222222222222,
                            "#7201a8"
                          ],
                          [
                            0.3333333333333333,
                            "#9c179e"
                          ],
                          [
                            0.4444444444444444,
                            "#bd3786"
                          ],
                          [
                            0.5555555555555556,
                            "#d8576b"
                          ],
                          [
                            0.6666666666666666,
                            "#ed7953"
                          ],
                          [
                            0.7777777777777778,
                            "#fb9f3a"
                          ],
                          [
                            0.8888888888888888,
                            "#fdca26"
                          ],
                          [
                            1,
                            "#f0f921"
                          ]
                        ],
                        "type": "heatmap"
                      }
                    ],
                    "heatmapgl": [
                      {
                        "colorbar": {
                          "outlinewidth": 0,
                          "ticks": ""
                        },
                        "colorscale": [
                          [
                            0,
                            "#0d0887"
                          ],
                          [
                            0.1111111111111111,
                            "#46039f"
                          ],
                          [
                            0.2222222222222222,
                            "#7201a8"
                          ],
                          [
                            0.3333333333333333,
                            "#9c179e"
                          ],
                          [
                            0.4444444444444444,
                            "#bd3786"
                          ],
                          [
                            0.5555555555555556,
                            "#d8576b"
                          ],
                          [
                            0.6666666666666666,
                            "#ed7953"
                          ],
                          [
                            0.7777777777777778,
                            "#fb9f3a"
                          ],
                          [
                            0.8888888888888888,
                            "#fdca26"
                          ],
                          [
                            1,
                            "#f0f921"
                          ]
                        ],
                        "type": "heatmapgl"
                      }
                    ],
                    "histogram": [
                      {
                        "marker": {
                          "pattern": {
                            "fillmode": "overlay",
                            "size": 10,
                            "solidity": 0.2
                          }
                        },
                        "type": "histogram"
                      }
                    ],
                    "histogram2d": [
                      {
                        "colorbar": {
                          "outlinewidth": 0,
                          "ticks": ""
                        },
                        "colorscale": [
                          [
                            0,
                            "#0d0887"
                          ],
                          [
                            0.1111111111111111,
                            "#46039f"
                          ],
                          [
                            0.2222222222222222,
                            "#7201a8"
                          ],
                          [
                            0.3333333333333333,
                            "#9c179e"
                          ],
                          [
                            0.4444444444444444,
                            "#bd3786"
                          ],
                          [
                            0.5555555555555556,
                            "#d8576b"
                          ],
                          [
                            0.6666666666666666,
                            "#ed7953"
                          ],
                          [
                            0.7777777777777778,
                            "#fb9f3a"
                          ],
                          [
                            0.8888888888888888,
                            "#fdca26"
                          ],
                          [
                            1,
                            "#f0f921"
                          ]
                        ],
                        "type": "histogram2d"
                      }
                    ],
                    "histogram2dcontour": [
                      {
                        "colorbar": {
                          "outlinewidth": 0,
                          "ticks": ""
                        },
                        "colorscale": [
                          [
                            0,
                            "#0d0887"
                          ],
                          [
                            0.1111111111111111,
                            "#46039f"
                          ],
                          [
                            0.2222222222222222,
                            "#7201a8"
                          ],
                          [
                            0.3333333333333333,
                            "#9c179e"
                          ],
                          [
                            0.4444444444444444,
                            "#bd3786"
                          ],
                          [
                            0.5555555555555556,
                            "#d8576b"
                          ],
                          [
                            0.6666666666666666,
                            "#ed7953"
                          ],
                          [
                            0.7777777777777778,
                            "#fb9f3a"
                          ],
                          [
                            0.8888888888888888,
                            "#fdca26"
                          ],
                          [
                            1,
                            "#f0f921"
                          ]
                        ],
                        "type": "histogram2dcontour"
                      }
                    ],
                    "mesh3d": [
                      {
                        "colorbar": {
                          "outlinewidth": 0,
                          "ticks": ""
                        },
                        "type": "mesh3d"
                      }
                    ],
                    "parcoords": [
                      {
                        "line": {
                          "colorbar": {
                            "outlinewidth": 0,
                            "ticks": ""
                          }
                        },
                        "type": "parcoords"
                      }
                    ],
                    "pie": [
                      {
                        "automargin": true,
                        "type": "pie"
                      }
                    ],
                    "scatter": [
                      {
                        "fillpattern": {
                          "fillmode": "overlay",
                          "size": 10,
                          "solidity": 0.2
                        },
                        "type": "scatter"
                      }
                    ],
                    "scatter3d": [
                      {
                        "line": {
                          "colorbar": {
                            "outlinewidth": 0,
                            "ticks": ""
                          }
                        },
                        "marker": {
                          "colorbar": {
                            "outlinewidth": 0,
                            "ticks": ""
                          }
                        },
                        "type": "scatter3d"
                      }
                    ],
                    "scattercarpet": [
                      {
                        "marker": {
                          "colorbar": {
                            "outlinewidth": 0,
                            "ticks": ""
                          }
                        },
                        "type": "scattercarpet"
                      }
                    ],
                    "scattergeo": [
                      {
                        "marker": {
                          "colorbar": {
                            "outlinewidth": 0,
                            "ticks": ""
                          }
                        },
                        "type": "scattergeo"
                      }
                    ],
                    "scattergl": [
                      {
                        "marker": {
                          "colorbar": {
                            "outlinewidth": 0,
                            "ticks": ""
                          }
                        },
                        "type": "scattergl"
                      }
                    ],
                    "scattermapbox": [
                      {
                        "marker": {
                          "colorbar": {
                            "outlinewidth": 0,
                            "ticks": ""
                          }
                        },
                        "type": "scattermapbox"
                      }
                    ],
                    "scatterpolar": [
                      {
                        "marker": {
                          "colorbar": {
                            "outlinewidth": 0,
                            "ticks": ""
                          }
                        },
                        "type": "scatterpolar"
                      }
                    ],
                    "scatterpolargl": [
                      {
                        "marker": {
                          "colorbar": {
                            "outlinewidth": 0,
                            "ticks": ""
                          }
                        },
                        "type": "scatterpolargl"
                      }
                    ],
                    "scatterternary": [
                      {
                        "marker": {
                          "colorbar": {
                            "outlinewidth": 0,
                            "ticks": ""
                          }
                        },
                        "type": "scatterternary"
                      }
                    ],
                    "surface": [
                      {
                        "colorbar": {
                          "outlinewidth": 0,
                          "ticks": ""
                        },
                        "colorscale": [
                          [
                            0,
                            "#0d0887"
                          ],
                          [
                            0.1111111111111111,
                            "#46039f"
                          ],
                          [
                            0.2222222222222222,
                            "#7201a8"
                          ],
                          [
                            0.3333333333333333,
                            "#9c179e"
                          ],
                          [
                            0.4444444444444444,
                            "#bd3786"
                          ],
                          [
                            0.5555555555555556,
                            "#d8576b"
                          ],
                          [
                            0.6666666666666666,
                            "#ed7953"
                          ],
                          [
                            0.7777777777777778,
                            "#fb9f3a"
                          ],
                          [
                            0.8888888888888888,
                            "#fdca26"
                          ],
                          [
                            1,
                            "#f0f921"
                          ]
                        ],
                        "type": "surface"
                      }
                    ],
                    "table": [
                      {
                        "cells": {
                          "fill": {
                            "color": "#EBF0F8"
                          },
                          "line": {
                            "color": "white"
                          }
                        },
                        "header": {
                          "fill": {
                            "color": "#C8D4E3"
                          },
                          "line": {
                            "color": "white"
                          }
                        },
                        "type": "table"
                      }
                    ]
                  },
                  "layout": {
                    "annotationdefaults": {
                      "arrowcolor": "#2a3f5f",
                      "arrowhead": 0,
                      "arrowwidth": 1
                    },
                    "autotypenumbers": "strict",
                    "coloraxis": {
                      "colorbar": {
                        "outlinewidth": 0,
                        "ticks": ""
                      }
                    },
                    "colorscale": {
                      "diverging": [
                        [
                          0,
                          "#8e0152"
                        ],
                        [
                          0.1,
                          "#c51b7d"
                        ],
                        [
                          0.2,
                          "#de77ae"
                        ],
                        [
                          0.3,
                          "#f1b6da"
                        ],
                        [
                          0.4,
                          "#fde0ef"
                        ],
                        [
                          0.5,
                          "#f7f7f7"
                        ],
                        [
                          0.6,
                          "#e6f5d0"
                        ],
                        [
                          0.7,
                          "#b8e186"
                        ],
                        [
                          0.8,
                          "#7fbc41"
                        ],
                        [
                          0.9,
                          "#4d9221"
                        ],
                        [
                          1,
                          "#276419"
                        ]
                      ],
                      "sequential": [
                        [
                          0,
                          "#0d0887"
                        ],
                        [
                          0.1111111111111111,
                          "#46039f"
                        ],
                        [
                          0.2222222222222222,
                          "#7201a8"
                        ],
                        [
                          0.3333333333333333,
                          "#9c179e"
                        ],
                        [
                          0.4444444444444444,
                          "#bd3786"
                        ],
                        [
                          0.5555555555555556,
                          "#d8576b"
                        ],
                        [
                          0.6666666666666666,
                          "#ed7953"
                        ],
                        [
                          0.7777777777777778,
                          "#fb9f3a"
                        ],
                        [
                          0.8888888888888888,
                          "#fdca26"
                        ],
                        [
                          1,
                          "#f0f921"
                        ]
                      ],
                      "sequentialminus": [
                        [
                          0,
                          "#0d0887"
                        ],
                        [
                          0.1111111111111111,
                          "#46039f"
                        ],
                        [
                          0.2222222222222222,
                          "#7201a8"
                        ],
                        [
                          0.3333333333333333,
                          "#9c179e"
                        ],
                        [
                          0.4444444444444444,
                          "#bd3786"
                        ],
                        [
                          0.5555555555555556,
                          "#d8576b"
                        ],
                        [
                          0.6666666666666666,
                          "#ed7953"
                        ],
                        [
                          0.7777777777777778,
                          "#fb9f3a"
                        ],
                        [
                          0.8888888888888888,
                          "#fdca26"
                        ],
                        [
                          1,
                          "#f0f921"
                        ]
                      ]
                    },
                    "colorway": [
                      "#636efa",
                      "#EF553B",
                      "#00cc96",
                      "#ab63fa",
                      "#FFA15A",
                      "#19d3f3",
                      "#FF6692",
                      "#B6E880",
                      "#FF97FF",
                      "#FECB52"
                    ],
                    "font": {
                      "color": "#2a3f5f"
                    },
                    "geo": {
                      "bgcolor": "white",
                      "lakecolor": "white",
                      "landcolor": "white",
                      "showlakes": true,
                      "showland": true,
                      "subunitcolor": "#C8D4E3"
                    },
                    "hoverlabel": {
                      "align": "left"
                    },
                    "hovermode": "closest",
                    "mapbox": {
                      "style": "light"
                    },
                    "paper_bgcolor": "white",
                    "plot_bgcolor": "white",
                    "polar": {
                      "angularaxis": {
                        "gridcolor": "#EBF0F8",
                        "linecolor": "#EBF0F8",
                        "ticks": ""
                      },
                      "bgcolor": "white",
                      "radialaxis": {
                        "gridcolor": "#EBF0F8",
                        "linecolor": "#EBF0F8",
                        "ticks": ""
                      }
                    },
                    "scene": {
                      "xaxis": {
                        "backgroundcolor": "white",
                        "gridcolor": "#DFE8F3",
                        "gridwidth": 2,
                        "linecolor": "#EBF0F8",
                        "showbackground": true,
                        "ticks": "",
                        "zerolinecolor": "#EBF0F8"
                      },
                      "yaxis": {
                        "backgroundcolor": "white",
                        "gridcolor": "#DFE8F3",
                        "gridwidth": 2,
                        "linecolor": "#EBF0F8",
                        "showbackground": true,
                        "ticks": "",
                        "zerolinecolor": "#EBF0F8"
                      },
                      "zaxis": {
                        "backgroundcolor": "white",
                        "gridcolor": "#DFE8F3",
                        "gridwidth": 2,
                        "linecolor": "#EBF0F8",
                        "showbackground": true,
                        "ticks": "",
                        "zerolinecolor": "#EBF0F8"
                      }
                    },
                    "shapedefaults": {
                      "line": {
                        "color": "#2a3f5f"
                      }
                    },
                    "ternary": {
                      "aaxis": {
                        "gridcolor": "#DFE8F3",
                        "linecolor": "#A2B1C6",
                        "ticks": ""
                      },
                      "baxis": {
                        "gridcolor": "#DFE8F3",
                        "linecolor": "#A2B1C6",
                        "ticks": ""
                      },
                      "bgcolor": "white",
                      "caxis": {
                        "gridcolor": "#DFE8F3",
                        "linecolor": "#A2B1C6",
                        "ticks": ""
                      }
                    },
                    "title": {
                      "x": 0.05
                    },
                    "xaxis": {
                      "automargin": true,
                      "gridcolor": "#EBF0F8",
                      "linecolor": "#EBF0F8",
                      "ticks": "",
                      "title": {
                        "standoff": 15
                      },
                      "zerolinecolor": "#EBF0F8",
                      "zerolinewidth": 2
                    },
                    "yaxis": {
                      "automargin": true,
                      "gridcolor": "#EBF0F8",
                      "linecolor": "#EBF0F8",
                      "ticks": "",
                      "title": {
                        "standoff": 15
                      },
                      "zerolinecolor": "#EBF0F8",
                      "zerolinewidth": 2
                    }
                  }
                },
                "title": {
                  "font": {
                    "color": "#050609",
                    "size": 20
                  },
                  "text": "Freq. Card. Máx. por Presença de Doença"
                },
                "violinmode": "overlay",
                "xaxis": {
                  "anchor": "y",
                  "categoryarray": [
                    "Ausência",
                    "Presença"
                  ],
                  "categoryorder": "array",
                  "domain": [
                    0,
                    1
                  ],
                  "tickfont": {
                    "size": 12
                  },
                  "title": {
                    "font": {
                      "size": 14
                    },
                    "text": "Doença"
                  }
                },
                "yaxis": {
                  "anchor": "x",
                  "domain": [
                    0,
                    1
                  ],
                  "tickfont": {
                    "size": 12
                  },
                  "title": {
                    "font": {
                      "size": 14
                    },
                    "text": "Frequência Cardíaca Máxima"
                  }
                }
              }
            }
          },
          "metadata": {},
          "output_type": "display_data"
        }
      ],
      "source": [
        "thalach_violin = px.violin(\n",
        "\n",
        "    df,\n",
        "    x=\"target_labels\",\n",
        "    y=\"thalach\",\n",
        "    color=\"target_labels\",\n",
        "    box=True,\n",
        "    points=\"outliers\",\n",
        "    color_discrete_map={'Presença': color_pal[3], 'Ausência': color_pal[2]},\n",
        "    title = 'Freq. Card. Máx. por Presença de Doença',\n",
        "    labels={'target_labels': 'Doença', 'thalach' : 'Freq. Card. Máx.'}\n",
        ")\n",
        "\n",
        "# Personalizando o layout do gráfico\n",
        "thalach_violin.update_layout(\n",
        "\n",
        "    font=dict(family =\"Fira Code, sans-serif\", color = color_pal[0], size=14),\n",
        "    title_font= dict(size = 20, color = color_pal[0]),\n",
        "\n",
        "    xaxis=dict(\n",
        "        title='Doença',\n",
        "        title_font=dict(size=14),\n",
        "        tickfont=dict(size=12)\n",
        "    ),\n",
        "    yaxis=dict(\n",
        "        title=\"Frequência Cardíaca Máxima\",\n",
        "        title_font=dict(size=14),\n",
        "        tickfont=dict(size=12)\n",
        "    ),\n",
        "\n",
        "    legend=dict(\n",
        "        title=\"Doença Cardíaca: \",\n",
        "        orientation=\"h\",\n",
        "        x=0.5,\n",
        "        y = -0.2,\n",
        "        xanchor=\"center\",\n",
        "    ),\n",
        "\n",
        "    template=\"plotly_white\",\n",
        ")\n",
        "\n",
        "\n",
        "thalach_violin.show()\n"
      ]
    },
    {
      "cell_type": "code",
      "execution_count": 18,
      "metadata": {
        "id": "UUkXOhpEzWVD"
      },
      "outputs": [],
      "source": [
        "# Note\n",
        "\n",
        "thalach_note = '''\n",
        "- A variável thalach representa a frequência cardíaca máxima alcançada por um paciente durante o exercício, que é uma medida significativa em cardiologia. Diferente do esperado, no conjunto de dados temos uma correlação inversa, ou seja, valores mais baixos de frequência cardíaca são mais relevantes para a presença de doença cardíaca no paciente.\n",
        "\n",
        "- Isso ocorre pois uma frequência cardíaca mais baixa durante um teste de stress indica um má funcionamento na função cardíaca, indicando possível problema. Visivelmente no boxplot, os casos com pacientes com presença de doença cardíaca tem valores de frequência cardíaca máxima menores.\n",
        "'''"
      ]
    },
    {
      "cell_type": "markdown",
      "metadata": {
        "id": "l9tgOFsMVwTz"
      },
      "source": [
        "## Thal"
      ]
    },
    {
      "cell_type": "code",
      "execution_count": 19,
      "metadata": {
        "id": "ySDy9fVdVwT0"
      },
      "outputs": [],
      "source": [
        "thal_map = {\n",
        "    3: 'Normal',\n",
        "    6: 'Defeito Fixo',\n",
        "    7: 'Defeito Reversível'\n",
        "}\n",
        "\n",
        "df['thal_labels'] = df['thal'].map(thal_map)\n"
      ]
    },
    {
      "cell_type": "code",
      "execution_count": 20,
      "metadata": {
        "colab": {
          "base_uri": "https://localhost:8080/",
          "height": 542
        },
        "id": "lTbz3bFiVwT0",
        "outputId": "6f1549f2-cb58-413b-ff97-83f2c8e0d9cf"
      },
      "outputs": [
        {
          "data": {
            "application/vnd.plotly.v1+json": {
              "config": {
                "plotlyServerURL": "https://plot.ly"
              },
              "data": [
                {
                  "alignmentgroup": "True",
                  "hovertemplate": "Presença de Doença=Ausência<br>Talassemia=%{x}<br>thal_count=%{y}<extra></extra>",
                  "legendgroup": "Ausência",
                  "marker": {
                    "color": "#959672",
                    "pattern": {
                      "shape": ""
                    }
                  },
                  "name": "Ausência",
                  "offsetgroup": "Ausência",
                  "orientation": "v",
                  "showlegend": true,
                  "textposition": "auto",
                  "type": "bar",
                  "x": [
                    "Defeito Fixo",
                    "Defeito Reversível",
                    "Normal"
                  ],
                  "xaxis": "x",
                  "y": [
                    6,
                    28,
                    129
                  ],
                  "yaxis": "y"
                },
                {
                  "alignmentgroup": "True",
                  "hovertemplate": "Presença de Doença=Presença<br>Talassemia=%{x}<br>thal_count=%{y}<extra></extra>",
                  "legendgroup": "Presença",
                  "marker": {
                    "color": "#D9230F",
                    "pattern": {
                      "shape": ""
                    }
                  },
                  "name": "Presença",
                  "offsetgroup": "Presença",
                  "orientation": "v",
                  "showlegend": true,
                  "textposition": "auto",
                  "type": "bar",
                  "x": [
                    "Defeito Fixo",
                    "Defeito Reversível",
                    "Normal"
                  ],
                  "xaxis": "x",
                  "y": [
                    12,
                    89,
                    37
                  ],
                  "yaxis": "y"
                }
              ],
              "layout": {
                "barmode": "group",
                "font": {
                  "color": "#050609",
                  "family": "Fira Code, sans-serif",
                  "size": 14
                },
                "legend": {
                  "title": {
                    "text": "Doença"
                  },
                  "tracegroupgap": 0
                },
                "template": {
                  "data": {
                    "bar": [
                      {
                        "error_x": {
                          "color": "#2a3f5f"
                        },
                        "error_y": {
                          "color": "#2a3f5f"
                        },
                        "marker": {
                          "line": {
                            "color": "white",
                            "width": 0.5
                          },
                          "pattern": {
                            "fillmode": "overlay",
                            "size": 10,
                            "solidity": 0.2
                          }
                        },
                        "type": "bar"
                      }
                    ],
                    "barpolar": [
                      {
                        "marker": {
                          "line": {
                            "color": "white",
                            "width": 0.5
                          },
                          "pattern": {
                            "fillmode": "overlay",
                            "size": 10,
                            "solidity": 0.2
                          }
                        },
                        "type": "barpolar"
                      }
                    ],
                    "carpet": [
                      {
                        "aaxis": {
                          "endlinecolor": "#2a3f5f",
                          "gridcolor": "#C8D4E3",
                          "linecolor": "#C8D4E3",
                          "minorgridcolor": "#C8D4E3",
                          "startlinecolor": "#2a3f5f"
                        },
                        "baxis": {
                          "endlinecolor": "#2a3f5f",
                          "gridcolor": "#C8D4E3",
                          "linecolor": "#C8D4E3",
                          "minorgridcolor": "#C8D4E3",
                          "startlinecolor": "#2a3f5f"
                        },
                        "type": "carpet"
                      }
                    ],
                    "choropleth": [
                      {
                        "colorbar": {
                          "outlinewidth": 0,
                          "ticks": ""
                        },
                        "type": "choropleth"
                      }
                    ],
                    "contour": [
                      {
                        "colorbar": {
                          "outlinewidth": 0,
                          "ticks": ""
                        },
                        "colorscale": [
                          [
                            0,
                            "#0d0887"
                          ],
                          [
                            0.1111111111111111,
                            "#46039f"
                          ],
                          [
                            0.2222222222222222,
                            "#7201a8"
                          ],
                          [
                            0.3333333333333333,
                            "#9c179e"
                          ],
                          [
                            0.4444444444444444,
                            "#bd3786"
                          ],
                          [
                            0.5555555555555556,
                            "#d8576b"
                          ],
                          [
                            0.6666666666666666,
                            "#ed7953"
                          ],
                          [
                            0.7777777777777778,
                            "#fb9f3a"
                          ],
                          [
                            0.8888888888888888,
                            "#fdca26"
                          ],
                          [
                            1,
                            "#f0f921"
                          ]
                        ],
                        "type": "contour"
                      }
                    ],
                    "contourcarpet": [
                      {
                        "colorbar": {
                          "outlinewidth": 0,
                          "ticks": ""
                        },
                        "type": "contourcarpet"
                      }
                    ],
                    "heatmap": [
                      {
                        "colorbar": {
                          "outlinewidth": 0,
                          "ticks": ""
                        },
                        "colorscale": [
                          [
                            0,
                            "#0d0887"
                          ],
                          [
                            0.1111111111111111,
                            "#46039f"
                          ],
                          [
                            0.2222222222222222,
                            "#7201a8"
                          ],
                          [
                            0.3333333333333333,
                            "#9c179e"
                          ],
                          [
                            0.4444444444444444,
                            "#bd3786"
                          ],
                          [
                            0.5555555555555556,
                            "#d8576b"
                          ],
                          [
                            0.6666666666666666,
                            "#ed7953"
                          ],
                          [
                            0.7777777777777778,
                            "#fb9f3a"
                          ],
                          [
                            0.8888888888888888,
                            "#fdca26"
                          ],
                          [
                            1,
                            "#f0f921"
                          ]
                        ],
                        "type": "heatmap"
                      }
                    ],
                    "heatmapgl": [
                      {
                        "colorbar": {
                          "outlinewidth": 0,
                          "ticks": ""
                        },
                        "colorscale": [
                          [
                            0,
                            "#0d0887"
                          ],
                          [
                            0.1111111111111111,
                            "#46039f"
                          ],
                          [
                            0.2222222222222222,
                            "#7201a8"
                          ],
                          [
                            0.3333333333333333,
                            "#9c179e"
                          ],
                          [
                            0.4444444444444444,
                            "#bd3786"
                          ],
                          [
                            0.5555555555555556,
                            "#d8576b"
                          ],
                          [
                            0.6666666666666666,
                            "#ed7953"
                          ],
                          [
                            0.7777777777777778,
                            "#fb9f3a"
                          ],
                          [
                            0.8888888888888888,
                            "#fdca26"
                          ],
                          [
                            1,
                            "#f0f921"
                          ]
                        ],
                        "type": "heatmapgl"
                      }
                    ],
                    "histogram": [
                      {
                        "marker": {
                          "pattern": {
                            "fillmode": "overlay",
                            "size": 10,
                            "solidity": 0.2
                          }
                        },
                        "type": "histogram"
                      }
                    ],
                    "histogram2d": [
                      {
                        "colorbar": {
                          "outlinewidth": 0,
                          "ticks": ""
                        },
                        "colorscale": [
                          [
                            0,
                            "#0d0887"
                          ],
                          [
                            0.1111111111111111,
                            "#46039f"
                          ],
                          [
                            0.2222222222222222,
                            "#7201a8"
                          ],
                          [
                            0.3333333333333333,
                            "#9c179e"
                          ],
                          [
                            0.4444444444444444,
                            "#bd3786"
                          ],
                          [
                            0.5555555555555556,
                            "#d8576b"
                          ],
                          [
                            0.6666666666666666,
                            "#ed7953"
                          ],
                          [
                            0.7777777777777778,
                            "#fb9f3a"
                          ],
                          [
                            0.8888888888888888,
                            "#fdca26"
                          ],
                          [
                            1,
                            "#f0f921"
                          ]
                        ],
                        "type": "histogram2d"
                      }
                    ],
                    "histogram2dcontour": [
                      {
                        "colorbar": {
                          "outlinewidth": 0,
                          "ticks": ""
                        },
                        "colorscale": [
                          [
                            0,
                            "#0d0887"
                          ],
                          [
                            0.1111111111111111,
                            "#46039f"
                          ],
                          [
                            0.2222222222222222,
                            "#7201a8"
                          ],
                          [
                            0.3333333333333333,
                            "#9c179e"
                          ],
                          [
                            0.4444444444444444,
                            "#bd3786"
                          ],
                          [
                            0.5555555555555556,
                            "#d8576b"
                          ],
                          [
                            0.6666666666666666,
                            "#ed7953"
                          ],
                          [
                            0.7777777777777778,
                            "#fb9f3a"
                          ],
                          [
                            0.8888888888888888,
                            "#fdca26"
                          ],
                          [
                            1,
                            "#f0f921"
                          ]
                        ],
                        "type": "histogram2dcontour"
                      }
                    ],
                    "mesh3d": [
                      {
                        "colorbar": {
                          "outlinewidth": 0,
                          "ticks": ""
                        },
                        "type": "mesh3d"
                      }
                    ],
                    "parcoords": [
                      {
                        "line": {
                          "colorbar": {
                            "outlinewidth": 0,
                            "ticks": ""
                          }
                        },
                        "type": "parcoords"
                      }
                    ],
                    "pie": [
                      {
                        "automargin": true,
                        "type": "pie"
                      }
                    ],
                    "scatter": [
                      {
                        "fillpattern": {
                          "fillmode": "overlay",
                          "size": 10,
                          "solidity": 0.2
                        },
                        "type": "scatter"
                      }
                    ],
                    "scatter3d": [
                      {
                        "line": {
                          "colorbar": {
                            "outlinewidth": 0,
                            "ticks": ""
                          }
                        },
                        "marker": {
                          "colorbar": {
                            "outlinewidth": 0,
                            "ticks": ""
                          }
                        },
                        "type": "scatter3d"
                      }
                    ],
                    "scattercarpet": [
                      {
                        "marker": {
                          "colorbar": {
                            "outlinewidth": 0,
                            "ticks": ""
                          }
                        },
                        "type": "scattercarpet"
                      }
                    ],
                    "scattergeo": [
                      {
                        "marker": {
                          "colorbar": {
                            "outlinewidth": 0,
                            "ticks": ""
                          }
                        },
                        "type": "scattergeo"
                      }
                    ],
                    "scattergl": [
                      {
                        "marker": {
                          "colorbar": {
                            "outlinewidth": 0,
                            "ticks": ""
                          }
                        },
                        "type": "scattergl"
                      }
                    ],
                    "scattermapbox": [
                      {
                        "marker": {
                          "colorbar": {
                            "outlinewidth": 0,
                            "ticks": ""
                          }
                        },
                        "type": "scattermapbox"
                      }
                    ],
                    "scatterpolar": [
                      {
                        "marker": {
                          "colorbar": {
                            "outlinewidth": 0,
                            "ticks": ""
                          }
                        },
                        "type": "scatterpolar"
                      }
                    ],
                    "scatterpolargl": [
                      {
                        "marker": {
                          "colorbar": {
                            "outlinewidth": 0,
                            "ticks": ""
                          }
                        },
                        "type": "scatterpolargl"
                      }
                    ],
                    "scatterternary": [
                      {
                        "marker": {
                          "colorbar": {
                            "outlinewidth": 0,
                            "ticks": ""
                          }
                        },
                        "type": "scatterternary"
                      }
                    ],
                    "surface": [
                      {
                        "colorbar": {
                          "outlinewidth": 0,
                          "ticks": ""
                        },
                        "colorscale": [
                          [
                            0,
                            "#0d0887"
                          ],
                          [
                            0.1111111111111111,
                            "#46039f"
                          ],
                          [
                            0.2222222222222222,
                            "#7201a8"
                          ],
                          [
                            0.3333333333333333,
                            "#9c179e"
                          ],
                          [
                            0.4444444444444444,
                            "#bd3786"
                          ],
                          [
                            0.5555555555555556,
                            "#d8576b"
                          ],
                          [
                            0.6666666666666666,
                            "#ed7953"
                          ],
                          [
                            0.7777777777777778,
                            "#fb9f3a"
                          ],
                          [
                            0.8888888888888888,
                            "#fdca26"
                          ],
                          [
                            1,
                            "#f0f921"
                          ]
                        ],
                        "type": "surface"
                      }
                    ],
                    "table": [
                      {
                        "cells": {
                          "fill": {
                            "color": "#EBF0F8"
                          },
                          "line": {
                            "color": "white"
                          }
                        },
                        "header": {
                          "fill": {
                            "color": "#C8D4E3"
                          },
                          "line": {
                            "color": "white"
                          }
                        },
                        "type": "table"
                      }
                    ]
                  },
                  "layout": {
                    "annotationdefaults": {
                      "arrowcolor": "#2a3f5f",
                      "arrowhead": 0,
                      "arrowwidth": 1
                    },
                    "autotypenumbers": "strict",
                    "coloraxis": {
                      "colorbar": {
                        "outlinewidth": 0,
                        "ticks": ""
                      }
                    },
                    "colorscale": {
                      "diverging": [
                        [
                          0,
                          "#8e0152"
                        ],
                        [
                          0.1,
                          "#c51b7d"
                        ],
                        [
                          0.2,
                          "#de77ae"
                        ],
                        [
                          0.3,
                          "#f1b6da"
                        ],
                        [
                          0.4,
                          "#fde0ef"
                        ],
                        [
                          0.5,
                          "#f7f7f7"
                        ],
                        [
                          0.6,
                          "#e6f5d0"
                        ],
                        [
                          0.7,
                          "#b8e186"
                        ],
                        [
                          0.8,
                          "#7fbc41"
                        ],
                        [
                          0.9,
                          "#4d9221"
                        ],
                        [
                          1,
                          "#276419"
                        ]
                      ],
                      "sequential": [
                        [
                          0,
                          "#0d0887"
                        ],
                        [
                          0.1111111111111111,
                          "#46039f"
                        ],
                        [
                          0.2222222222222222,
                          "#7201a8"
                        ],
                        [
                          0.3333333333333333,
                          "#9c179e"
                        ],
                        [
                          0.4444444444444444,
                          "#bd3786"
                        ],
                        [
                          0.5555555555555556,
                          "#d8576b"
                        ],
                        [
                          0.6666666666666666,
                          "#ed7953"
                        ],
                        [
                          0.7777777777777778,
                          "#fb9f3a"
                        ],
                        [
                          0.8888888888888888,
                          "#fdca26"
                        ],
                        [
                          1,
                          "#f0f921"
                        ]
                      ],
                      "sequentialminus": [
                        [
                          0,
                          "#0d0887"
                        ],
                        [
                          0.1111111111111111,
                          "#46039f"
                        ],
                        [
                          0.2222222222222222,
                          "#7201a8"
                        ],
                        [
                          0.3333333333333333,
                          "#9c179e"
                        ],
                        [
                          0.4444444444444444,
                          "#bd3786"
                        ],
                        [
                          0.5555555555555556,
                          "#d8576b"
                        ],
                        [
                          0.6666666666666666,
                          "#ed7953"
                        ],
                        [
                          0.7777777777777778,
                          "#fb9f3a"
                        ],
                        [
                          0.8888888888888888,
                          "#fdca26"
                        ],
                        [
                          1,
                          "#f0f921"
                        ]
                      ]
                    },
                    "colorway": [
                      "#636efa",
                      "#EF553B",
                      "#00cc96",
                      "#ab63fa",
                      "#FFA15A",
                      "#19d3f3",
                      "#FF6692",
                      "#B6E880",
                      "#FF97FF",
                      "#FECB52"
                    ],
                    "font": {
                      "color": "#2a3f5f"
                    },
                    "geo": {
                      "bgcolor": "white",
                      "lakecolor": "white",
                      "landcolor": "white",
                      "showlakes": true,
                      "showland": true,
                      "subunitcolor": "#C8D4E3"
                    },
                    "hoverlabel": {
                      "align": "left"
                    },
                    "hovermode": "closest",
                    "mapbox": {
                      "style": "light"
                    },
                    "paper_bgcolor": "white",
                    "plot_bgcolor": "white",
                    "polar": {
                      "angularaxis": {
                        "gridcolor": "#EBF0F8",
                        "linecolor": "#EBF0F8",
                        "ticks": ""
                      },
                      "bgcolor": "white",
                      "radialaxis": {
                        "gridcolor": "#EBF0F8",
                        "linecolor": "#EBF0F8",
                        "ticks": ""
                      }
                    },
                    "scene": {
                      "xaxis": {
                        "backgroundcolor": "white",
                        "gridcolor": "#DFE8F3",
                        "gridwidth": 2,
                        "linecolor": "#EBF0F8",
                        "showbackground": true,
                        "ticks": "",
                        "zerolinecolor": "#EBF0F8"
                      },
                      "yaxis": {
                        "backgroundcolor": "white",
                        "gridcolor": "#DFE8F3",
                        "gridwidth": 2,
                        "linecolor": "#EBF0F8",
                        "showbackground": true,
                        "ticks": "",
                        "zerolinecolor": "#EBF0F8"
                      },
                      "zaxis": {
                        "backgroundcolor": "white",
                        "gridcolor": "#DFE8F3",
                        "gridwidth": 2,
                        "linecolor": "#EBF0F8",
                        "showbackground": true,
                        "ticks": "",
                        "zerolinecolor": "#EBF0F8"
                      }
                    },
                    "shapedefaults": {
                      "line": {
                        "color": "#2a3f5f"
                      }
                    },
                    "ternary": {
                      "aaxis": {
                        "gridcolor": "#DFE8F3",
                        "linecolor": "#A2B1C6",
                        "ticks": ""
                      },
                      "baxis": {
                        "gridcolor": "#DFE8F3",
                        "linecolor": "#A2B1C6",
                        "ticks": ""
                      },
                      "bgcolor": "white",
                      "caxis": {
                        "gridcolor": "#DFE8F3",
                        "linecolor": "#A2B1C6",
                        "ticks": ""
                      }
                    },
                    "title": {
                      "x": 0.05
                    },
                    "xaxis": {
                      "automargin": true,
                      "gridcolor": "#EBF0F8",
                      "linecolor": "#EBF0F8",
                      "ticks": "",
                      "title": {
                        "standoff": 15
                      },
                      "zerolinecolor": "#EBF0F8",
                      "zerolinewidth": 2
                    },
                    "yaxis": {
                      "automargin": true,
                      "gridcolor": "#EBF0F8",
                      "linecolor": "#EBF0F8",
                      "ticks": "",
                      "title": {
                        "standoff": 15
                      },
                      "zerolinecolor": "#EBF0F8",
                      "zerolinewidth": 2
                    }
                  }
                },
                "title": {
                  "font": {
                    "color": "#050609",
                    "size": 20
                  },
                  "text": "Talassemia por Doença"
                },
                "xaxis": {
                  "anchor": "y",
                  "domain": [
                    0,
                    1
                  ],
                  "title": {
                    "text": "Tipo de Talassemia"
                  }
                },
                "yaxis": {
                  "anchor": "x",
                  "domain": [
                    0,
                    1
                  ],
                  "title": {
                    "text": "Número de Casos"
                  }
                }
              }
            }
          },
          "metadata": {},
          "output_type": "display_data"
        }
      ],
      "source": [
        "thal_groupby = df.groupby(['thal_labels', 'target_labels']).size().reset_index(name='thal_count')\n",
        "\n",
        "\n",
        "thal_bar =  px.bar(thal_groupby,\n",
        "                   x = 'thal_labels',\n",
        "                   y = 'thal_count',\n",
        "                   color =  'target_labels',\n",
        "                   color_discrete_map = {'Presença': color_pal[3], 'Ausência': color_pal[2]},\n",
        "                   barmode='group',\n",
        "                   labels={'thal_labels': 'Talassemia', 'target_labels': 'Presença de Doença'},\n",
        "                   title = 'Talassemia por Doença',\n",
        "                    )\n",
        "\n",
        "# Layout\n",
        "\n",
        "thal_bar.update_layout(\n",
        "\n",
        "    font=dict(family =\"Fira Code, sans-serif\", color = color_pal[0], size=14),\n",
        "    title_font= dict(size = 20, color = color_pal[0]),\n",
        "\n",
        "    xaxis_title = \"Tipo de Talassemia\",\n",
        "    yaxis_title = \"Número de Casos\",\n",
        "    legend_title = 'Doença',\n",
        "    template=\"plotly_white\",\n",
        ")\n",
        "\n",
        "thal_bar.show()"
      ]
    },
    {
      "cell_type": "code",
      "execution_count": 21,
      "metadata": {
        "colab": {
          "base_uri": "https://localhost:8080/",
          "height": 542
        },
        "id": "w60penjYVwT1",
        "outputId": "0a9eff54-d398-4692-8f0c-d45ba36237e0"
      },
      "outputs": [
        {
          "data": {
            "application/vnd.plotly.v1+json": {
              "config": {
                "plotlyServerURL": "https://plot.ly"
              },
              "data": [
                {
                  "customdata": [
                    [
                      "Defeito Fixo"
                    ],
                    [
                      "Defeito Fixo"
                    ],
                    [
                      "Defeito Reversível"
                    ],
                    [
                      "Defeito Reversível"
                    ],
                    [
                      "Normal"
                    ],
                    [
                      "Normal"
                    ]
                  ],
                  "domain": {
                    "x": [
                      0,
                      1
                    ],
                    "y": [
                      0,
                      1
                    ]
                  },
                  "hovertemplate": "Talassemia=%{customdata[0]}<br>Num Pacientes=%{value}<extra></extra>",
                  "labels": [
                    "Defeito Fixo",
                    "Defeito Fixo",
                    "Defeito Reversível",
                    "Defeito Reversível",
                    "Normal",
                    "Normal"
                  ],
                  "legendgroup": "",
                  "marker": {
                    "colors": [
                      "#050609",
                      "#050609",
                      "#959672",
                      "#959672",
                      "#D9230F",
                      "#D9230F"
                    ]
                  },
                  "name": "",
                  "showlegend": true,
                  "textinfo": "percent",
                  "type": "pie",
                  "values": [
                    6,
                    12,
                    28,
                    89,
                    129,
                    37
                  ]
                }
              ],
              "layout": {
                "font": {
                  "color": "#050609",
                  "family": "Fira Code, sans-serif",
                  "size": 12
                },
                "legend": {
                  "orientation": "h",
                  "title": {
                    "text": "Talassemia"
                  },
                  "tracegroupgap": 0,
                  "x": 0.5,
                  "xanchor": "center"
                },
                "margin": {
                  "t": 60
                },
                "template": {
                  "data": {
                    "bar": [
                      {
                        "error_x": {
                          "color": "#2a3f5f"
                        },
                        "error_y": {
                          "color": "#2a3f5f"
                        },
                        "marker": {
                          "line": {
                            "color": "#E5ECF6",
                            "width": 0.5
                          },
                          "pattern": {
                            "fillmode": "overlay",
                            "size": 10,
                            "solidity": 0.2
                          }
                        },
                        "type": "bar"
                      }
                    ],
                    "barpolar": [
                      {
                        "marker": {
                          "line": {
                            "color": "#E5ECF6",
                            "width": 0.5
                          },
                          "pattern": {
                            "fillmode": "overlay",
                            "size": 10,
                            "solidity": 0.2
                          }
                        },
                        "type": "barpolar"
                      }
                    ],
                    "carpet": [
                      {
                        "aaxis": {
                          "endlinecolor": "#2a3f5f",
                          "gridcolor": "white",
                          "linecolor": "white",
                          "minorgridcolor": "white",
                          "startlinecolor": "#2a3f5f"
                        },
                        "baxis": {
                          "endlinecolor": "#2a3f5f",
                          "gridcolor": "white",
                          "linecolor": "white",
                          "minorgridcolor": "white",
                          "startlinecolor": "#2a3f5f"
                        },
                        "type": "carpet"
                      }
                    ],
                    "choropleth": [
                      {
                        "colorbar": {
                          "outlinewidth": 0,
                          "ticks": ""
                        },
                        "type": "choropleth"
                      }
                    ],
                    "contour": [
                      {
                        "colorbar": {
                          "outlinewidth": 0,
                          "ticks": ""
                        },
                        "colorscale": [
                          [
                            0,
                            "#0d0887"
                          ],
                          [
                            0.1111111111111111,
                            "#46039f"
                          ],
                          [
                            0.2222222222222222,
                            "#7201a8"
                          ],
                          [
                            0.3333333333333333,
                            "#9c179e"
                          ],
                          [
                            0.4444444444444444,
                            "#bd3786"
                          ],
                          [
                            0.5555555555555556,
                            "#d8576b"
                          ],
                          [
                            0.6666666666666666,
                            "#ed7953"
                          ],
                          [
                            0.7777777777777778,
                            "#fb9f3a"
                          ],
                          [
                            0.8888888888888888,
                            "#fdca26"
                          ],
                          [
                            1,
                            "#f0f921"
                          ]
                        ],
                        "type": "contour"
                      }
                    ],
                    "contourcarpet": [
                      {
                        "colorbar": {
                          "outlinewidth": 0,
                          "ticks": ""
                        },
                        "type": "contourcarpet"
                      }
                    ],
                    "heatmap": [
                      {
                        "colorbar": {
                          "outlinewidth": 0,
                          "ticks": ""
                        },
                        "colorscale": [
                          [
                            0,
                            "#0d0887"
                          ],
                          [
                            0.1111111111111111,
                            "#46039f"
                          ],
                          [
                            0.2222222222222222,
                            "#7201a8"
                          ],
                          [
                            0.3333333333333333,
                            "#9c179e"
                          ],
                          [
                            0.4444444444444444,
                            "#bd3786"
                          ],
                          [
                            0.5555555555555556,
                            "#d8576b"
                          ],
                          [
                            0.6666666666666666,
                            "#ed7953"
                          ],
                          [
                            0.7777777777777778,
                            "#fb9f3a"
                          ],
                          [
                            0.8888888888888888,
                            "#fdca26"
                          ],
                          [
                            1,
                            "#f0f921"
                          ]
                        ],
                        "type": "heatmap"
                      }
                    ],
                    "heatmapgl": [
                      {
                        "colorbar": {
                          "outlinewidth": 0,
                          "ticks": ""
                        },
                        "colorscale": [
                          [
                            0,
                            "#0d0887"
                          ],
                          [
                            0.1111111111111111,
                            "#46039f"
                          ],
                          [
                            0.2222222222222222,
                            "#7201a8"
                          ],
                          [
                            0.3333333333333333,
                            "#9c179e"
                          ],
                          [
                            0.4444444444444444,
                            "#bd3786"
                          ],
                          [
                            0.5555555555555556,
                            "#d8576b"
                          ],
                          [
                            0.6666666666666666,
                            "#ed7953"
                          ],
                          [
                            0.7777777777777778,
                            "#fb9f3a"
                          ],
                          [
                            0.8888888888888888,
                            "#fdca26"
                          ],
                          [
                            1,
                            "#f0f921"
                          ]
                        ],
                        "type": "heatmapgl"
                      }
                    ],
                    "histogram": [
                      {
                        "marker": {
                          "pattern": {
                            "fillmode": "overlay",
                            "size": 10,
                            "solidity": 0.2
                          }
                        },
                        "type": "histogram"
                      }
                    ],
                    "histogram2d": [
                      {
                        "colorbar": {
                          "outlinewidth": 0,
                          "ticks": ""
                        },
                        "colorscale": [
                          [
                            0,
                            "#0d0887"
                          ],
                          [
                            0.1111111111111111,
                            "#46039f"
                          ],
                          [
                            0.2222222222222222,
                            "#7201a8"
                          ],
                          [
                            0.3333333333333333,
                            "#9c179e"
                          ],
                          [
                            0.4444444444444444,
                            "#bd3786"
                          ],
                          [
                            0.5555555555555556,
                            "#d8576b"
                          ],
                          [
                            0.6666666666666666,
                            "#ed7953"
                          ],
                          [
                            0.7777777777777778,
                            "#fb9f3a"
                          ],
                          [
                            0.8888888888888888,
                            "#fdca26"
                          ],
                          [
                            1,
                            "#f0f921"
                          ]
                        ],
                        "type": "histogram2d"
                      }
                    ],
                    "histogram2dcontour": [
                      {
                        "colorbar": {
                          "outlinewidth": 0,
                          "ticks": ""
                        },
                        "colorscale": [
                          [
                            0,
                            "#0d0887"
                          ],
                          [
                            0.1111111111111111,
                            "#46039f"
                          ],
                          [
                            0.2222222222222222,
                            "#7201a8"
                          ],
                          [
                            0.3333333333333333,
                            "#9c179e"
                          ],
                          [
                            0.4444444444444444,
                            "#bd3786"
                          ],
                          [
                            0.5555555555555556,
                            "#d8576b"
                          ],
                          [
                            0.6666666666666666,
                            "#ed7953"
                          ],
                          [
                            0.7777777777777778,
                            "#fb9f3a"
                          ],
                          [
                            0.8888888888888888,
                            "#fdca26"
                          ],
                          [
                            1,
                            "#f0f921"
                          ]
                        ],
                        "type": "histogram2dcontour"
                      }
                    ],
                    "mesh3d": [
                      {
                        "colorbar": {
                          "outlinewidth": 0,
                          "ticks": ""
                        },
                        "type": "mesh3d"
                      }
                    ],
                    "parcoords": [
                      {
                        "line": {
                          "colorbar": {
                            "outlinewidth": 0,
                            "ticks": ""
                          }
                        },
                        "type": "parcoords"
                      }
                    ],
                    "pie": [
                      {
                        "automargin": true,
                        "type": "pie"
                      }
                    ],
                    "scatter": [
                      {
                        "fillpattern": {
                          "fillmode": "overlay",
                          "size": 10,
                          "solidity": 0.2
                        },
                        "type": "scatter"
                      }
                    ],
                    "scatter3d": [
                      {
                        "line": {
                          "colorbar": {
                            "outlinewidth": 0,
                            "ticks": ""
                          }
                        },
                        "marker": {
                          "colorbar": {
                            "outlinewidth": 0,
                            "ticks": ""
                          }
                        },
                        "type": "scatter3d"
                      }
                    ],
                    "scattercarpet": [
                      {
                        "marker": {
                          "colorbar": {
                            "outlinewidth": 0,
                            "ticks": ""
                          }
                        },
                        "type": "scattercarpet"
                      }
                    ],
                    "scattergeo": [
                      {
                        "marker": {
                          "colorbar": {
                            "outlinewidth": 0,
                            "ticks": ""
                          }
                        },
                        "type": "scattergeo"
                      }
                    ],
                    "scattergl": [
                      {
                        "marker": {
                          "colorbar": {
                            "outlinewidth": 0,
                            "ticks": ""
                          }
                        },
                        "type": "scattergl"
                      }
                    ],
                    "scattermapbox": [
                      {
                        "marker": {
                          "colorbar": {
                            "outlinewidth": 0,
                            "ticks": ""
                          }
                        },
                        "type": "scattermapbox"
                      }
                    ],
                    "scatterpolar": [
                      {
                        "marker": {
                          "colorbar": {
                            "outlinewidth": 0,
                            "ticks": ""
                          }
                        },
                        "type": "scatterpolar"
                      }
                    ],
                    "scatterpolargl": [
                      {
                        "marker": {
                          "colorbar": {
                            "outlinewidth": 0,
                            "ticks": ""
                          }
                        },
                        "type": "scatterpolargl"
                      }
                    ],
                    "scatterternary": [
                      {
                        "marker": {
                          "colorbar": {
                            "outlinewidth": 0,
                            "ticks": ""
                          }
                        },
                        "type": "scatterternary"
                      }
                    ],
                    "surface": [
                      {
                        "colorbar": {
                          "outlinewidth": 0,
                          "ticks": ""
                        },
                        "colorscale": [
                          [
                            0,
                            "#0d0887"
                          ],
                          [
                            0.1111111111111111,
                            "#46039f"
                          ],
                          [
                            0.2222222222222222,
                            "#7201a8"
                          ],
                          [
                            0.3333333333333333,
                            "#9c179e"
                          ],
                          [
                            0.4444444444444444,
                            "#bd3786"
                          ],
                          [
                            0.5555555555555556,
                            "#d8576b"
                          ],
                          [
                            0.6666666666666666,
                            "#ed7953"
                          ],
                          [
                            0.7777777777777778,
                            "#fb9f3a"
                          ],
                          [
                            0.8888888888888888,
                            "#fdca26"
                          ],
                          [
                            1,
                            "#f0f921"
                          ]
                        ],
                        "type": "surface"
                      }
                    ],
                    "table": [
                      {
                        "cells": {
                          "fill": {
                            "color": "#EBF0F8"
                          },
                          "line": {
                            "color": "white"
                          }
                        },
                        "header": {
                          "fill": {
                            "color": "#C8D4E3"
                          },
                          "line": {
                            "color": "white"
                          }
                        },
                        "type": "table"
                      }
                    ]
                  },
                  "layout": {
                    "annotationdefaults": {
                      "arrowcolor": "#2a3f5f",
                      "arrowhead": 0,
                      "arrowwidth": 1
                    },
                    "autotypenumbers": "strict",
                    "coloraxis": {
                      "colorbar": {
                        "outlinewidth": 0,
                        "ticks": ""
                      }
                    },
                    "colorscale": {
                      "diverging": [
                        [
                          0,
                          "#8e0152"
                        ],
                        [
                          0.1,
                          "#c51b7d"
                        ],
                        [
                          0.2,
                          "#de77ae"
                        ],
                        [
                          0.3,
                          "#f1b6da"
                        ],
                        [
                          0.4,
                          "#fde0ef"
                        ],
                        [
                          0.5,
                          "#f7f7f7"
                        ],
                        [
                          0.6,
                          "#e6f5d0"
                        ],
                        [
                          0.7,
                          "#b8e186"
                        ],
                        [
                          0.8,
                          "#7fbc41"
                        ],
                        [
                          0.9,
                          "#4d9221"
                        ],
                        [
                          1,
                          "#276419"
                        ]
                      ],
                      "sequential": [
                        [
                          0,
                          "#0d0887"
                        ],
                        [
                          0.1111111111111111,
                          "#46039f"
                        ],
                        [
                          0.2222222222222222,
                          "#7201a8"
                        ],
                        [
                          0.3333333333333333,
                          "#9c179e"
                        ],
                        [
                          0.4444444444444444,
                          "#bd3786"
                        ],
                        [
                          0.5555555555555556,
                          "#d8576b"
                        ],
                        [
                          0.6666666666666666,
                          "#ed7953"
                        ],
                        [
                          0.7777777777777778,
                          "#fb9f3a"
                        ],
                        [
                          0.8888888888888888,
                          "#fdca26"
                        ],
                        [
                          1,
                          "#f0f921"
                        ]
                      ],
                      "sequentialminus": [
                        [
                          0,
                          "#0d0887"
                        ],
                        [
                          0.1111111111111111,
                          "#46039f"
                        ],
                        [
                          0.2222222222222222,
                          "#7201a8"
                        ],
                        [
                          0.3333333333333333,
                          "#9c179e"
                        ],
                        [
                          0.4444444444444444,
                          "#bd3786"
                        ],
                        [
                          0.5555555555555556,
                          "#d8576b"
                        ],
                        [
                          0.6666666666666666,
                          "#ed7953"
                        ],
                        [
                          0.7777777777777778,
                          "#fb9f3a"
                        ],
                        [
                          0.8888888888888888,
                          "#fdca26"
                        ],
                        [
                          1,
                          "#f0f921"
                        ]
                      ]
                    },
                    "colorway": [
                      "#636efa",
                      "#EF553B",
                      "#00cc96",
                      "#ab63fa",
                      "#FFA15A",
                      "#19d3f3",
                      "#FF6692",
                      "#B6E880",
                      "#FF97FF",
                      "#FECB52"
                    ],
                    "font": {
                      "color": "#050609",
                      "family": "Fira Code, sans-serif",
                      "size": 14
                    },
                    "geo": {
                      "bgcolor": "white",
                      "lakecolor": "white",
                      "landcolor": "#E5ECF6",
                      "showlakes": true,
                      "showland": true,
                      "subunitcolor": "white"
                    },
                    "hoverlabel": {
                      "align": "left"
                    },
                    "hovermode": "closest",
                    "mapbox": {
                      "style": "light"
                    },
                    "paper_bgcolor": "white",
                    "plot_bgcolor": "#E5ECF6",
                    "polar": {
                      "angularaxis": {
                        "gridcolor": "white",
                        "linecolor": "white",
                        "ticks": ""
                      },
                      "bgcolor": "#E5ECF6",
                      "radialaxis": {
                        "gridcolor": "white",
                        "linecolor": "white",
                        "ticks": ""
                      }
                    },
                    "scene": {
                      "xaxis": {
                        "backgroundcolor": "#E5ECF6",
                        "gridcolor": "white",
                        "gridwidth": 2,
                        "linecolor": "white",
                        "showbackground": true,
                        "ticks": "",
                        "zerolinecolor": "white"
                      },
                      "yaxis": {
                        "backgroundcolor": "#E5ECF6",
                        "gridcolor": "white",
                        "gridwidth": 2,
                        "linecolor": "white",
                        "showbackground": true,
                        "ticks": "",
                        "zerolinecolor": "white"
                      },
                      "zaxis": {
                        "backgroundcolor": "#E5ECF6",
                        "gridcolor": "white",
                        "gridwidth": 2,
                        "linecolor": "white",
                        "showbackground": true,
                        "ticks": "",
                        "zerolinecolor": "white"
                      }
                    },
                    "shapedefaults": {
                      "line": {
                        "color": "#2a3f5f"
                      }
                    },
                    "ternary": {
                      "aaxis": {
                        "gridcolor": "white",
                        "linecolor": "white",
                        "ticks": ""
                      },
                      "baxis": {
                        "gridcolor": "white",
                        "linecolor": "white",
                        "ticks": ""
                      },
                      "bgcolor": "#E5ECF6",
                      "caxis": {
                        "gridcolor": "white",
                        "linecolor": "white",
                        "ticks": ""
                      }
                    },
                    "title": {
                      "x": 0.05
                    },
                    "xaxis": {
                      "automargin": true,
                      "gridcolor": "white",
                      "linecolor": "white",
                      "ticks": "",
                      "title": {
                        "standoff": 15
                      },
                      "zerolinecolor": "white",
                      "zerolinewidth": 2
                    },
                    "yaxis": {
                      "automargin": true,
                      "gridcolor": "white",
                      "linecolor": "white",
                      "ticks": "",
                      "title": {
                        "standoff": 15
                      },
                      "zerolinecolor": "white",
                      "zerolinewidth": 2
                    }
                  }
                }
              }
            }
          },
          "metadata": {},
          "output_type": "display_data"
        }
      ],
      "source": [
        "thal_pizza = px.pie(\n",
        "    thal_groupby,\n",
        "    values='thal_count',\n",
        "    names='thal_labels',\n",
        "    color='thal_labels',\n",
        "    color_discrete_map = {'Defeito Fixo': color_pal[0], 'Defeito Reversível': color_pal[2], 'Normal' : color_pal[3]},\n",
        "    labels = {'thal_labels': 'Talassemia', 'thal_count': 'Num Pacientes'},\n",
        "\n",
        "\n",
        ")\n",
        "\n",
        "thal_pizza.update_traces(textinfo='percent')\n",
        "\n",
        "# Layout\n",
        "\n",
        "thal_pizza.update_layout(\n",
        "\n",
        "    font=dict(family =\"Fira Code, sans-serif\", color = color_pal[0], size=12),\n",
        "\n",
        "    legend=dict(\n",
        "        title=\"Talassemia\",\n",
        "        orientation = 'h',\n",
        "        xanchor=\"center\",\n",
        "        x=0.5,\n",
        "    ),\n",
        ")\n",
        "\n",
        "\n",
        "thal_pizza.show()"
      ]
    },
    {
      "cell_type": "code",
      "execution_count": 22,
      "metadata": {
        "id": "WWWDvef_VwT2"
      },
      "outputs": [],
      "source": [
        "thal_note = '''\n",
        "    - A variável Thal, no contexto desse conjunto de dados, representa diferentes tipos de talassemia, uma condição genética que afeta a capacidade do sangue de transportar oxigênio.\n",
        "\n",
        "    - Observando os dados no conjunto, pode-se notar que a condição do defeito reversível — que indica a presença de regiões do coração que, sob esforço físico, recebem sangue de forma inadequada, mas essa condição pode ser revertida em repouso — tem o maior número de casos de doença cardíaca confirmada.\n",
        "\n",
        "'''"
      ]
    },
    {
      "cell_type": "markdown",
      "metadata": {
        "id": "anVQ3PsKTZTE"
      },
      "source": [
        "# Componentes"
      ]
    },
    {
      "cell_type": "code",
      "execution_count": 23,
      "metadata": {
        "id": "xavCsb9WVwT4"
      },
      "outputs": [],
      "source": [
        "styles = {\n",
        "\n",
        "    'card_header' : {'backgroundColor': '#FAF7F0',\n",
        "                      'color' : '#1A1A19'},\n",
        "\n",
        "    'row': {'marginBottom': '20px',\n",
        "            'padding': '12px',\n",
        "            'marginLeft': '10px',\n",
        "            'marginRight': '10px'\n",
        "            },\n",
        "\n",
        "    'section': {'padding': '20px',\n",
        "                'borderRadius': '12px',\n",
        "                'marginBottom': '32px',\n",
        "                'backgroundColor': '#050609',\n",
        "                'boxShadow': '0px 4px 8px rgba(0, 0, 0, 0.1)',\n",
        "                'transition': 'box-shadow 0.3s ease-in-out',\n",
        "                'font-family' : 'Fira Code, sans-serif'\n",
        "            },\n",
        "\n",
        "    'anotacoes': {'padding' : '32px'},\n",
        "\n",
        "\n",
        "    'notes': {'color': 'white',\n",
        "             'font-family': 'Fira Code, sans-serif',\n",
        "             'font-size': '16px',\n",
        "             'line-height': '1.6',\n",
        "             'margin': '0 auto',\n",
        "             'padding': '12px',\n",
        "             'background-color': '#2c2f33',\n",
        "             'border-radius': '8px',\n",
        "             'box-shadow': '0px 0px 10px rgba(0, 0, 0, 0.2)',\n",
        "             'text-align': 'justify'},\n",
        "\n",
        "\n",
        "    'notes_title' : {'font-family': 'FiraCode, sans-serif',\n",
        "                    'font-weight': 'bold',\n",
        "                    'text-align': 'center',\n",
        "                    'color': '#FFFFFF',\n",
        "                    'margin-bottom': '15px'}\n",
        "\n",
        "}"
      ]
    },
    {
      "cell_type": "code",
      "execution_count": 24,
      "metadata": {
        "id": "tY0IWFteVwT4"
      },
      "outputs": [],
      "source": [
        "card1 = [\n",
        "    dbc.CardHeader('Registros', className='card_header', style=styles['card_header']),\n",
        "    dbc.CardBody(\n",
        "        [\n",
        "            html.H3('303', className=\"card-info\"),\n",
        "            html.P('Pacientes registrados no dataset', className=\"card-text\")\n",
        "        ]\n",
        "    ),\n",
        "]\n",
        "\n",
        "card2 = [\n",
        "    dbc.CardHeader('Atributos',  className='card_header', style=styles['card_header']),\n",
        "    dbc.CardBody(\n",
        "        [\n",
        "            html.H3('14', className=\"card-info\"),\n",
        "            html.P('Classes presentes no dataset', className=\"card-text\")\n",
        "        ]\n",
        "    ),\n",
        "]\n",
        "\n",
        "card3 = [\n",
        "    dbc.CardHeader('Conjunto de Dados',  className='card_header', style=styles['card_header']),\n",
        "    dbc.CardBody(\n",
        "        [\n",
        "            html.H3('Cleveland', className=\"card-info\"),\n",
        "            html.P('Heart Disease UCI', className=\"card-text\")\n",
        "        ])\n",
        "]"
      ]
    },
    {
      "cell_type": "code",
      "execution_count": 25,
      "metadata": {
        "id": "u2J6DDXOVwT5"
      },
      "outputs": [],
      "source": [
        "dropdown_menu = [\n",
        "    dbc.CardHeader(\"Escolha uma Opção\", className= 'card_header'),\n",
        "    dbc.CardBody([\n",
        "        dcc.Dropdown(\n",
        "            id='dropdown',\n",
        "            options=[\n",
        "                {'label': 'Dor no Peito', 'value': 'cp'},\n",
        "                {'label': 'Idade', 'value': 'age'},\n",
        "                {'label': 'Freq. Cardíaca', 'value': 'thalach'},\n",
        "                {'label': 'Talassemia', 'value': 'thal'},\n",
        "                {'label': 'Gênero', 'value': 'sex'}\n",
        "            ],\n",
        "            value='cp',\n",
        "            style= {'backgroundColor': '#F9F9F9', 'color': '#333333'}),\n",
        "])]"
      ]
    },
    {
      "cell_type": "markdown",
      "metadata": {
        "id": "zBAnJc6uAtDw"
      },
      "source": [
        "# Aplicação"
      ]
    },
    {
      "cell_type": "code",
      "execution_count": null,
      "metadata": {
        "id": "aLANtix3_wbW"
      },
      "outputs": [
        {
          "data": {
            "text/html": [
              "\n",
              "        <iframe\n",
              "            width=\"100%\"\n",
              "            height=\"650\"\n",
              "            src=\"http://127.0.0.1:8050/\"\n",
              "            frameborder=\"0\"\n",
              "            allowfullscreen\n",
              "            \n",
              "        ></iframe>\n",
              "        "
            ],
            "text/plain": [
              "<IPython.lib.display.IFrame at 0x1722f089130>"
            ]
          },
          "metadata": {},
          "output_type": "display_data"
        }
      ],
      "source": [
        "app = dash.Dash(__name__, external_stylesheets=[dbc.themes.SIMPLEX])\n",
        "\n",
        "\n",
        "# Layout\n",
        "\n",
        "# Cards\n",
        "\n",
        "app.layout = dbc.Container([\n",
        "\n",
        "    html.Div([\n",
        "        dbc.Row([\n",
        "\n",
        "            dbc.Col(dbc.Card(card1, color='primary', inverse = True, style = {'border': 'none'}), width = 3),\n",
        "            dbc.Col(dbc.Card(card2, color='primary', inverse = True, style = {'border': 'none'}), width = 3),\n",
        "            dbc.Col(dbc.Card(card3, color='primary', inverse = True, style = {'border': 'none'}), width = 6),\n",
        "           # dbc.Col(dbc.Card(card_content, color=\"primary\", inverse=True, style=styles['card_body']), width= 2),\n",
        "\n",
        "        ], style=styles['row']),\n",
        "    ], style=styles['section']),\n",
        "\n",
        "# Dropdown & Filtros\n",
        "\n",
        "    html.Div([\n",
        "        dbc.Row([\n",
        "            dbc.Col(dbc.Card(dropdown_menu), width = 4),\n",
        "        ], style=styles['row']),\n",
        "    ], style=styles['section']),\n",
        "\n",
        "    # Linha com gráficos\n",
        "    html.Div([\n",
        "        dbc.Row([\n",
        "            dbc.Col(dcc.Graph(id='grafico-esquerdo'), id='col-esquerdo', width=8),\n",
        "            dbc.Col(dcc.Graph(id='grafico-direito'), id='col-direito', width = 4),\n",
        "        ], style=styles['row']),\n",
        "    ], style=styles['section']),\n",
        "\n",
        "    # Área para anotações\n",
        "\n",
        "    html.Div([\n",
        "        dbc.Row([\n",
        "            html.H2('Anotações', className='notes_title', style=styles['notes_title']),\n",
        "            dbc.Col(dcc.Markdown(id='anotacoes', className = 'anotacoes', style={'color': 'white'}), width=12),\n",
        "        ], style=styles['row']),\n",
        "    ], style=styles['section']),\n",
        "\n",
        "\n",
        "\n",
        "\n",
        "], fluid=True, style={'backgroundColor': '#212121', 'padding': '40px'})\n",
        "\n",
        "# Callback para atualizar os gráficos e anotações com base na variável selecionada\n",
        "@app.callback(\n",
        "    [Output('grafico-esquerdo', 'figure'),\n",
        "     Output('grafico-direito', 'figure'),\n",
        "     Output('anotacoes', 'children'),\n",
        "     Output('col-esquerdo', 'width'),\n",
        "     Output('col-direito', 'width')],\n",
        "\n",
        "    [Input('dropdown', 'value')]\n",
        ")\n",
        "\n",
        "\n",
        "def atualizar_conteudo(variavel):\n",
        "\n",
        "\n",
        "    #size default\n",
        "    fig_esq_size = 8\n",
        "    fig_dir_size = 4\n",
        "\n",
        "    # AGE - DONE\n",
        "\n",
        "    if variavel == 'age':\n",
        "\n",
        "        fig_esquerdo = age_sex\n",
        "        fig_direito = px.histogram(df, x=\"age\", color='target')\n",
        "        anotacao = age_note\n",
        "        fig_esq_size = 8\n",
        "        fig_dir_size = 4\n",
        "\n",
        "\n",
        "    # CP - DONE\n",
        "\n",
        "    elif variavel == 'cp':\n",
        "      fig_esquerdo = cp_sex\n",
        "      fig_direito = cp_pizza\n",
        "      anotacao = cp_note\n",
        "\n",
        "\n",
        "    # THALACH - DONE\n",
        "\n",
        "    elif variavel == 'thalach':\n",
        "        fig_esquerdo = thalach_box\n",
        "        fig_direito = thalach_violin\n",
        "        anotacao = thalach_note\n",
        "        fig_esq_size = 7\n",
        "        fig_dir_size = 5\n",
        "\n",
        "    # THAL\n",
        "\n",
        "    elif variavel == 'thal':\n",
        "        fig_esquerdo = thal_bar\n",
        "        fig_direito = thal_pizza\n",
        "        anotacao = thal_note\n",
        "        fig_esq_size = 8\n",
        "        fig_dir_size = 4\n",
        "\n",
        "    # SEX - DONE\n",
        "\n",
        "    elif variavel == 'sex':\n",
        "        fig_esquerdo = sex_bar\n",
        "        fig_direito = sex_donut\n",
        "        anotacao = sex_note\n",
        "\n",
        "    return fig_esquerdo, fig_direito, anotacao, fig_esq_size, fig_dir_size\n",
        "\n",
        "# Rodar o servidor\n",
        "if __name__ == '__main__':\n",
        "    app.run_server(debug=True)"
      ]
    }
  ],
  "metadata": {
    "colab": {
      "provenance": []
    },
    "kernelspec": {
      "display_name": "base",
      "language": "python",
      "name": "python3"
    },
    "language_info": {
      "codemirror_mode": {
        "name": "ipython",
        "version": 3
      },
      "file_extension": ".py",
      "mimetype": "text/x-python",
      "name": "python",
      "nbconvert_exporter": "python",
      "pygments_lexer": "ipython3",
      "version": "3.9.19"
    }
  },
  "nbformat": 4,
  "nbformat_minor": 0
}
